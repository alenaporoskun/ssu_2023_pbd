{
 "cells": [
  {
   "cell_type": "code",
   "execution_count": 1,
   "id": "056ff0d8-d2e6-4cd4-bd1f-2e37f3b42d6f",
   "metadata": {
    "tags": []
   },
   "outputs": [],
   "source": [
    "import os\n",
    "import numpy as np\n",
    "import pandas as pd\n",
    "import json\n",
    "import matplotlib.pyplot as plt\n",
    "from IPython.display import display, HTML"
   ]
  },
  {
   "cell_type": "markdown",
   "id": "9a4d9728-52d1-40b0-a59b-3dc72cf464e3",
   "metadata": {},
   "source": [
    "Переглянемо список 3 країн, які необхідні згідно з моїм варіантом."
   ]
  },
  {
   "cell_type": "code",
   "execution_count": 2,
   "id": "cb9129b9-80af-42ec-84a2-e4bb0791b18e",
   "metadata": {
    "tags": []
   },
   "outputs": [
    {
     "data": {
      "text/html": [
       "<div>\n",
       "<style scoped>\n",
       "    .dataframe tbody tr th:only-of-type {\n",
       "        vertical-align: middle;\n",
       "    }\n",
       "\n",
       "    .dataframe tbody tr th {\n",
       "        vertical-align: top;\n",
       "    }\n",
       "\n",
       "    .dataframe thead th {\n",
       "        text-align: right;\n",
       "    }\n",
       "</style>\n",
       "<table border=\"1\" class=\"dataframe\">\n",
       "  <thead>\n",
       "    <tr style=\"text-align: right;\">\n",
       "      <th></th>\n",
       "      <th>Країна 1</th>\n",
       "      <th>Країна 2</th>\n",
       "      <th>Країна 3</th>\n",
       "    </tr>\n",
       "  </thead>\n",
       "  <tbody>\n",
       "    <tr>\n",
       "      <th>Аніщенко Ігор</th>\n",
       "      <td>Lithuania</td>\n",
       "      <td>Niger</td>\n",
       "      <td>United Kingdom</td>\n",
       "    </tr>\n",
       "    <tr>\n",
       "      <th>Димов Максим</th>\n",
       "      <td>Belarus</td>\n",
       "      <td>Honduras</td>\n",
       "      <td>Curacao</td>\n",
       "    </tr>\n",
       "    <tr>\n",
       "      <th>Єрмоленко Назар</th>\n",
       "      <td>Chile</td>\n",
       "      <td>New Zealand</td>\n",
       "      <td>Netherlands</td>\n",
       "    </tr>\n",
       "    <tr>\n",
       "      <th>Жигамовський Нікіта</th>\n",
       "      <td>South Sudan</td>\n",
       "      <td>Mexico</td>\n",
       "      <td>China</td>\n",
       "    </tr>\n",
       "    <tr>\n",
       "      <th>Кравченко Тетяна</th>\n",
       "      <td>Spain</td>\n",
       "      <td>Bangladesh</td>\n",
       "      <td>Iceland</td>\n",
       "    </tr>\n",
       "    <tr>\n",
       "      <th>Марченко Ігор</th>\n",
       "      <td>Bahrain</td>\n",
       "      <td>Belarus</td>\n",
       "      <td>Ukraine</td>\n",
       "    </tr>\n",
       "    <tr>\n",
       "      <th>Нестеров Олег</th>\n",
       "      <td>Suriname</td>\n",
       "      <td>Austria</td>\n",
       "      <td>Uruguay</td>\n",
       "    </tr>\n",
       "    <tr>\n",
       "      <th>Пороскун Олена</th>\n",
       "      <td>Bermuda</td>\n",
       "      <td>France</td>\n",
       "      <td>Panama</td>\n",
       "    </tr>\n",
       "    <tr>\n",
       "      <th>Прокопенко Микита</th>\n",
       "      <td>Ethiopia</td>\n",
       "      <td>Cyprus</td>\n",
       "      <td>Equatorial Guinea</td>\n",
       "    </tr>\n",
       "  </tbody>\n",
       "</table>\n",
       "</div>"
      ],
      "text/plain": [
       "                        Країна 1     Країна 2           Країна 3\n",
       "Аніщенко Ігор          Lithuania        Niger     United Kingdom\n",
       "Димов Максим             Belarus     Honduras            Curacao\n",
       "Єрмоленко Назар            Chile  New Zealand        Netherlands\n",
       "Жигамовський Нікіта  South Sudan       Mexico              China\n",
       "Кравченко Тетяна           Spain   Bangladesh            Iceland\n",
       "Марченко Ігор            Bahrain      Belarus            Ukraine\n",
       "Нестеров Олег           Suriname      Austria            Uruguay\n",
       "Пороскун Олена           Bermuda       France             Panama\n",
       "Прокопенко Микита       Ethiopia       Cyprus  Equatorial Guinea"
      ]
     },
     "execution_count": 2,
     "metadata": {},
     "output_type": "execute_result"
    }
   ],
   "source": [
    "names_countries = pd.read_csv('../tasks.csv', header=0, names=['Країна 1', 'Країна 2', 'Країна 3'])\n",
    "names_countries.head(9)"
   ]
  },
  {
   "cell_type": "code",
   "execution_count": 3,
   "id": "3b91a979-f71e-47da-8c4a-55b46f814fe8",
   "metadata": {
    "tags": []
   },
   "outputs": [
    {
     "data": {
      "text/plain": [
       "['Bermuda', 'France', 'Panama']"
      ]
     },
     "execution_count": 3,
     "metadata": {},
     "output_type": "execute_result"
    }
   ],
   "source": [
    "names_countries = names_countries.loc['Пороскун Олена']\n",
    "filter_country = names_countries.values\n",
    "filter_country = [f for f in filter_country]\n",
    "filter_country"
   ]
  },
  {
   "cell_type": "markdown",
   "id": "2eaecec0-a634-4376-ab91-6ab1200fdcd1",
   "metadata": {
    "tags": []
   },
   "source": [
    "### Task 1 Популяція за інтервал часу 1960-2020"
   ]
  },
  {
   "cell_type": "markdown",
   "id": "522eaa67-284d-40c5-a698-e34823abc017",
   "metadata": {},
   "source": [
    "* ### Таблиця"
   ]
  },
  {
   "cell_type": "code",
   "execution_count": 4,
   "id": "8e03725f-9d51-48d3-818b-db2cc6269745",
   "metadata": {
    "tags": []
   },
   "outputs": [
    {
     "name": "stdout",
     "output_type": "stream",
     "text": [
      "['population.json', 'population.csv', 'population_pandas.xlsx']\n"
     ]
    }
   ],
   "source": [
    "print(os.listdir('../src/population'))"
   ]
  },
  {
   "cell_type": "code",
   "execution_count": 5,
   "id": "92769bd0-ab6b-4b09-bcd3-c05acde88690",
   "metadata": {
    "tags": []
   },
   "outputs": [],
   "source": [
    "data_population = pd.read_csv('../src/population/population.csv')"
   ]
  },
  {
   "cell_type": "code",
   "execution_count": 6,
   "id": "bc1a58d8-7655-478c-8abd-e6d5ed06df6b",
   "metadata": {
    "tags": []
   },
   "outputs": [
    {
     "data": {
      "text/html": [
       "<div>\n",
       "<style scoped>\n",
       "    .dataframe tbody tr th:only-of-type {\n",
       "        vertical-align: middle;\n",
       "    }\n",
       "\n",
       "    .dataframe tbody tr th {\n",
       "        vertical-align: top;\n",
       "    }\n",
       "\n",
       "    .dataframe thead th {\n",
       "        text-align: right;\n",
       "    }\n",
       "</style>\n",
       "<table border=\"1\" class=\"dataframe\">\n",
       "  <thead>\n",
       "    <tr style=\"text-align: right;\">\n",
       "      <th></th>\n",
       "      <th>Country Name</th>\n",
       "      <th>Country Code</th>\n",
       "      <th>Year</th>\n",
       "      <th>Value</th>\n",
       "    </tr>\n",
       "  </thead>\n",
       "  <tbody>\n",
       "    <tr>\n",
       "      <th>0</th>\n",
       "      <td>Arab World</td>\n",
       "      <td>ARB</td>\n",
       "      <td>1960</td>\n",
       "      <td>92197753</td>\n",
       "    </tr>\n",
       "    <tr>\n",
       "      <th>1</th>\n",
       "      <td>Arab World</td>\n",
       "      <td>ARB</td>\n",
       "      <td>1961</td>\n",
       "      <td>94724510</td>\n",
       "    </tr>\n",
       "    <tr>\n",
       "      <th>2</th>\n",
       "      <td>Arab World</td>\n",
       "      <td>ARB</td>\n",
       "      <td>1962</td>\n",
       "      <td>97334442</td>\n",
       "    </tr>\n",
       "    <tr>\n",
       "      <th>3</th>\n",
       "      <td>Arab World</td>\n",
       "      <td>ARB</td>\n",
       "      <td>1963</td>\n",
       "      <td>100034179</td>\n",
       "    </tr>\n",
       "    <tr>\n",
       "      <th>4</th>\n",
       "      <td>Arab World</td>\n",
       "      <td>ARB</td>\n",
       "      <td>1964</td>\n",
       "      <td>102832760</td>\n",
       "    </tr>\n",
       "    <tr>\n",
       "      <th>...</th>\n",
       "      <td>...</td>\n",
       "      <td>...</td>\n",
       "      <td>...</td>\n",
       "      <td>...</td>\n",
       "    </tr>\n",
       "    <tr>\n",
       "      <th>15404</th>\n",
       "      <td>Zimbabwe</td>\n",
       "      <td>ZWE</td>\n",
       "      <td>2014</td>\n",
       "      <td>13586681</td>\n",
       "    </tr>\n",
       "    <tr>\n",
       "      <th>15405</th>\n",
       "      <td>Zimbabwe</td>\n",
       "      <td>ZWE</td>\n",
       "      <td>2015</td>\n",
       "      <td>13814629</td>\n",
       "    </tr>\n",
       "    <tr>\n",
       "      <th>15406</th>\n",
       "      <td>Zimbabwe</td>\n",
       "      <td>ZWE</td>\n",
       "      <td>2016</td>\n",
       "      <td>14030390</td>\n",
       "    </tr>\n",
       "    <tr>\n",
       "      <th>15407</th>\n",
       "      <td>Zimbabwe</td>\n",
       "      <td>ZWE</td>\n",
       "      <td>2017</td>\n",
       "      <td>14236745</td>\n",
       "    </tr>\n",
       "    <tr>\n",
       "      <th>15408</th>\n",
       "      <td>Zimbabwe</td>\n",
       "      <td>ZWE</td>\n",
       "      <td>2018</td>\n",
       "      <td>14439018</td>\n",
       "    </tr>\n",
       "  </tbody>\n",
       "</table>\n",
       "<p>15409 rows × 4 columns</p>\n",
       "</div>"
      ],
      "text/plain": [
       "      Country Name Country Code  Year      Value\n",
       "0       Arab World          ARB  1960   92197753\n",
       "1       Arab World          ARB  1961   94724510\n",
       "2       Arab World          ARB  1962   97334442\n",
       "3       Arab World          ARB  1963  100034179\n",
       "4       Arab World          ARB  1964  102832760\n",
       "...            ...          ...   ...        ...\n",
       "15404     Zimbabwe          ZWE  2014   13586681\n",
       "15405     Zimbabwe          ZWE  2015   13814629\n",
       "15406     Zimbabwe          ZWE  2016   14030390\n",
       "15407     Zimbabwe          ZWE  2017   14236745\n",
       "15408     Zimbabwe          ZWE  2018   14439018\n",
       "\n",
       "[15409 rows x 4 columns]"
      ]
     },
     "execution_count": 6,
     "metadata": {},
     "output_type": "execute_result"
    }
   ],
   "source": [
    "data_population"
   ]
  },
  {
   "cell_type": "markdown",
   "id": "128f22df-2049-464e-aeec-68bbc4f73581",
   "metadata": {},
   "source": [
    "Відфільтруємо згідно з країнами мого варіанту."
   ]
  },
  {
   "cell_type": "code",
   "execution_count": 7,
   "id": "cc05141f-ca65-4bfe-b564-5c249dabbb38",
   "metadata": {
    "tags": []
   },
   "outputs": [
    {
     "data": {
      "text/html": [
       "<div>\n",
       "<style scoped>\n",
       "    .dataframe tbody tr th:only-of-type {\n",
       "        vertical-align: middle;\n",
       "    }\n",
       "\n",
       "    .dataframe tbody tr th {\n",
       "        vertical-align: top;\n",
       "    }\n",
       "\n",
       "    .dataframe thead th {\n",
       "        text-align: right;\n",
       "    }\n",
       "</style>\n",
       "<table border=\"1\" class=\"dataframe\">\n",
       "  <thead>\n",
       "    <tr style=\"text-align: right;\">\n",
       "      <th></th>\n",
       "      <th>Country Name</th>\n",
       "      <th>Country Code</th>\n",
       "      <th>Year</th>\n",
       "      <th>Value</th>\n",
       "    </tr>\n",
       "  </thead>\n",
       "  <tbody>\n",
       "    <tr>\n",
       "      <th>3953</th>\n",
       "      <td>Bermuda</td>\n",
       "      <td>BMU</td>\n",
       "      <td>1960</td>\n",
       "      <td>44400</td>\n",
       "    </tr>\n",
       "    <tr>\n",
       "      <th>3954</th>\n",
       "      <td>Bermuda</td>\n",
       "      <td>BMU</td>\n",
       "      <td>1961</td>\n",
       "      <td>45500</td>\n",
       "    </tr>\n",
       "    <tr>\n",
       "      <th>3955</th>\n",
       "      <td>Bermuda</td>\n",
       "      <td>BMU</td>\n",
       "      <td>1962</td>\n",
       "      <td>46600</td>\n",
       "    </tr>\n",
       "    <tr>\n",
       "      <th>3956</th>\n",
       "      <td>Bermuda</td>\n",
       "      <td>BMU</td>\n",
       "      <td>1963</td>\n",
       "      <td>47700</td>\n",
       "    </tr>\n",
       "    <tr>\n",
       "      <th>3957</th>\n",
       "      <td>Bermuda</td>\n",
       "      <td>BMU</td>\n",
       "      <td>1964</td>\n",
       "      <td>48900</td>\n",
       "    </tr>\n",
       "    <tr>\n",
       "      <th>...</th>\n",
       "      <td>...</td>\n",
       "      <td>...</td>\n",
       "      <td>...</td>\n",
       "      <td>...</td>\n",
       "    </tr>\n",
       "    <tr>\n",
       "      <th>11667</th>\n",
       "      <td>Panama</td>\n",
       "      <td>PAN</td>\n",
       "      <td>2014</td>\n",
       "      <td>3901315</td>\n",
       "    </tr>\n",
       "    <tr>\n",
       "      <th>11668</th>\n",
       "      <td>Panama</td>\n",
       "      <td>PAN</td>\n",
       "      <td>2015</td>\n",
       "      <td>3968487</td>\n",
       "    </tr>\n",
       "    <tr>\n",
       "      <th>11669</th>\n",
       "      <td>Panama</td>\n",
       "      <td>PAN</td>\n",
       "      <td>2016</td>\n",
       "      <td>4037078</td>\n",
       "    </tr>\n",
       "    <tr>\n",
       "      <th>11670</th>\n",
       "      <td>Panama</td>\n",
       "      <td>PAN</td>\n",
       "      <td>2017</td>\n",
       "      <td>4106771</td>\n",
       "    </tr>\n",
       "    <tr>\n",
       "      <th>11671</th>\n",
       "      <td>Panama</td>\n",
       "      <td>PAN</td>\n",
       "      <td>2018</td>\n",
       "      <td>4176873</td>\n",
       "    </tr>\n",
       "  </tbody>\n",
       "</table>\n",
       "<p>177 rows × 4 columns</p>\n",
       "</div>"
      ],
      "text/plain": [
       "      Country Name Country Code  Year    Value\n",
       "3953       Bermuda          BMU  1960    44400\n",
       "3954       Bermuda          BMU  1961    45500\n",
       "3955       Bermuda          BMU  1962    46600\n",
       "3956       Bermuda          BMU  1963    47700\n",
       "3957       Bermuda          BMU  1964    48900\n",
       "...            ...          ...   ...      ...\n",
       "11667       Panama          PAN  2014  3901315\n",
       "11668       Panama          PAN  2015  3968487\n",
       "11669       Panama          PAN  2016  4037078\n",
       "11670       Panama          PAN  2017  4106771\n",
       "11671       Panama          PAN  2018  4176873\n",
       "\n",
       "[177 rows x 4 columns]"
      ]
     },
     "execution_count": 7,
     "metadata": {},
     "output_type": "execute_result"
    }
   ],
   "source": [
    "data_population_filtered = data_population.query('`Country Name` in @filter_country')\n",
    "data_population_filtered"
   ]
  },
  {
   "cell_type": "code",
   "execution_count": 8,
   "id": "661c1702-6c94-4ef3-ad46-a7ddc3f9987b",
   "metadata": {
    "tags": []
   },
   "outputs": [
    {
     "data": {
      "text/plain": [
       "array(['Bermuda', 'France', 'Panama'], dtype=object)"
      ]
     },
     "execution_count": 8,
     "metadata": {},
     "output_type": "execute_result"
    }
   ],
   "source": [
    "data_population_filtered['Country Name'].unique()"
   ]
  },
  {
   "cell_type": "code",
   "execution_count": 9,
   "id": "8b5580ec-a365-4846-87b9-56f109f297ad",
   "metadata": {
    "tags": []
   },
   "outputs": [],
   "source": [
    "#data_population_filtered['Year'].unique()"
   ]
  },
  {
   "cell_type": "code",
   "execution_count": 10,
   "id": "cf604143-07a5-4d92-8786-179fe8cc7317",
   "metadata": {
    "tags": []
   },
   "outputs": [
    {
     "data": {
      "text/html": [
       "<div>\n",
       "<style scoped>\n",
       "    .dataframe tbody tr th:only-of-type {\n",
       "        vertical-align: middle;\n",
       "    }\n",
       "\n",
       "    .dataframe tbody tr th {\n",
       "        vertical-align: top;\n",
       "    }\n",
       "\n",
       "    .dataframe thead th {\n",
       "        text-align: right;\n",
       "    }\n",
       "</style>\n",
       "<table border=\"1\" class=\"dataframe\">\n",
       "  <thead>\n",
       "    <tr style=\"text-align: right;\">\n",
       "      <th></th>\n",
       "      <th>Year</th>\n",
       "      <th>Value</th>\n",
       "    </tr>\n",
       "  </thead>\n",
       "  <tbody>\n",
       "    <tr>\n",
       "      <th>count</th>\n",
       "      <td>177.000000</td>\n",
       "      <td>1.770000e+02</td>\n",
       "    </tr>\n",
       "    <tr>\n",
       "      <th>mean</th>\n",
       "      <td>1989.000000</td>\n",
       "      <td>2.013498e+07</td>\n",
       "    </tr>\n",
       "    <tr>\n",
       "      <th>std</th>\n",
       "      <td>17.077697</td>\n",
       "      <td>2.696568e+07</td>\n",
       "    </tr>\n",
       "    <tr>\n",
       "      <th>min</th>\n",
       "      <td>1960.000000</td>\n",
       "      <td>4.440000e+04</td>\n",
       "    </tr>\n",
       "    <tr>\n",
       "      <th>25%</th>\n",
       "      <td>1974.000000</td>\n",
       "      <td>6.374000e+04</td>\n",
       "    </tr>\n",
       "    <tr>\n",
       "      <th>50%</th>\n",
       "      <td>1989.000000</td>\n",
       "      <td>2.419426e+06</td>\n",
       "    </tr>\n",
       "    <tr>\n",
       "      <th>75%</th>\n",
       "      <td>2004.000000</td>\n",
       "      <td>5.359223e+07</td>\n",
       "    </tr>\n",
       "    <tr>\n",
       "      <th>max</th>\n",
       "      <td>2018.000000</td>\n",
       "      <td>6.697711e+07</td>\n",
       "    </tr>\n",
       "  </tbody>\n",
       "</table>\n",
       "</div>"
      ],
      "text/plain": [
       "              Year         Value\n",
       "count   177.000000  1.770000e+02\n",
       "mean   1989.000000  2.013498e+07\n",
       "std      17.077697  2.696568e+07\n",
       "min    1960.000000  4.440000e+04\n",
       "25%    1974.000000  6.374000e+04\n",
       "50%    1989.000000  2.419426e+06\n",
       "75%    2004.000000  5.359223e+07\n",
       "max    2018.000000  6.697711e+07"
      ]
     },
     "execution_count": 10,
     "metadata": {},
     "output_type": "execute_result"
    }
   ],
   "source": [
    "data_population_filtered.describe()"
   ]
  },
  {
   "cell_type": "markdown",
   "id": "c2e6268d-1dc3-4aed-a235-c3eb295bbcd9",
   "metadata": {
    "tags": []
   },
   "source": [
    "Як бачимо мінімальне значення колонки **'Year'** = 1960, а максимальне - 2018. Тому популяція за 1960 - 2020 роки це сама таблиця **data_population_filtered**."
   ]
  },
  {
   "cell_type": "markdown",
   "id": "17a351a5-8953-4f5f-9cbc-681c42a90b44",
   "metadata": {},
   "source": [
    "**Також можна сформувати таблицю за необхідний період часу іншим чином.**"
   ]
  },
  {
   "cell_type": "markdown",
   "id": "bb020f59-e93f-4bc0-a9e4-93c8b1d3fb9a",
   "metadata": {},
   "source": [
    "Створюємо нову таблицю популяції за фільтром інтервалу часу 1960 - 2020."
   ]
  },
  {
   "cell_type": "code",
   "execution_count": 11,
   "id": "947eacd5-d7f4-4183-a482-2d1a76b02e47",
   "metadata": {
    "tags": []
   },
   "outputs": [
    {
     "data": {
      "text/html": [
       "<div>\n",
       "<style scoped>\n",
       "    .dataframe tbody tr th:only-of-type {\n",
       "        vertical-align: middle;\n",
       "    }\n",
       "\n",
       "    .dataframe tbody tr th {\n",
       "        vertical-align: top;\n",
       "    }\n",
       "\n",
       "    .dataframe thead th {\n",
       "        text-align: right;\n",
       "    }\n",
       "</style>\n",
       "<table border=\"1\" class=\"dataframe\">\n",
       "  <thead>\n",
       "    <tr style=\"text-align: right;\">\n",
       "      <th></th>\n",
       "      <th>Country Name</th>\n",
       "      <th>Country Code</th>\n",
       "      <th>Year</th>\n",
       "      <th>Value</th>\n",
       "    </tr>\n",
       "  </thead>\n",
       "  <tbody>\n",
       "    <tr>\n",
       "      <th>3953</th>\n",
       "      <td>Bermuda</td>\n",
       "      <td>BMU</td>\n",
       "      <td>1960</td>\n",
       "      <td>44400</td>\n",
       "    </tr>\n",
       "    <tr>\n",
       "      <th>3954</th>\n",
       "      <td>Bermuda</td>\n",
       "      <td>BMU</td>\n",
       "      <td>1961</td>\n",
       "      <td>45500</td>\n",
       "    </tr>\n",
       "    <tr>\n",
       "      <th>3955</th>\n",
       "      <td>Bermuda</td>\n",
       "      <td>BMU</td>\n",
       "      <td>1962</td>\n",
       "      <td>46600</td>\n",
       "    </tr>\n",
       "    <tr>\n",
       "      <th>3956</th>\n",
       "      <td>Bermuda</td>\n",
       "      <td>BMU</td>\n",
       "      <td>1963</td>\n",
       "      <td>47700</td>\n",
       "    </tr>\n",
       "    <tr>\n",
       "      <th>3957</th>\n",
       "      <td>Bermuda</td>\n",
       "      <td>BMU</td>\n",
       "      <td>1964</td>\n",
       "      <td>48900</td>\n",
       "    </tr>\n",
       "    <tr>\n",
       "      <th>...</th>\n",
       "      <td>...</td>\n",
       "      <td>...</td>\n",
       "      <td>...</td>\n",
       "      <td>...</td>\n",
       "    </tr>\n",
       "    <tr>\n",
       "      <th>11667</th>\n",
       "      <td>Panama</td>\n",
       "      <td>PAN</td>\n",
       "      <td>2014</td>\n",
       "      <td>3901315</td>\n",
       "    </tr>\n",
       "    <tr>\n",
       "      <th>11668</th>\n",
       "      <td>Panama</td>\n",
       "      <td>PAN</td>\n",
       "      <td>2015</td>\n",
       "      <td>3968487</td>\n",
       "    </tr>\n",
       "    <tr>\n",
       "      <th>11669</th>\n",
       "      <td>Panama</td>\n",
       "      <td>PAN</td>\n",
       "      <td>2016</td>\n",
       "      <td>4037078</td>\n",
       "    </tr>\n",
       "    <tr>\n",
       "      <th>11670</th>\n",
       "      <td>Panama</td>\n",
       "      <td>PAN</td>\n",
       "      <td>2017</td>\n",
       "      <td>4106771</td>\n",
       "    </tr>\n",
       "    <tr>\n",
       "      <th>11671</th>\n",
       "      <td>Panama</td>\n",
       "      <td>PAN</td>\n",
       "      <td>2018</td>\n",
       "      <td>4176873</td>\n",
       "    </tr>\n",
       "  </tbody>\n",
       "</table>\n",
       "<p>177 rows × 4 columns</p>\n",
       "</div>"
      ],
      "text/plain": [
       "      Country Name Country Code  Year    Value\n",
       "3953       Bermuda          BMU  1960    44400\n",
       "3954       Bermuda          BMU  1961    45500\n",
       "3955       Bermuda          BMU  1962    46600\n",
       "3956       Bermuda          BMU  1963    47700\n",
       "3957       Bermuda          BMU  1964    48900\n",
       "...            ...          ...   ...      ...\n",
       "11667       Panama          PAN  2014  3901315\n",
       "11668       Panama          PAN  2015  3968487\n",
       "11669       Panama          PAN  2016  4037078\n",
       "11670       Panama          PAN  2017  4106771\n",
       "11671       Panama          PAN  2018  4176873\n",
       "\n",
       "[177 rows x 4 columns]"
      ]
     },
     "execution_count": 11,
     "metadata": {},
     "output_type": "execute_result"
    }
   ],
   "source": [
    "cust_filter = 1960\n",
    "cust_filter2 = 2020\n",
    "data_population_1960_2020 = data_population.query('(Year >= @cust_filter | Year <= @cust_filter2) & `Country Name` in @filter_country')\n",
    "data_population_1960_2020"
   ]
  },
  {
   "cell_type": "markdown",
   "id": "733b408a-8c58-447e-a9cb-80d7503bf44c",
   "metadata": {},
   "source": [
    "Можемо перевірити чи правильно були відфільтровані дані за допомогою методу **unique()**."
   ]
  },
  {
   "cell_type": "code",
   "execution_count": 12,
   "id": "893631e3-def2-4f24-ba89-fe00882e3ad9",
   "metadata": {
    "tags": []
   },
   "outputs": [
    {
     "name": "stdout",
     "output_type": "stream",
     "text": [
      "number of unique elements: 59\n"
     ]
    }
   ],
   "source": [
    "uniq_data = data_population_1960_2020['Year'].unique()\n",
    "print('number of unique elements:', len(uniq_data))"
   ]
  },
  {
   "cell_type": "markdown",
   "id": "55469812-d42c-4da7-942e-6c4c9dd24b0f",
   "metadata": {},
   "source": [
    "Тому можемо дізнатися кількість унікальних значень стовпця \"Рік\" і перевірити чи є серед них значення, які не входять у проміжок 1960 - 2020."
   ]
  },
  {
   "cell_type": "code",
   "execution_count": 13,
   "id": "ed52822c-4cde-4032-bc76-fcc41cdf51bb",
   "metadata": {
    "tags": []
   },
   "outputs": [
    {
     "name": "stdout",
     "output_type": "stream",
     "text": [
      "All elements of column ['Year'] are in [1960, 2020]\n"
     ]
    }
   ],
   "source": [
    "count = 0 \n",
    "for element in uniq_data:\n",
    "    if element < 1960 or element > 2020:\n",
    "        # print('{} is not in [1960, 2020]'.format(element))\n",
    "        count += 1\n",
    "        \n",
    "if count == 0:\n",
    "    print('All elements of column [\\'Year\\'] are in [1960, 2020]')\n",
    "else:\n",
    "    print('{} elements of column [\\'Year\\'] are NOT in [1960, 2020]'.format(count))  \n"
   ]
  },
  {
   "cell_type": "markdown",
   "id": "2bf3a512-f006-4ac3-9069-5dc32c9b96bc",
   "metadata": {},
   "source": [
    "*Отже, таблиця популяції 3 країн за 1960 - 2020 представлена як* **data_population_1960_2020**."
   ]
  },
  {
   "cell_type": "markdown",
   "id": "135b1046-aa5c-4ce7-84db-5675afe3a420",
   "metadata": {},
   "source": [
    "**Чи містять ці 2 датасети, що ми отримали для популяції 1960-2020 для країн згідно з варіантом, однакові елементи?**"
   ]
  },
  {
   "cell_type": "code",
   "execution_count": 14,
   "id": "a1fe3def-a036-4678-b71f-3bee7a298c59",
   "metadata": {
    "tags": []
   },
   "outputs": [
    {
     "data": {
      "text/plain": [
       "True"
      ]
     },
     "execution_count": 14,
     "metadata": {},
     "output_type": "execute_result"
    }
   ],
   "source": [
    "data_population_filtered.equals(data_population_1960_2020)"
   ]
  },
  {
   "cell_type": "markdown",
   "id": "8d807c2e-ecab-4373-8edc-b5491576c487",
   "metadata": {
    "tags": []
   },
   "source": [
    "Так, тому можемо зберегти будь-який з них."
   ]
  },
  {
   "cell_type": "code",
   "execution_count": 15,
   "id": "5cfaf9a6-1ff7-4f8f-8101-553bd514cb13",
   "metadata": {
    "tags": []
   },
   "outputs": [],
   "source": [
    "if not os.path.exists('./tables_and_graphs'):\n",
    "    os.mkdir('./tables_and_graphs')"
   ]
  },
  {
   "cell_type": "code",
   "execution_count": 16,
   "id": "86769d1d-4e9f-4ad5-ada7-eace3be62da8",
   "metadata": {
    "tags": []
   },
   "outputs": [],
   "source": [
    "data_population_1960_2020.to_csv(\"./tables_and_graphs/data_population_1960_2020.csv\", index=False)"
   ]
  },
  {
   "cell_type": "code",
   "execution_count": 17,
   "id": "02a425c4-4db9-4443-b062-8803a2717942",
   "metadata": {
    "tags": []
   },
   "outputs": [],
   "source": [
    "data_population_1960_2020.to_excel(\"./tables_and_graphs/data_population_1960_2020.xlsx\", sheet_name=\"Sheet1\", index=False)"
   ]
  },
  {
   "cell_type": "code",
   "execution_count": 18,
   "id": "21cf1086-edb1-41fc-925b-35e982810add",
   "metadata": {
    "tags": []
   },
   "outputs": [],
   "source": [
    "data_population_1960_2020.to_json(path_or_buf=\"./tables_and_graphs/data_population_1960_2020.json\", orient=\"split\")"
   ]
  },
  {
   "cell_type": "markdown",
   "id": "35fe5f71-173c-4acc-ad3c-adada7c421dd",
   "metadata": {},
   "source": [
    "* ### Графіки"
   ]
  },
  {
   "cell_type": "markdown",
   "id": "dcadba7b-8167-4697-af3a-73dbb824c8a7",
   "metadata": {},
   "source": [
    "1. #### Лінійний графік"
   ]
  },
  {
   "cell_type": "markdown",
   "id": "a5246697-671d-4910-89d3-bdc2696c280a",
   "metadata": {},
   "source": [
    "Створимо лінійний графік двома способами. "
   ]
  },
  {
   "cell_type": "markdown",
   "id": "f4c3d448-65a0-483e-a899-cc74aba99823",
   "metadata": {},
   "source": [
    "*1.1 Лінійний графік популяції 3 країн відповідно до року.*"
   ]
  },
  {
   "cell_type": "code",
   "execution_count": 19,
   "id": "3792e224-bf1c-4649-ac74-e628d2e26696",
   "metadata": {
    "tags": []
   },
   "outputs": [],
   "source": [
    "def fun_xy_plot(dataframe, country):\n",
    "    \n",
    "    df1 = dataframe.query('`Country Name` == @country')\n",
    "\n",
    "    data = df1[['Year', 'Value']].values.tolist()\n",
    "    #print(df1[['Year', 'Value']].head())\n",
    "    \n",
    "    x = np.zeros((len(data), 1))\n",
    "    y = np.zeros((len(data), 1))\n",
    "    for i in range(len(data)):\n",
    "        x[i] = data[i][0]\n",
    "        y[i] = data[i][1]     \n",
    "    \n",
    "    return country, x, y"
   ]
  },
  {
   "cell_type": "code",
   "execution_count": 20,
   "id": "b581bfd5-dbcd-4d47-8e8f-5d61e0ed1ca6",
   "metadata": {
    "tags": []
   },
   "outputs": [],
   "source": [
    "#filter_country"
   ]
  },
  {
   "cell_type": "code",
   "execution_count": 21,
   "id": "90d0d153-8e57-418f-af6f-3075c10b5cf0",
   "metadata": {
    "tags": []
   },
   "outputs": [],
   "source": [
    "#print(len(data_population_1960_2020['Year'].unique()))\n",
    "#data_population_1960_2020['Year'].unique()"
   ]
  },
  {
   "cell_type": "code",
   "execution_count": 22,
   "id": "f836af93-5070-4dc1-9778-960f79eafa05",
   "metadata": {
    "tags": []
   },
   "outputs": [
    {
     "data": {
      "image/png": "[encoded data removed]",
      "text/plain": [
       "<Figure size 640x480 with 1 Axes>"
      ]
     },
     "metadata": {},
     "output_type": "display_data"
    }
   ],
   "source": [
    "def plot_line1(dateframe, filter_country):\n",
    "    #print(filter_country)\n",
    "    colors = ['mediumslateblue', 'lightskyblue', 'pink']\n",
    "    \n",
    "    if type(filter_country) == str:\n",
    "        columns = 1\n",
    "        country, x, y = fun_xy_plot(dateframe, filter_country) \n",
    "        plt.plot(x, y, color=colors[0], label=f'{country}', marker=\".\", markersize=10)\n",
    "    else:\n",
    "        columns = len(filter_country)\n",
    "        for i in range(columns):\n",
    "            country, x, y = fun_xy_plot(dateframe, filter_country[i]) \n",
    "            plt.plot(x, y, color=colors[i], label=f'{country}', marker=\".\", markersize=10)\n",
    "        \n",
    "    plt.title('Line graph 1 \\n \"Population of countries\" ')\n",
    "    plt.ylabel('$ Value $')\n",
    "    plt.xlabel('$ Year $')\n",
    "    plt.legend(bbox_to_anchor=(1,1), loc=\"upper left\")\n",
    "    \n",
    "    plt.savefig('./tables_and_graphs/line1_population.png', bbox_inches='tight')\n",
    "    \n",
    "plot_line1(data_population_1960_2020, filter_country)"
   ]
  },
  {
   "cell_type": "markdown",
   "id": "7b78f748-1d64-4422-9b13-8209928b4933",
   "metadata": {},
   "source": [
    "*1.2 Лінійний графік популяції 3 країн сумарно по країнам. Тобто беремо дані для 3 країн, групуємо їх по стовпцю* **'Country Name'** \n",
    "*та сумуємо по* **'Value'**, *також сортуємо за зростанням.*"
   ]
  },
  {
   "cell_type": "code",
   "execution_count": 23,
   "id": "6c4e5459-66b4-4119-bc50-05c0e24ffb51",
   "metadata": {
    "tags": []
   },
   "outputs": [
    {
     "data": {
      "text/plain": [
       "Country Name\n",
       "Bermuda       3416866\n",
       "Panama      147509500\n",
       "France     3412964611\n",
       "Name: Value, dtype: int64"
      ]
     },
     "execution_count": 23,
     "metadata": {},
     "output_type": "execute_result"
    }
   ],
   "source": [
    "df = data_population_1960_2020\n",
    "grouped_df = df.groupby('Country Name')['Value'].sum()\n",
    "top = grouped_df.sort_values(ascending=True)\n",
    "top"
   ]
  },
  {
   "cell_type": "code",
   "execution_count": 24,
   "id": "cabb2d4a-24b0-4076-a7c2-82578bba8170",
   "metadata": {
    "tags": []
   },
   "outputs": [
    {
     "data": {
      "image/png": "[encoded data removed]",
      "text/plain": [
       "<Figure size 640x480 with 1 Axes>"
      ]
     },
     "metadata": {},
     "output_type": "display_data"
    }
   ],
   "source": [
    "def plot_line2(data):\n",
    "    fig, ax = plt.subplots()\n",
    "\n",
    "    #grouped_df = dateframe.groupby('Country Name')['Value'].sum()\n",
    "    #top = grouped_df\n",
    "    #top = grouped_df.sort_values(ascending=True)\n",
    "    top = data\n",
    "    res = top.plot(x=\"Year\", y=\"Value\", color=\"mediumslateblue\", ylabel='Value', marker=\".\", markersize=10).get_figure()\n",
    "\n",
    "    plt.title('Line graph 2 \\n \"Population of countries\"')\n",
    "    plt.ylabel('$ Value $')\n",
    "    plt.xlabel('$ Country \\ Name $')\n",
    "    res.savefig('./tables_and_graphs/line2_population.pdf', bbox_inches='tight')\n",
    "    res.savefig('./tables_and_graphs/line2_population.png', bbox_inches='tight')\n",
    "    res.savefig('./tables_and_graphs/line2_population.jpg', bbox_inches='tight')\n",
    "    #plt.legend(bbox_to_anchor=(1,1), loc=\"upper left\")\n",
    "    \n",
    "plot_line2(top)  "
   ]
  },
  {
   "cell_type": "markdown",
   "id": "78632472-5d50-49c4-b7ca-f7531b1ab821",
   "metadata": {},
   "source": [
    "2. #### Кругова діаграма "
   ]
  },
  {
   "cell_type": "markdown",
   "id": "dcd494e9-f6d8-4c1b-8976-0fe53d2cb516",
   "metadata": {},
   "source": [
    "*Аналогічно до 2 варіанту побудови лінійного графіка.*"
   ]
  },
  {
   "cell_type": "code",
   "execution_count": 25,
   "id": "f0b6393d-ed9d-4bee-abf3-414ff2415932",
   "metadata": {
    "tags": []
   },
   "outputs": [
    {
     "data": {
      "text/plain": [
       "Country Name\n",
       "Bermuda       3416866\n",
       "Panama      147509500\n",
       "France     3412964611\n",
       "Name: Value, dtype: int64"
      ]
     },
     "execution_count": 25,
     "metadata": {},
     "output_type": "execute_result"
    }
   ],
   "source": [
    "top"
   ]
  },
  {
   "cell_type": "code",
   "execution_count": 26,
   "id": "4cd362b9-39f9-4b80-914e-0accf8754c0f",
   "metadata": {
    "tags": []
   },
   "outputs": [
    {
     "data": {
      "image/png": "[encoded data removed]",
      "text/plain": [
       "<Figure size 640x480 with 1 Axes>"
      ]
     },
     "metadata": {},
     "output_type": "display_data"
    }
   ],
   "source": [
    "def plot_pie(data):\n",
    "    \n",
    "    if len(data) > 3:\n",
    "        list_exp = [0.05 for i in range(len(data))] \n",
    "    else:\n",
    "        list_exp = [0.2, 0.2, 0.1]\n",
    "        \n",
    "    explode = tuple(list_exp)\n",
    "    \n",
    "    colors = [\n",
    "        #[0.57745045, 0.51609339, 0.71706274], # фіолет\n",
    "        #[0.56698063, 0.71535438, 0.75541086], # сірий\n",
    "        [0.41062479, 0.8407867,  0.87001545],  # блакит\n",
    "        [0.82670165, 0.96549147, 0.59721125],  # світло зел\n",
    "        [0.9737108,  0.96112498, 0.56562821]   # жовтий\n",
    "    ]\n",
    "    #colors = ['lavender', 'lightcyan', 'honeydew', 'lightyellow', 'bisque', 'mistyrose',  'whitesmoke'] \n",
    "    \n",
    "    res = data.plot(kind='pie', y = 'Value', autopct='%1.1f%%', explode=explode, ylabel = '',colors = colors, shadow=False).get_figure()\n",
    "\n",
    "    plt.title('Pie \\n \"Population of countries\" \\n(by value of population)')\n",
    "    plt.legend(bbox_to_anchor=(1,1), loc=\"upper left\")\n",
    "\n",
    "    res.savefig('./tables_and_graphs/pie_population.png', bbox_inches='tight')\n",
    "    \n",
    "\n",
    "plot_pie(top)"
   ]
  },
  {
   "cell_type": "markdown",
   "id": "680a01de-db54-46b9-8be3-13c71b082479",
   "metadata": {},
   "source": [
    "3. #### Стовпчаста діаграма"
   ]
  },
  {
   "cell_type": "markdown",
   "id": "74a4ed38-a417-40e3-9b4b-f22360bfe305",
   "metadata": {},
   "source": [
    "*Аналогічно до 2 варіанту побудови лінійного графіка.*"
   ]
  },
  {
   "cell_type": "code",
   "execution_count": 27,
   "id": "0f12c7ab-13e6-47e7-b5e3-54c833896044",
   "metadata": {
    "tags": []
   },
   "outputs": [
    {
     "data": {
      "text/plain": [
       "Country Name\n",
       "Bermuda       3416866\n",
       "Panama      147509500\n",
       "France     3412964611\n",
       "Name: Value, dtype: int64"
      ]
     },
     "execution_count": 27,
     "metadata": {},
     "output_type": "execute_result"
    }
   ],
   "source": [
    "top"
   ]
  },
  {
   "cell_type": "code",
   "execution_count": 28,
   "id": "d2919f8b-785c-4c45-a7f5-ae4bad6dcde0",
   "metadata": {
    "tags": []
   },
   "outputs": [
    {
     "data": {
      "image/png": "[encoded data removed]",
      "text/plain": [
       "<Figure size 640x480 with 1 Axes>"
      ]
     },
     "metadata": {},
     "output_type": "display_data"
    }
   ],
   "source": [
    "def plot_bar(data): \n",
    "\n",
    "    fig, ax = plt.subplots()\n",
    "    count = len(data)\n",
    "    #fig, ax = plt.subplots(figsize=(count*2, count*1.5))\n",
    "    \n",
    "    #color_rectangle = np.random.rand(count, 3) # RGB\n",
    "    colors = [\n",
    "        #[0.57745045, 0.51609339, 0.71706274], # фіолет\n",
    "        #[0.56698063, 0.71535438, 0.75541086], # сірий\n",
    "        [0.41062479, 0.8407867,  0.87001545],  # блакит\n",
    "        [0.82670165, 0.96549147, 0.59721125],  # світло зел\n",
    "        [0.9737108,  0.96112498, 0.56562821]   # жовтий\n",
    "    ]\n",
    "    #colors_light = ['lavender', 'lightcyan', 'honeydew', 'lightyellow', 'bisque', 'mistyrose',  'whitesmoke'] \n",
    "\n",
    "    res = top.plot(kind = 'bar', x=\"Country Name\", y=\"Value\", label=\"Value\", color = colors).get_figure()\n",
    "    \n",
    "    ax.tick_params(axis='x', labelrotation=0)\n",
    "    plt.title('Bar \\n \"Population of countries\" \\n(by value of population)')\n",
    "    plt.ylabel('$Value$')\n",
    "    plt.xlabel('$Country \\ Name$')\n",
    "    \n",
    "    res.savefig('./tables_and_graphs/bar_population.png', bbox_inches='tight')\n",
    "\n",
    "plot_bar(top)"
   ]
  },
  {
   "cell_type": "markdown",
   "id": "eea7d5d3-3904-4bec-8603-8cff2ab40041",
   "metadata": {
    "tags": []
   },
   "source": [
    "### Task 2 Показати в табличному вигляді основні стаститичні величини: min, max, mean, квантіли 25%, 75%, 95%."
   ]
  },
  {
   "cell_type": "markdown",
   "id": "acd7afdb-72c9-404b-a066-609b2a24e5d1",
   "metadata": {},
   "source": [
    "1. #### Розглянемо таблицю з розташуванням **'../src/population/population.csv'**."
   ]
  },
  {
   "cell_type": "code",
   "execution_count": 29,
   "id": "da7a8e24-70ff-4aaa-9969-dab935dad2f8",
   "metadata": {
    "tags": []
   },
   "outputs": [
    {
     "data": {
      "text/html": [
       "<div>\n",
       "<style scoped>\n",
       "    .dataframe tbody tr th:only-of-type {\n",
       "        vertical-align: middle;\n",
       "    }\n",
       "\n",
       "    .dataframe tbody tr th {\n",
       "        vertical-align: top;\n",
       "    }\n",
       "\n",
       "    .dataframe thead th {\n",
       "        text-align: right;\n",
       "    }\n",
       "</style>\n",
       "<table border=\"1\" class=\"dataframe\">\n",
       "  <thead>\n",
       "    <tr style=\"text-align: right;\">\n",
       "      <th></th>\n",
       "      <th>Country Name</th>\n",
       "      <th>Country Code</th>\n",
       "      <th>Year</th>\n",
       "      <th>Value</th>\n",
       "    </tr>\n",
       "  </thead>\n",
       "  <tbody>\n",
       "    <tr>\n",
       "      <th>0</th>\n",
       "      <td>Arab World</td>\n",
       "      <td>ARB</td>\n",
       "      <td>1960</td>\n",
       "      <td>92197753</td>\n",
       "    </tr>\n",
       "    <tr>\n",
       "      <th>1</th>\n",
       "      <td>Arab World</td>\n",
       "      <td>ARB</td>\n",
       "      <td>1961</td>\n",
       "      <td>94724510</td>\n",
       "    </tr>\n",
       "    <tr>\n",
       "      <th>2</th>\n",
       "      <td>Arab World</td>\n",
       "      <td>ARB</td>\n",
       "      <td>1962</td>\n",
       "      <td>97334442</td>\n",
       "    </tr>\n",
       "  </tbody>\n",
       "</table>\n",
       "</div>"
      ],
      "text/plain": [
       "  Country Name Country Code  Year     Value\n",
       "0   Arab World          ARB  1960  92197753\n",
       "1   Arab World          ARB  1961  94724510\n",
       "2   Arab World          ARB  1962  97334442"
      ]
     },
     "execution_count": 29,
     "metadata": {},
     "output_type": "execute_result"
    }
   ],
   "source": [
    "data_population = pd.read_csv('../src/population/population.csv')\n",
    "data_population.head(3)"
   ]
  },
  {
   "cell_type": "code",
   "execution_count": 30,
   "id": "b35da7a5-6757-4908-9d74-94b2e9a50a9a",
   "metadata": {
    "tags": []
   },
   "outputs": [],
   "source": [
    "data_population_filtered = data_population.query(' `Country Name` in @filter_country ')\n",
    "#data_population_filtered"
   ]
  },
  {
   "cell_type": "code",
   "execution_count": 31,
   "id": "5d01d31a-31df-450e-a428-c5c9583a3d6a",
   "metadata": {
    "tags": []
   },
   "outputs": [
    {
     "data": {
      "text/plain": [
       "array(['Bermuda', 'France', 'Panama'], dtype=object)"
      ]
     },
     "execution_count": 31,
     "metadata": {},
     "output_type": "execute_result"
    }
   ],
   "source": [
    "data_population_filtered['Country Name'].unique()"
   ]
  },
  {
   "cell_type": "code",
   "execution_count": 32,
   "id": "5293ea58-0c06-4816-819f-274dd13642ab",
   "metadata": {
    "tags": []
   },
   "outputs": [
    {
     "data": {
      "text/html": [
       "<div>\n",
       "<style scoped>\n",
       "    .dataframe tbody tr th:only-of-type {\n",
       "        vertical-align: middle;\n",
       "    }\n",
       "\n",
       "    .dataframe tbody tr th {\n",
       "        vertical-align: top;\n",
       "    }\n",
       "\n",
       "    .dataframe thead th {\n",
       "        text-align: right;\n",
       "    }\n",
       "</style>\n",
       "<table border=\"1\" class=\"dataframe\">\n",
       "  <thead>\n",
       "    <tr style=\"text-align: right;\">\n",
       "      <th></th>\n",
       "      <th>Year</th>\n",
       "      <th>Value</th>\n",
       "    </tr>\n",
       "  </thead>\n",
       "  <tbody>\n",
       "    <tr>\n",
       "      <th>count</th>\n",
       "      <td>177.000000</td>\n",
       "      <td>1.770000e+02</td>\n",
       "    </tr>\n",
       "    <tr>\n",
       "      <th>mean</th>\n",
       "      <td>1989.000000</td>\n",
       "      <td>2.013498e+07</td>\n",
       "    </tr>\n",
       "    <tr>\n",
       "      <th>std</th>\n",
       "      <td>17.077697</td>\n",
       "      <td>2.696568e+07</td>\n",
       "    </tr>\n",
       "    <tr>\n",
       "      <th>min</th>\n",
       "      <td>1960.000000</td>\n",
       "      <td>4.440000e+04</td>\n",
       "    </tr>\n",
       "    <tr>\n",
       "      <th>25%</th>\n",
       "      <td>1974.000000</td>\n",
       "      <td>6.374000e+04</td>\n",
       "    </tr>\n",
       "    <tr>\n",
       "      <th>50%</th>\n",
       "      <td>1989.000000</td>\n",
       "      <td>2.419426e+06</td>\n",
       "    </tr>\n",
       "    <tr>\n",
       "      <th>75%</th>\n",
       "      <td>2004.000000</td>\n",
       "      <td>5.359223e+07</td>\n",
       "    </tr>\n",
       "    <tr>\n",
       "      <th>max</th>\n",
       "      <td>2018.000000</td>\n",
       "      <td>6.697711e+07</td>\n",
       "    </tr>\n",
       "  </tbody>\n",
       "</table>\n",
       "</div>"
      ],
      "text/plain": [
       "              Year         Value\n",
       "count   177.000000  1.770000e+02\n",
       "mean   1989.000000  2.013498e+07\n",
       "std      17.077697  2.696568e+07\n",
       "min    1960.000000  4.440000e+04\n",
       "25%    1974.000000  6.374000e+04\n",
       "50%    1989.000000  2.419426e+06\n",
       "75%    2004.000000  5.359223e+07\n",
       "max    2018.000000  6.697711e+07"
      ]
     },
     "metadata": {},
     "output_type": "display_data"
    }
   ],
   "source": [
    "statistics_population = data_population_filtered.describe()\n",
    "display(statistics_population)"
   ]
  },
  {
   "cell_type": "markdown",
   "id": "5d60619d-0a75-4ebb-937b-7529d63f3eb3",
   "metadata": {},
   "source": [
    "Знайдемо ще квантілу 95% і перевіримо правильність наступного методу **np.quantile(data, .95)**."
   ]
  },
  {
   "cell_type": "code",
   "execution_count": 33,
   "id": "cc3d1dce-13d8-451f-be8c-7d8ec0f6419e",
   "metadata": {
    "tags": []
   },
   "outputs": [
    {
     "data": {
      "text/html": [
       "<div>\n",
       "<style scoped>\n",
       "    .dataframe tbody tr th:only-of-type {\n",
       "        vertical-align: middle;\n",
       "    }\n",
       "\n",
       "    .dataframe tbody tr th {\n",
       "        vertical-align: top;\n",
       "    }\n",
       "\n",
       "    .dataframe thead th {\n",
       "        text-align: right;\n",
       "    }\n",
       "</style>\n",
       "<table border=\"1\" class=\"dataframe\">\n",
       "  <thead>\n",
       "    <tr style=\"text-align: right;\">\n",
       "      <th></th>\n",
       "      <th>Year</th>\n",
       "      <th>Value</th>\n",
       "    </tr>\n",
       "  </thead>\n",
       "  <tbody>\n",
       "    <tr>\n",
       "      <th>25%</th>\n",
       "      <td>1974.0</td>\n",
       "      <td>63740.0</td>\n",
       "    </tr>\n",
       "    <tr>\n",
       "      <th>75%</th>\n",
       "      <td>2004.0</td>\n",
       "      <td>53592233.0</td>\n",
       "    </tr>\n",
       "    <tr>\n",
       "      <th>95%</th>\n",
       "      <td>2015.2</td>\n",
       "      <td>64771133.4</td>\n",
       "    </tr>\n",
       "  </tbody>\n",
       "</table>\n",
       "</div>"
      ],
      "text/plain": [
       "       Year       Value\n",
       "25%  1974.0     63740.0\n",
       "75%  2004.0  53592233.0\n",
       "95%  2015.2  64771133.4"
      ]
     },
     "execution_count": 33,
     "metadata": {},
     "output_type": "execute_result"
    }
   ],
   "source": [
    "data_quantile = pd.DataFrame(np.zeros((3,2)), columns = ['Year', 'Value'], index = ['25%', '75%', '95%'])\n",
    "\n",
    "for j in ['Year', 'Value']:\n",
    "    if j == 'Year':\n",
    "        data = data_population_filtered['Year']\n",
    "    else:\n",
    "        data = data_population_filtered['Value']\n",
    "        \n",
    "    data_quantile[j][0] = np.quantile(data, .25)\n",
    "    data_quantile[j][1] = np.quantile(data, .75)\n",
    "    data_quantile[j][2] = np.quantile(data, .95)\n",
    "    \n",
    "data_quantile"
   ]
  },
  {
   "cell_type": "markdown",
   "id": "e2c015bf-b649-4070-aaab-82f3085c3e66",
   "metadata": {},
   "source": [
    "Як бачимо інші знайдені раніше квантіли 25% та 75% такі ж самі як і з методу **np.quantile(data, .95)**."
   ]
  },
  {
   "cell_type": "code",
   "execution_count": 34,
   "id": "aa21328c-6820-4fe5-b687-4b9fbe608627",
   "metadata": {
    "tags": []
   },
   "outputs": [
    {
     "data": {
      "text/html": [
       "<div>\n",
       "<style scoped>\n",
       "    .dataframe tbody tr th:only-of-type {\n",
       "        vertical-align: middle;\n",
       "    }\n",
       "\n",
       "    .dataframe tbody tr th {\n",
       "        vertical-align: top;\n",
       "    }\n",
       "\n",
       "    .dataframe thead th {\n",
       "        text-align: right;\n",
       "    }\n",
       "</style>\n",
       "<table border=\"1\" class=\"dataframe\">\n",
       "  <thead>\n",
       "    <tr style=\"text-align: right;\">\n",
       "      <th></th>\n",
       "      <th>Year</th>\n",
       "      <th>Value</th>\n",
       "    </tr>\n",
       "  </thead>\n",
       "  <tbody>\n",
       "    <tr>\n",
       "      <th>count</th>\n",
       "      <td>177.000000</td>\n",
       "      <td>1.770000e+02</td>\n",
       "    </tr>\n",
       "    <tr>\n",
       "      <th>mean</th>\n",
       "      <td>1989.000000</td>\n",
       "      <td>2.013498e+07</td>\n",
       "    </tr>\n",
       "    <tr>\n",
       "      <th>std</th>\n",
       "      <td>17.077697</td>\n",
       "      <td>2.696568e+07</td>\n",
       "    </tr>\n",
       "    <tr>\n",
       "      <th>min</th>\n",
       "      <td>1960.000000</td>\n",
       "      <td>4.440000e+04</td>\n",
       "    </tr>\n",
       "    <tr>\n",
       "      <th>25%</th>\n",
       "      <td>1974.000000</td>\n",
       "      <td>6.374000e+04</td>\n",
       "    </tr>\n",
       "    <tr>\n",
       "      <th>50%</th>\n",
       "      <td>1989.000000</td>\n",
       "      <td>2.419426e+06</td>\n",
       "    </tr>\n",
       "    <tr>\n",
       "      <th>75%</th>\n",
       "      <td>2004.000000</td>\n",
       "      <td>5.359223e+07</td>\n",
       "    </tr>\n",
       "    <tr>\n",
       "      <th>max</th>\n",
       "      <td>2018.000000</td>\n",
       "      <td>6.697711e+07</td>\n",
       "    </tr>\n",
       "    <tr>\n",
       "      <th>95%</th>\n",
       "      <td>2015.200000</td>\n",
       "      <td>6.477113e+07</td>\n",
       "    </tr>\n",
       "  </tbody>\n",
       "</table>\n",
       "</div>"
      ],
      "text/plain": [
       "              Year         Value\n",
       "count   177.000000  1.770000e+02\n",
       "mean   1989.000000  2.013498e+07\n",
       "std      17.077697  2.696568e+07\n",
       "min    1960.000000  4.440000e+04\n",
       "25%    1974.000000  6.374000e+04\n",
       "50%    1989.000000  2.419426e+06\n",
       "75%    2004.000000  5.359223e+07\n",
       "max    2018.000000  6.697711e+07\n",
       "95%    2015.200000  6.477113e+07"
      ]
     },
     "metadata": {},
     "output_type": "display_data"
    }
   ],
   "source": [
    "data_quantile = data_quantile.drop(['25%', '75%'])\n",
    "statistics_population = pd.concat([statistics_population, data_quantile], ignore_index=False)\n",
    "display(statistics_population)"
   ]
  },
  {
   "cell_type": "code",
   "execution_count": 35,
   "id": "78aff43b-7bfc-459b-abce-f62e20668b39",
   "metadata": {
    "tags": []
   },
   "outputs": [],
   "source": [
    "statistics_population.to_csv(\"./tables_and_graphs/statistics_population.csv\", index = True)"
   ]
  },
  {
   "cell_type": "code",
   "execution_count": 36,
   "id": "3a1464c1-a649-45fb-bfb5-87bdb6fb53d9",
   "metadata": {
    "tags": []
   },
   "outputs": [],
   "source": [
    "#statistics_population.to_excel(\"./tables_and_graphs/statistics_population.xlsx\", sheet_name=\"Sheet1\", index=False)"
   ]
  },
  {
   "cell_type": "code",
   "execution_count": 37,
   "id": "b84d20b9-065c-4ae3-a337-fa7d1cf626fb",
   "metadata": {
    "tags": []
   },
   "outputs": [],
   "source": [
    "#statistics_population.to_json(path_or_buf=\"./tables_and_graphs/statistics_population.json\", orient=\"split\")"
   ]
  },
  {
   "cell_type": "markdown",
   "id": "74165d8d-5f0b-48be-a3ce-b4e9f034496c",
   "metadata": {},
   "source": [
    "2. #### Розглянемо таблицю з розташуванням **'../src/ppp/ppp-gdp.csv'**."
   ]
  },
  {
   "cell_type": "code",
   "execution_count": 38,
   "id": "3af0b055-7d29-4bbf-9085-36f411517a44",
   "metadata": {
    "tags": []
   },
   "outputs": [],
   "source": [
    "data_ppp = pd.read_csv('../src/ppp/ppp-gdp.csv')\n",
    "#data_ppp.head(3)"
   ]
  },
  {
   "cell_type": "code",
   "execution_count": 39,
   "id": "2ad5cea1-bb4e-4dcd-8f41-5b7d51391a6d",
   "metadata": {
    "tags": []
   },
   "outputs": [],
   "source": [
    "data_ppp_filtered = data_ppp.query(' `Country` in @filter_country ')\n",
    "#data_ppp_filtered "
   ]
  },
  {
   "cell_type": "code",
   "execution_count": 40,
   "id": "675ab6a2-43ea-4cc6-996e-f91b12fb4cef",
   "metadata": {
    "tags": []
   },
   "outputs": [
    {
     "data": {
      "text/plain": [
       "array(['Bermuda', 'France', 'Panama'], dtype=object)"
      ]
     },
     "execution_count": 40,
     "metadata": {},
     "output_type": "execute_result"
    }
   ],
   "source": [
    "data_ppp_filtered['Country'].unique()"
   ]
  },
  {
   "cell_type": "markdown",
   "id": "dc5151b2-c82b-452a-a21a-d8d33faff019",
   "metadata": {},
   "source": [
    "Знайдемо необхідні величини."
   ]
  },
  {
   "cell_type": "code",
   "execution_count": 41,
   "id": "faca20bd-6651-4a72-b8f1-7634eade29a8",
   "metadata": {
    "tags": []
   },
   "outputs": [
    {
     "data": {
      "text/html": [
       "<div>\n",
       "<style scoped>\n",
       "    .dataframe tbody tr th:only-of-type {\n",
       "        vertical-align: middle;\n",
       "    }\n",
       "\n",
       "    .dataframe tbody tr th {\n",
       "        vertical-align: top;\n",
       "    }\n",
       "\n",
       "    .dataframe thead th {\n",
       "        text-align: right;\n",
       "    }\n",
       "</style>\n",
       "<table border=\"1\" class=\"dataframe\">\n",
       "  <thead>\n",
       "    <tr style=\"text-align: right;\">\n",
       "      <th></th>\n",
       "      <th>Year</th>\n",
       "      <th>PPP</th>\n",
       "    </tr>\n",
       "  </thead>\n",
       "  <tbody>\n",
       "    <tr>\n",
       "      <th>count</th>\n",
       "      <td>96.000000</td>\n",
       "      <td>96.000000</td>\n",
       "    </tr>\n",
       "    <tr>\n",
       "      <th>mean</th>\n",
       "      <td>2005.500000</td>\n",
       "      <td>0.881732</td>\n",
       "    </tr>\n",
       "    <tr>\n",
       "      <th>std</th>\n",
       "      <td>9.281561</td>\n",
       "      <td>0.328308</td>\n",
       "    </tr>\n",
       "    <tr>\n",
       "      <th>min</th>\n",
       "      <td>1990.000000</td>\n",
       "      <td>0.458219</td>\n",
       "    </tr>\n",
       "    <tr>\n",
       "      <th>25%</th>\n",
       "      <td>1997.750000</td>\n",
       "      <td>0.525021</td>\n",
       "    </tr>\n",
       "    <tr>\n",
       "      <th>50%</th>\n",
       "      <td>2005.500000</td>\n",
       "      <td>0.891730</td>\n",
       "    </tr>\n",
       "    <tr>\n",
       "      <th>75%</th>\n",
       "      <td>2013.250000</td>\n",
       "      <td>1.188879</td>\n",
       "    </tr>\n",
       "    <tr>\n",
       "      <th>max</th>\n",
       "      <td>2021.000000</td>\n",
       "      <td>1.459248</td>\n",
       "    </tr>\n",
       "  </tbody>\n",
       "</table>\n",
       "</div>"
      ],
      "text/plain": [
       "              Year        PPP\n",
       "count    96.000000  96.000000\n",
       "mean   2005.500000   0.881732\n",
       "std       9.281561   0.328308\n",
       "min    1990.000000   0.458219\n",
       "25%    1997.750000   0.525021\n",
       "50%    2005.500000   0.891730\n",
       "75%    2013.250000   1.188879\n",
       "max    2021.000000   1.459248"
      ]
     },
     "execution_count": 41,
     "metadata": {},
     "output_type": "execute_result"
    }
   ],
   "source": [
    "statistics_ppp = data_ppp_filtered.describe()\n",
    "statistics_ppp"
   ]
  },
  {
   "cell_type": "code",
   "execution_count": 42,
   "id": "9f06c36e-2ced-4926-b52e-ff6a977729d6",
   "metadata": {
    "tags": []
   },
   "outputs": [
    {
     "data": {
      "text/html": [
       "<div>\n",
       "<style scoped>\n",
       "    .dataframe tbody tr th:only-of-type {\n",
       "        vertical-align: middle;\n",
       "    }\n",
       "\n",
       "    .dataframe tbody tr th {\n",
       "        vertical-align: top;\n",
       "    }\n",
       "\n",
       "    .dataframe thead th {\n",
       "        text-align: right;\n",
       "    }\n",
       "</style>\n",
       "<table border=\"1\" class=\"dataframe\">\n",
       "  <thead>\n",
       "    <tr style=\"text-align: right;\">\n",
       "      <th></th>\n",
       "      <th>Year</th>\n",
       "      <th>PPP</th>\n",
       "    </tr>\n",
       "  </thead>\n",
       "  <tbody>\n",
       "    <tr>\n",
       "      <th>25%</th>\n",
       "      <td>1997.75</td>\n",
       "      <td>0.525021</td>\n",
       "    </tr>\n",
       "    <tr>\n",
       "      <th>75%</th>\n",
       "      <td>2013.25</td>\n",
       "      <td>1.188879</td>\n",
       "    </tr>\n",
       "    <tr>\n",
       "      <th>95%</th>\n",
       "      <td>2020.00</td>\n",
       "      <td>1.423563</td>\n",
       "    </tr>\n",
       "  </tbody>\n",
       "</table>\n",
       "</div>"
      ],
      "text/plain": [
       "        Year       PPP\n",
       "25%  1997.75  0.525021\n",
       "75%  2013.25  1.188879\n",
       "95%  2020.00  1.423563"
      ]
     },
     "execution_count": 42,
     "metadata": {},
     "output_type": "execute_result"
    }
   ],
   "source": [
    "data_quantile = pd.DataFrame(np.zeros((3,2)), columns = ['Year', 'PPP'], index = ['25%', '75%', '95%'])\n",
    "\n",
    "for j in ['Year', 'PPP']:\n",
    "    if j == 'Year':\n",
    "        data = data_ppp_filtered['Year']\n",
    "    else:\n",
    "        data = data_ppp_filtered['PPP']\n",
    "        \n",
    "    data_quantile[j][0] = np.quantile(data, .25)\n",
    "    data_quantile[j][1] = np.quantile(data, .75)\n",
    "    data_quantile[j][2] = np.quantile(data, .95)\n",
    "    \n",
    "data_quantile"
   ]
  },
  {
   "cell_type": "markdown",
   "id": "cca524e9-b19f-4c58-8cc7-f3e42a2664b0",
   "metadata": {},
   "source": [
    "Порівнявши з результатом методу **.describe()** бачимо, що результат такий же. Значення для 95% правильне."
   ]
  },
  {
   "cell_type": "code",
   "execution_count": 43,
   "id": "cf8bfcb1-1ba2-40a8-a9f2-b28a15b2332f",
   "metadata": {
    "tags": []
   },
   "outputs": [
    {
     "data": {
      "text/html": [
       "<div>\n",
       "<style scoped>\n",
       "    .dataframe tbody tr th:only-of-type {\n",
       "        vertical-align: middle;\n",
       "    }\n",
       "\n",
       "    .dataframe tbody tr th {\n",
       "        vertical-align: top;\n",
       "    }\n",
       "\n",
       "    .dataframe thead th {\n",
       "        text-align: right;\n",
       "    }\n",
       "</style>\n",
       "<table border=\"1\" class=\"dataframe\">\n",
       "  <thead>\n",
       "    <tr style=\"text-align: right;\">\n",
       "      <th></th>\n",
       "      <th>Year</th>\n",
       "      <th>PPP</th>\n",
       "    </tr>\n",
       "  </thead>\n",
       "  <tbody>\n",
       "    <tr>\n",
       "      <th>count</th>\n",
       "      <td>96.000000</td>\n",
       "      <td>96.000000</td>\n",
       "    </tr>\n",
       "    <tr>\n",
       "      <th>mean</th>\n",
       "      <td>2005.500000</td>\n",
       "      <td>0.881732</td>\n",
       "    </tr>\n",
       "    <tr>\n",
       "      <th>std</th>\n",
       "      <td>9.281561</td>\n",
       "      <td>0.328308</td>\n",
       "    </tr>\n",
       "    <tr>\n",
       "      <th>min</th>\n",
       "      <td>1990.000000</td>\n",
       "      <td>0.458219</td>\n",
       "    </tr>\n",
       "    <tr>\n",
       "      <th>25%</th>\n",
       "      <td>1997.750000</td>\n",
       "      <td>0.525021</td>\n",
       "    </tr>\n",
       "    <tr>\n",
       "      <th>50%</th>\n",
       "      <td>2005.500000</td>\n",
       "      <td>0.891730</td>\n",
       "    </tr>\n",
       "    <tr>\n",
       "      <th>75%</th>\n",
       "      <td>2013.250000</td>\n",
       "      <td>1.188879</td>\n",
       "    </tr>\n",
       "    <tr>\n",
       "      <th>max</th>\n",
       "      <td>2021.000000</td>\n",
       "      <td>1.459248</td>\n",
       "    </tr>\n",
       "    <tr>\n",
       "      <th>95%</th>\n",
       "      <td>2020.000000</td>\n",
       "      <td>1.423563</td>\n",
       "    </tr>\n",
       "  </tbody>\n",
       "</table>\n",
       "</div>"
      ],
      "text/plain": [
       "              Year        PPP\n",
       "count    96.000000  96.000000\n",
       "mean   2005.500000   0.881732\n",
       "std       9.281561   0.328308\n",
       "min    1990.000000   0.458219\n",
       "25%    1997.750000   0.525021\n",
       "50%    2005.500000   0.891730\n",
       "75%    2013.250000   1.188879\n",
       "max    2021.000000   1.459248\n",
       "95%    2020.000000   1.423563"
      ]
     },
     "metadata": {},
     "output_type": "display_data"
    }
   ],
   "source": [
    "data_quantile = data_quantile.drop(['25%', '75%'])\n",
    "statistics_ppp = pd.concat([statistics_ppp, data_quantile], ignore_index=False)\n",
    "display(statistics_ppp)"
   ]
  },
  {
   "cell_type": "code",
   "execution_count": 44,
   "id": "0febd01a-1ba7-43b5-bf75-e8aba1c79a25",
   "metadata": {
    "tags": []
   },
   "outputs": [],
   "source": [
    "statistics_ppp.to_csv(\"./tables_and_graphs/statistics_ppp.csv\", index = True)"
   ]
  },
  {
   "cell_type": "code",
   "execution_count": 45,
   "id": "00ed2d5d-dea1-4c75-af5f-9496fdc946fe",
   "metadata": {
    "tags": []
   },
   "outputs": [],
   "source": [
    "#statistics_ppp.to_excel(\"./tables_and_graphs/statistics_ppp.xlsx\", sheet_name=\"Sheet1\", index=False)"
   ]
  },
  {
   "cell_type": "code",
   "execution_count": 46,
   "id": "f70f7b78-6b1f-4f23-a775-6da1006f9e46",
   "metadata": {
    "tags": []
   },
   "outputs": [],
   "source": [
    "#statistics_ppp.to_json(path_or_buf=\"./tables_and_graphs/statistics_ppp.json\", orient=\"split\")"
   ]
  },
  {
   "cell_type": "markdown",
   "id": "54089d9e-83bc-42de-93a0-6f0c26369f95",
   "metadata": {},
   "source": [
    "3. #### Розглянемо таблиці з розташуванням **'../src/oil-prices/'**."
   ]
  },
  {
   "cell_type": "markdown",
   "id": "da87e230-6e12-4771-a424-d9b41c753e1a",
   "metadata": {
    "tags": []
   },
   "source": [
    "Поглянемо на список файлів у наступній папці."
   ]
  },
  {
   "cell_type": "code",
   "execution_count": 47,
   "id": "1f6aacb6-cdee-4a1c-bc7c-1d0122693356",
   "metadata": {
    "tags": []
   },
   "outputs": [
    {
     "data": {
      "text/plain": [
       "['wti-year.csv',\n",
       " 'wti-daily.csv',\n",
       " 'wti-weekly.csv',\n",
       " 'brent-daily.csv',\n",
       " 'brent-year.csv',\n",
       " 'wti-monthly.csv',\n",
       " 'brent-monthly.csv',\n",
       " 'brent-weekly.csv']"
      ]
     },
     "execution_count": 47,
     "metadata": {},
     "output_type": "execute_result"
    }
   ],
   "source": [
    "files_oil = os.listdir('../src/oil-prices')\n",
    "files_oil_csv = [file for file in files_oil if '.csv' in file]\n",
    "files_oil_csv                 "
   ]
  },
  {
   "cell_type": "markdown",
   "id": "62e7a6d9-3042-4b0d-8200-b1c38db185a7",
   "metadata": {},
   "source": [
    "Тут є файли з 2 марками нафти 'wti' та 'brent'."
   ]
  },
  {
   "cell_type": "markdown",
   "id": "5ac39807-7823-47dd-b6ec-60622520413b",
   "metadata": {},
   "source": [
    "**Для того щоб знайти статистичні величини для даних з кожного файлу можемо зробити це 2 варіантами:**\n",
    "\n",
    "**3.1 Об'єднаємо дані всіх файлів в один датафрейм, згрупуємо дані за стовпчиком 'Date', просумуємо за стовпчиком 'Price' та знайдемо необхідні величини з цього датафрейму.**"
   ]
  },
  {
   "cell_type": "code",
   "execution_count": 48,
   "id": "fa2bbe56-ea78-4379-970d-f50731425d3a",
   "metadata": {
    "tags": []
   },
   "outputs": [],
   "source": [
    "def concat_files_oil(files_oil_csv):\n",
    "    for i in range(len(files_oil_csv)):\n",
    "        join_path = os.path.join('../src/oil-prices', files_oil_csv[i])\n",
    "        #print('#', i+1, 'df_oil ->', join_path)\n",
    "        df_oil = pd.read_csv(join_path)\n",
    "\n",
    "        if i == 0:\n",
    "            result = df_oil.copy(deep=True)\n",
    "            #print('df_oil_prices = df_oil.copy(deep=True)')\n",
    "        else:\n",
    "            result = pd.concat([result, df_oil], ignore_index=True)\n",
    "            #print('df_oil_prices = pd.concat([res, df_oil], ignore_index=True)')\n",
    "        #print()\n",
    "    print(\"The concatenation process in folder '{}' is complete.\".format('../src/oil-prices'))  \n",
    "    return result"
   ]
  },
  {
   "cell_type": "code",
   "execution_count": 49,
   "id": "ecc35e93-30d2-486d-8164-7c4a7bf9294c",
   "metadata": {
    "tags": []
   },
   "outputs": [
    {
     "name": "stdout",
     "output_type": "stream",
     "text": [
      "The concatenation process in folder '../src/oil-prices' is complete.\n"
     ]
    },
    {
     "data": {
      "text/html": [
       "<div>\n",
       "<style scoped>\n",
       "    .dataframe tbody tr th:only-of-type {\n",
       "        vertical-align: middle;\n",
       "    }\n",
       "\n",
       "    .dataframe tbody tr th {\n",
       "        vertical-align: top;\n",
       "    }\n",
       "\n",
       "    .dataframe thead th {\n",
       "        text-align: right;\n",
       "    }\n",
       "</style>\n",
       "<table border=\"1\" class=\"dataframe\">\n",
       "  <thead>\n",
       "    <tr style=\"text-align: right;\">\n",
       "      <th></th>\n",
       "      <th>Date</th>\n",
       "      <th>Price</th>\n",
       "    </tr>\n",
       "  </thead>\n",
       "  <tbody>\n",
       "    <tr>\n",
       "      <th>0</th>\n",
       "      <td>1986-06-30</td>\n",
       "      <td>15.05</td>\n",
       "    </tr>\n",
       "    <tr>\n",
       "      <th>1</th>\n",
       "      <td>1987-06-30</td>\n",
       "      <td>19.20</td>\n",
       "    </tr>\n",
       "    <tr>\n",
       "      <th>2</th>\n",
       "      <td>1988-06-30</td>\n",
       "      <td>15.97</td>\n",
       "    </tr>\n",
       "  </tbody>\n",
       "</table>\n",
       "</div>"
      ],
      "text/plain": [
       "         Date  Price\n",
       "0  1986-06-30  15.05\n",
       "1  1987-06-30  19.20\n",
       "2  1988-06-30  15.97"
      ]
     },
     "execution_count": 49,
     "metadata": {},
     "output_type": "execute_result"
    }
   ],
   "source": [
    "data_oil = concat_files_oil(files_oil_csv)  \n",
    "data_oil.head(3)"
   ]
  },
  {
   "cell_type": "code",
   "execution_count": 50,
   "id": "1d78d08b-2df5-4675-9296-bc2ddd64aa8b",
   "metadata": {
    "tags": []
   },
   "outputs": [
    {
     "data": {
      "text/html": [
       "<div>\n",
       "<style scoped>\n",
       "    .dataframe tbody tr th:only-of-type {\n",
       "        vertical-align: middle;\n",
       "    }\n",
       "\n",
       "    .dataframe tbody tr th {\n",
       "        vertical-align: top;\n",
       "    }\n",
       "\n",
       "    .dataframe thead th {\n",
       "        text-align: right;\n",
       "    }\n",
       "</style>\n",
       "<table border=\"1\" class=\"dataframe\">\n",
       "  <thead>\n",
       "    <tr style=\"text-align: right;\">\n",
       "      <th></th>\n",
       "      <th>Price</th>\n",
       "    </tr>\n",
       "    <tr>\n",
       "      <th>Date</th>\n",
       "      <th></th>\n",
       "    </tr>\n",
       "  </thead>\n",
       "  <tbody>\n",
       "    <tr>\n",
       "      <th>2020-04-20</th>\n",
       "      <td>-19.62</td>\n",
       "    </tr>\n",
       "    <tr>\n",
       "      <th>1986-03-31</th>\n",
       "      <td>10.25</td>\n",
       "    </tr>\n",
       "    <tr>\n",
       "      <th>1998-11-26</th>\n",
       "      <td>10.41</td>\n",
       "    </tr>\n",
       "  </tbody>\n",
       "</table>\n",
       "</div>"
      ],
      "text/plain": [
       "            Price\n",
       "Date             \n",
       "2020-04-20 -19.62\n",
       "1986-03-31  10.25\n",
       "1998-11-26  10.41"
      ]
     },
     "execution_count": 50,
     "metadata": {},
     "output_type": "execute_result"
    }
   ],
   "source": [
    "grouped_df = data_oil.groupby('Date')['Price'].sum()\n",
    "\n",
    "sort_grouped_df = grouped_df.sort_values(ascending=True)\n",
    "sort_grouped_df = pd.DataFrame(data=sort_grouped_df)\n",
    "sort_grouped_df.head(3)"
   ]
  },
  {
   "cell_type": "code",
   "execution_count": 51,
   "id": "53695bd7-0ba8-43ef-99e0-3e26ebcd7914",
   "metadata": {
    "tags": []
   },
   "outputs": [
    {
     "data": {
      "text/html": [
       "<div>\n",
       "<style scoped>\n",
       "    .dataframe tbody tr th:only-of-type {\n",
       "        vertical-align: middle;\n",
       "    }\n",
       "\n",
       "    .dataframe tbody tr th {\n",
       "        vertical-align: top;\n",
       "    }\n",
       "\n",
       "    .dataframe thead th {\n",
       "        text-align: right;\n",
       "    }\n",
       "</style>\n",
       "<table border=\"1\" class=\"dataframe\">\n",
       "  <thead>\n",
       "    <tr style=\"text-align: right;\">\n",
       "      <th></th>\n",
       "      <th>Price</th>\n",
       "    </tr>\n",
       "  </thead>\n",
       "  <tbody>\n",
       "    <tr>\n",
       "      <th>count</th>\n",
       "      <td>9691.000000</td>\n",
       "    </tr>\n",
       "    <tr>\n",
       "      <th>mean</th>\n",
       "      <td>113.196581</td>\n",
       "    </tr>\n",
       "    <tr>\n",
       "      <th>std</th>\n",
       "      <td>91.661473</td>\n",
       "    </tr>\n",
       "    <tr>\n",
       "      <th>min</th>\n",
       "      <td>-19.620000</td>\n",
       "    </tr>\n",
       "    <tr>\n",
       "      <th>25%</th>\n",
       "      <td>40.705000</td>\n",
       "    </tr>\n",
       "    <tr>\n",
       "      <th>50%</th>\n",
       "      <td>85.120000</td>\n",
       "    </tr>\n",
       "    <tr>\n",
       "      <th>75%</th>\n",
       "      <td>154.640000</td>\n",
       "    </tr>\n",
       "    <tr>\n",
       "      <th>max</th>\n",
       "      <td>697.910000</td>\n",
       "    </tr>\n",
       "  </tbody>\n",
       "</table>\n",
       "</div>"
      ],
      "text/plain": [
       "             Price\n",
       "count  9691.000000\n",
       "mean    113.196581\n",
       "std      91.661473\n",
       "min     -19.620000\n",
       "25%      40.705000\n",
       "50%      85.120000\n",
       "75%     154.640000\n",
       "max     697.910000"
      ]
     },
     "execution_count": 51,
     "metadata": {},
     "output_type": "execute_result"
    }
   ],
   "source": [
    "statistics_oil = sort_grouped_df.describe()\n",
    "statistics_oil"
   ]
  },
  {
   "cell_type": "code",
   "execution_count": 52,
   "id": "9908ba2b-05e5-462e-bfab-ba2e472b1ffd",
   "metadata": {
    "tags": []
   },
   "outputs": [
    {
     "data": {
      "text/html": [
       "<div>\n",
       "<style scoped>\n",
       "    .dataframe tbody tr th:only-of-type {\n",
       "        vertical-align: middle;\n",
       "    }\n",
       "\n",
       "    .dataframe tbody tr th {\n",
       "        vertical-align: top;\n",
       "    }\n",
       "\n",
       "    .dataframe thead th {\n",
       "        text-align: right;\n",
       "    }\n",
       "</style>\n",
       "<table border=\"1\" class=\"dataframe\">\n",
       "  <thead>\n",
       "    <tr style=\"text-align: right;\">\n",
       "      <th></th>\n",
       "      <th>Price</th>\n",
       "    </tr>\n",
       "  </thead>\n",
       "  <tbody>\n",
       "    <tr>\n",
       "      <th>25%</th>\n",
       "      <td>40.705</td>\n",
       "    </tr>\n",
       "    <tr>\n",
       "      <th>75%</th>\n",
       "      <td>154.640</td>\n",
       "    </tr>\n",
       "    <tr>\n",
       "      <th>95%</th>\n",
       "      <td>290.100</td>\n",
       "    </tr>\n",
       "  </tbody>\n",
       "</table>\n",
       "</div>"
      ],
      "text/plain": [
       "       Price\n",
       "25%   40.705\n",
       "75%  154.640\n",
       "95%  290.100"
      ]
     },
     "execution_count": 52,
     "metadata": {},
     "output_type": "execute_result"
    }
   ],
   "source": [
    "data_quantile = pd.DataFrame(np.zeros((3,1)), columns = ['Price'], index = ['25%', '75%', '95%'])\n",
    "\n",
    "for j in ['Price']:\n",
    "    data = sort_grouped_df\n",
    "    data_quantile[j][0] = np.quantile(data, .25)\n",
    "    data_quantile[j][1] = np.quantile(data, .75)\n",
    "    data_quantile[j][2] = np.quantile(data, .95)\n",
    "    \n",
    "data_quantile"
   ]
  },
  {
   "cell_type": "code",
   "execution_count": 53,
   "id": "ba1260dc-c18e-41cc-a0a3-7ed96b5224dd",
   "metadata": {
    "tags": []
   },
   "outputs": [
    {
     "data": {
      "text/html": [
       "<div>\n",
       "<style scoped>\n",
       "    .dataframe tbody tr th:only-of-type {\n",
       "        vertical-align: middle;\n",
       "    }\n",
       "\n",
       "    .dataframe tbody tr th {\n",
       "        vertical-align: top;\n",
       "    }\n",
       "\n",
       "    .dataframe thead th {\n",
       "        text-align: right;\n",
       "    }\n",
       "</style>\n",
       "<table border=\"1\" class=\"dataframe\">\n",
       "  <thead>\n",
       "    <tr style=\"text-align: right;\">\n",
       "      <th></th>\n",
       "      <th>Price</th>\n",
       "    </tr>\n",
       "  </thead>\n",
       "  <tbody>\n",
       "    <tr>\n",
       "      <th>count</th>\n",
       "      <td>9691.000000</td>\n",
       "    </tr>\n",
       "    <tr>\n",
       "      <th>mean</th>\n",
       "      <td>113.196581</td>\n",
       "    </tr>\n",
       "    <tr>\n",
       "      <th>std</th>\n",
       "      <td>91.661473</td>\n",
       "    </tr>\n",
       "    <tr>\n",
       "      <th>min</th>\n",
       "      <td>-19.620000</td>\n",
       "    </tr>\n",
       "    <tr>\n",
       "      <th>25%</th>\n",
       "      <td>40.705000</td>\n",
       "    </tr>\n",
       "    <tr>\n",
       "      <th>50%</th>\n",
       "      <td>85.120000</td>\n",
       "    </tr>\n",
       "    <tr>\n",
       "      <th>75%</th>\n",
       "      <td>154.640000</td>\n",
       "    </tr>\n",
       "    <tr>\n",
       "      <th>max</th>\n",
       "      <td>697.910000</td>\n",
       "    </tr>\n",
       "    <tr>\n",
       "      <th>95%</th>\n",
       "      <td>290.100000</td>\n",
       "    </tr>\n",
       "  </tbody>\n",
       "</table>\n",
       "</div>"
      ],
      "text/plain": [
       "             Price\n",
       "count  9691.000000\n",
       "mean    113.196581\n",
       "std      91.661473\n",
       "min     -19.620000\n",
       "25%      40.705000\n",
       "50%      85.120000\n",
       "75%     154.640000\n",
       "max     697.910000\n",
       "95%     290.100000"
      ]
     },
     "metadata": {},
     "output_type": "display_data"
    }
   ],
   "source": [
    "data_quantile = data_quantile.drop(['25%', '75%'])\n",
    "statistics_oil = pd.concat([statistics_oil, data_quantile], ignore_index=False)\n",
    "display(statistics_oil)"
   ]
  },
  {
   "cell_type": "code",
   "execution_count": 54,
   "id": "d352f688-4dae-478a-86b8-62865ebf78be",
   "metadata": {
    "tags": []
   },
   "outputs": [],
   "source": [
    "statistics_oil.to_csv(\"./tables_and_graphs/statistics_oil.csv\", index = True)"
   ]
  },
  {
   "cell_type": "code",
   "execution_count": 55,
   "id": "379d3150-a621-464d-8db9-ef8acf8b4ad4",
   "metadata": {
    "tags": []
   },
   "outputs": [],
   "source": [
    "#statistics_oil.to_excel(\"./tables_and_graphs/statistics_oil.xlsx\", sheet_name=\"Sheet1\", index=False)"
   ]
  },
  {
   "cell_type": "code",
   "execution_count": 56,
   "id": "d6817ec0-1769-4788-bb3e-011e40fc5446",
   "metadata": {
    "tags": []
   },
   "outputs": [],
   "source": [
    "#statistics_oil.to_json(path_or_buf=\"./tables_and_graphs/statistics_oil.json\", orient=\"split\")"
   ]
  },
  {
   "cell_type": "markdown",
   "id": "bf0a1b52-c2f0-4843-9ede-c7c3cae357ca",
   "metadata": {},
   "source": [
    "Порівнявши з результатом методу **.describe()** бачимо, що результат такий же. Значення для 95% правильне."
   ]
  },
  {
   "cell_type": "markdown",
   "id": "ee2da19c-49c9-4cb6-a222-d9f1e629b773",
   "metadata": {},
   "source": [
    "**3.2 Інший варіант. Виведемо необхідні величини для кожного з файлів.**"
   ]
  },
  {
   "cell_type": "code",
   "execution_count": 57,
   "id": "782d05fc-5425-42ca-97bf-fc3d41623f18",
   "metadata": {
    "tags": []
   },
   "outputs": [
    {
     "name": "stdout",
     "output_type": "stream",
     "text": [
      "Let's describe the data from each file in folder '../src/oil-prices'.\n",
      "\n",
      "# 1 ../src/oil-prices/wti-year.csv\n",
      "           Price\n",
      "count  37.000000\n",
      "mean   46.096216\n",
      "std    28.904254\n",
      "min    14.420000\n",
      "25%    20.580000\n",
      "50%    39.160000\n",
      "75%    66.050000\n",
      "max    99.670000\n",
      "95%    95.516000 \n",
      "\n",
      "# 2 ../src/oil-prices/wti-daily.csv\n",
      "             Price\n",
      "count  9347.000000\n",
      "mean     46.116338\n",
      "std      29.600880\n",
      "min     -36.980000\n",
      "25%      19.990000\n",
      "50%      36.060000\n",
      "75%      67.360000\n",
      "max     145.310000\n",
      "95%    101.730000 \n",
      "\n",
      "# 3 ../src/oil-prices/wti-weekly.csv\n",
      "             Price\n",
      "count  1936.000000\n",
      "mean     46.150511\n",
      "std      29.562021\n",
      "min       3.320000\n",
      "25%      19.990000\n",
      "50%      36.645000\n",
      "75%      67.535000\n",
      "max     142.520000\n",
      "95%    101.967500 \n",
      "\n",
      "# 4 ../src/oil-prices/brent-daily.csv\n",
      "             Price\n",
      "count  9066.000000\n",
      "mean     48.631736\n",
      "std      32.874360\n",
      "min       9.100000\n",
      "25%      19.080000\n",
      "50%      39.410000\n",
      "75%      70.720000\n",
      "max     143.950000\n",
      "95%    111.897500 \n",
      "\n",
      "# 5 ../src/oil-prices/brent-year.csv\n",
      "            Price\n",
      "count   36.000000\n",
      "mean    48.351944\n",
      "std     32.390897\n",
      "min     12.760000\n",
      "25%     19.267500\n",
      "50%     40.110000\n",
      "75%     70.980000\n",
      "max    111.630000\n",
      "95%    109.235000 \n",
      "\n",
      "# 6 ../src/oil-prices/wti-monthly.csv\n",
      "            Price\n",
      "count  445.000000\n",
      "mean    46.127326\n",
      "std     29.515293\n",
      "min     11.350000\n",
      "25%     19.950000\n",
      "50%     36.040000\n",
      "75%     67.730000\n",
      "max    133.880000\n",
      "95%    101.748000 \n",
      "\n",
      "# 7 ../src/oil-prices/brent-monthly.csv\n",
      "            Price\n",
      "count  429.000000\n",
      "mean    48.671585\n",
      "std     32.933488\n",
      "min      9.820000\n",
      "25%     19.020000\n",
      "50%     39.600000\n",
      "75%     71.230000\n",
      "max    132.720000\n",
      "95%    111.764000 \n",
      "\n",
      "# 8 ../src/oil-prices/brent-weekly.csv\n",
      "             Price\n",
      "count  1865.000000\n",
      "mean     48.709357\n",
      "std      32.972446\n",
      "min       9.440000\n",
      "25%      19.070000\n",
      "50%      39.450000\n",
      "75%      71.020000\n",
      "max     141.070000\n",
      "95%    111.768000 \n",
      "\n",
      "The description of all files in folder '../src/oil-prices' is complete.\n"
     ]
    }
   ],
   "source": [
    "print(\"Let's describe the data from each file in folder '../src/oil-prices'.\\n\")\n",
    "for i in range(len(files_oil_csv)):\n",
    "\n",
    "    join_path = os.path.join('../src/oil-prices', files_oil_csv[i])\n",
    "    print('#', i+1, join_path)\n",
    "\n",
    "    df_oil = pd.read_csv(join_path)\n",
    "    #print('.head(3):\\n{}'.format(df_oil.head(3)))\n",
    "    \n",
    "    print(df_oil.describe()) #print(display(df_oil.describe()))\n",
    "    print('95%    {:8.6f}'.format(np.quantile(df_oil['Price'], .95)), '\\n')\n",
    "    \n",
    "print(\"The description of all files in folder '../src/oil-prices' is complete.\")"
   ]
  },
  {
   "cell_type": "markdown",
   "id": "2685d93c-a35e-4ea1-a19c-2bb9f35cafac",
   "metadata": {
    "tags": []
   },
   "source": [
    "### Task 3 Показати по роках по кожній країні для вашого варіанта зв'язок між іншими datasets (для яких є дані):\n",
    "#### I.   зв'язок ціни на нафту з ppp\n",
    "#### II.  відсоток ppp окремої країни до середнього ppp всіх країн за рік\n",
    "#### III. зв'язок  популяції та ppp\n",
    "#### IV.  зв'язок популяції та цін на нафту"
   ]
  },
  {
   "cell_type": "markdown",
   "id": "dc3008d1-7363-415c-9e8b-184312ece032",
   "metadata": {},
   "source": [
    "Для знаходженння зв'язку величин будемо використовувати метод **data.corr()**. Він дасть нам кореляційну матрицю для набору даних."
   ]
  },
  {
   "cell_type": "markdown",
   "id": "026cde76-a723-45d1-9dab-47acd84c11f4",
   "metadata": {
    "tags": []
   },
   "source": [
    "#### I. Зв'язок ціни на нафту з ppp"
   ]
  },
  {
   "cell_type": "markdown",
   "id": "6a64258f-f89b-490b-b9da-27c695d39e89",
   "metadata": {},
   "source": [
    "Розглянемо дані цін на нафту. Згрупуємо їх за роками та просумуємо за країнами. Перетворимо стовпчик **'Date'** в **'Year'**."
   ]
  },
  {
   "cell_type": "code",
   "execution_count": 58,
   "id": "5d62ee1c-c25e-43ea-87b9-ec6ff3771c8b",
   "metadata": {
    "tags": []
   },
   "outputs": [
    {
     "name": "stdout",
     "output_type": "stream",
     "text": [
      "The concatenation process in folder '../src/oil-prices' is complete.\n"
     ]
    },
    {
     "data": {
      "text/html": [
       "<div>\n",
       "<style scoped>\n",
       "    .dataframe tbody tr th:only-of-type {\n",
       "        vertical-align: middle;\n",
       "    }\n",
       "\n",
       "    .dataframe tbody tr th {\n",
       "        vertical-align: top;\n",
       "    }\n",
       "\n",
       "    .dataframe thead th {\n",
       "        text-align: right;\n",
       "    }\n",
       "</style>\n",
       "<table border=\"1\" class=\"dataframe\">\n",
       "  <thead>\n",
       "    <tr style=\"text-align: right;\">\n",
       "      <th></th>\n",
       "      <th>Date</th>\n",
       "      <th>Price</th>\n",
       "    </tr>\n",
       "  </thead>\n",
       "  <tbody>\n",
       "    <tr>\n",
       "      <th>0</th>\n",
       "      <td>1986-06-30</td>\n",
       "      <td>15.05</td>\n",
       "    </tr>\n",
       "    <tr>\n",
       "      <th>1</th>\n",
       "      <td>1987-06-30</td>\n",
       "      <td>19.20</td>\n",
       "    </tr>\n",
       "    <tr>\n",
       "      <th>2</th>\n",
       "      <td>1988-06-30</td>\n",
       "      <td>15.97</td>\n",
       "    </tr>\n",
       "  </tbody>\n",
       "</table>\n",
       "</div>"
      ],
      "text/plain": [
       "         Date  Price\n",
       "0  1986-06-30  15.05\n",
       "1  1987-06-30  19.20\n",
       "2  1988-06-30  15.97"
      ]
     },
     "execution_count": 58,
     "metadata": {},
     "output_type": "execute_result"
    }
   ],
   "source": [
    "data_oil = concat_files_oil(files_oil_csv)  \n",
    "data_oil.head(3)"
   ]
  },
  {
   "cell_type": "code",
   "execution_count": 59,
   "id": "00ae36b6-a2ff-493e-8e02-6705d2e08314",
   "metadata": {
    "tags": []
   },
   "outputs": [],
   "source": [
    "grouped_df_oil = data_oil.groupby('Date')['Price'].sum()\n",
    "\n",
    "date_df = grouped_df_oil.index\n",
    "list_years = []\n",
    "for element in date_df:\n",
    "    list_years.append(int(element[:4])) #'1986-01-02' -> '1986' -> 1986\n",
    "    \n",
    "grouped_df_oil = pd.DataFrame(data=grouped_df_oil)\n",
    "grouped_df_oil[\"Year\"] = list_years\n",
    "grouped_df_oil = grouped_df_oil.reset_index()"
   ]
  },
  {
   "cell_type": "code",
   "execution_count": 60,
   "id": "d1b2b709-59c9-46f5-aeeb-17eef7c7cfb8",
   "metadata": {
    "tags": []
   },
   "outputs": [],
   "source": [
    "grouped_df_oil = grouped_df_oil.drop(['Date'], axis=1)"
   ]
  },
  {
   "cell_type": "code",
   "execution_count": 61,
   "id": "bf4562c4-18d5-4de6-804b-5e048ddfb9fb",
   "metadata": {
    "tags": []
   },
   "outputs": [
    {
     "data": {
      "text/html": [
       "<div>\n",
       "<style scoped>\n",
       "    .dataframe tbody tr th:only-of-type {\n",
       "        vertical-align: middle;\n",
       "    }\n",
       "\n",
       "    .dataframe tbody tr th {\n",
       "        vertical-align: top;\n",
       "    }\n",
       "\n",
       "    .dataframe thead th {\n",
       "        text-align: right;\n",
       "    }\n",
       "</style>\n",
       "<table border=\"1\" class=\"dataframe\">\n",
       "  <thead>\n",
       "    <tr style=\"text-align: right;\">\n",
       "      <th></th>\n",
       "      <th>Year</th>\n",
       "      <th>Price</th>\n",
       "    </tr>\n",
       "  </thead>\n",
       "  <tbody>\n",
       "    <tr>\n",
       "      <th>0</th>\n",
       "      <td>1986</td>\n",
       "      <td>4759.31</td>\n",
       "    </tr>\n",
       "    <tr>\n",
       "      <th>1</th>\n",
       "      <td>1987</td>\n",
       "      <td>9866.98</td>\n",
       "    </tr>\n",
       "    <tr>\n",
       "      <th>2</th>\n",
       "      <td>1988</td>\n",
       "      <td>9947.21</td>\n",
       "    </tr>\n",
       "  </tbody>\n",
       "</table>\n",
       "</div>"
      ],
      "text/plain": [
       "   Year    Price\n",
       "0  1986  4759.31\n",
       "1  1987  9866.98\n",
       "2  1988  9947.21"
      ]
     },
     "execution_count": 61,
     "metadata": {},
     "output_type": "execute_result"
    }
   ],
   "source": [
    "grouped_df_oil = grouped_df_oil.groupby('Year')['Price'].sum()\n",
    "grouped_df_oil = pd.DataFrame(data=grouped_df_oil)\n",
    "grouped_df_oil = grouped_df_oil.reset_index()\n",
    "grouped_df_oil.head(3)"
   ]
  },
  {
   "cell_type": "markdown",
   "id": "d4304ea2-bdee-4b06-9e95-6987316f9894",
   "metadata": {},
   "source": [
    "Згрупуємо дані для **PPP**."
   ]
  },
  {
   "cell_type": "code",
   "execution_count": 62,
   "id": "9aadaa4a-1709-469f-a997-45910eb66aab",
   "metadata": {
    "tags": []
   },
   "outputs": [
    {
     "data": {
      "text/html": [
       "<div>\n",
       "<style scoped>\n",
       "    .dataframe tbody tr th:only-of-type {\n",
       "        vertical-align: middle;\n",
       "    }\n",
       "\n",
       "    .dataframe tbody tr th {\n",
       "        vertical-align: top;\n",
       "    }\n",
       "\n",
       "    .dataframe thead th {\n",
       "        text-align: right;\n",
       "    }\n",
       "</style>\n",
       "<table border=\"1\" class=\"dataframe\">\n",
       "  <thead>\n",
       "    <tr style=\"text-align: right;\">\n",
       "      <th></th>\n",
       "      <th>Country</th>\n",
       "      <th>Country ID</th>\n",
       "      <th>Year</th>\n",
       "      <th>PPP</th>\n",
       "    </tr>\n",
       "  </thead>\n",
       "  <tbody>\n",
       "    <tr>\n",
       "      <th>2657</th>\n",
       "      <td>Bermuda</td>\n",
       "      <td>BM</td>\n",
       "      <td>2021</td>\n",
       "      <td>1.293754</td>\n",
       "    </tr>\n",
       "    <tr>\n",
       "      <th>2658</th>\n",
       "      <td>Bermuda</td>\n",
       "      <td>BM</td>\n",
       "      <td>2020</td>\n",
       "      <td>1.342591</td>\n",
       "    </tr>\n",
       "    <tr>\n",
       "      <th>2659</th>\n",
       "      <td>Bermuda</td>\n",
       "      <td>BM</td>\n",
       "      <td>2019</td>\n",
       "      <td>1.364436</td>\n",
       "    </tr>\n",
       "  </tbody>\n",
       "</table>\n",
       "</div>"
      ],
      "text/plain": [
       "      Country Country ID  Year       PPP\n",
       "2657  Bermuda         BM  2021  1.293754\n",
       "2658  Bermuda         BM  2020  1.342591\n",
       "2659  Bermuda         BM  2019  1.364436"
      ]
     },
     "metadata": {},
     "output_type": "display_data"
    }
   ],
   "source": [
    "data_ppp = pd.read_csv('../src/ppp/ppp-gdp.csv')\n",
    "data_ppp_filtered = data_ppp.query(' `Country` in @filter_country ')\n",
    "display(data_ppp_filtered.head(3))"
   ]
  },
  {
   "cell_type": "code",
   "execution_count": 63,
   "id": "7e8be88c-2748-4c18-a2e3-c241f4e386ff",
   "metadata": {
    "tags": []
   },
   "outputs": [
    {
     "data": {
      "text/plain": [
       "array(['Bermuda', 'France', 'Panama'], dtype=object)"
      ]
     },
     "execution_count": 63,
     "metadata": {},
     "output_type": "execute_result"
    }
   ],
   "source": [
    "data_ppp_filtered['Country'].unique()"
   ]
  },
  {
   "cell_type": "code",
   "execution_count": 64,
   "id": "b6539bf4-bec2-440e-b186-e5d610267985",
   "metadata": {
    "tags": []
   },
   "outputs": [
    {
     "data": {
      "text/html": [
       "<div>\n",
       "<style scoped>\n",
       "    .dataframe tbody tr th:only-of-type {\n",
       "        vertical-align: middle;\n",
       "    }\n",
       "\n",
       "    .dataframe tbody tr th {\n",
       "        vertical-align: top;\n",
       "    }\n",
       "\n",
       "    .dataframe thead th {\n",
       "        text-align: right;\n",
       "    }\n",
       "</style>\n",
       "<table border=\"1\" class=\"dataframe\">\n",
       "  <thead>\n",
       "    <tr style=\"text-align: right;\">\n",
       "      <th></th>\n",
       "      <th>Year</th>\n",
       "      <th>PPP</th>\n",
       "    </tr>\n",
       "  </thead>\n",
       "  <tbody>\n",
       "    <tr>\n",
       "      <th>0</th>\n",
       "      <td>1990</td>\n",
       "      <td>2.415625</td>\n",
       "    </tr>\n",
       "    <tr>\n",
       "      <th>1</th>\n",
       "      <td>1991</td>\n",
       "      <td>2.418667</td>\n",
       "    </tr>\n",
       "    <tr>\n",
       "      <th>2</th>\n",
       "      <td>1992</td>\n",
       "      <td>2.433930</td>\n",
       "    </tr>\n",
       "  </tbody>\n",
       "</table>\n",
       "</div>"
      ],
      "text/plain": [
       "   Year       PPP\n",
       "0  1990  2.415625\n",
       "1  1991  2.418667\n",
       "2  1992  2.433930"
      ]
     },
     "execution_count": 64,
     "metadata": {},
     "output_type": "execute_result"
    }
   ],
   "source": [
    "group_ppp = data_ppp_filtered.groupby('Year')['PPP'].sum()\n",
    "group_ppp = pd.DataFrame(data=group_ppp)\n",
    "group_ppp = group_ppp.reset_index()\n",
    "group_ppp.head(3)"
   ]
  },
  {
   "cell_type": "markdown",
   "id": "6f9e3b7d-8e65-4c1c-bc49-bbb40f7a8835",
   "metadata": {},
   "source": [
    "З'єднаємо датафрейми і видозмінимо стовпці."
   ]
  },
  {
   "cell_type": "code",
   "execution_count": 65,
   "id": "2c75c13d-cad9-4dd6-9afb-838f23501637",
   "metadata": {
    "tags": []
   },
   "outputs": [
    {
     "data": {
      "text/html": [
       "<div>\n",
       "<style scoped>\n",
       "    .dataframe tbody tr th:only-of-type {\n",
       "        vertical-align: middle;\n",
       "    }\n",
       "\n",
       "    .dataframe tbody tr th {\n",
       "        vertical-align: top;\n",
       "    }\n",
       "\n",
       "    .dataframe thead th {\n",
       "        text-align: right;\n",
       "    }\n",
       "</style>\n",
       "<table border=\"1\" class=\"dataframe\">\n",
       "  <thead>\n",
       "    <tr style=\"text-align: right;\">\n",
       "      <th></th>\n",
       "      <th>Year</th>\n",
       "      <th>Price</th>\n",
       "      <th>PPP</th>\n",
       "    </tr>\n",
       "  </thead>\n",
       "  <tbody>\n",
       "    <tr>\n",
       "      <th>0</th>\n",
       "      <td>1990</td>\n",
       "      <td>15514.84</td>\n",
       "      <td>2.415625</td>\n",
       "    </tr>\n",
       "    <tr>\n",
       "      <th>1</th>\n",
       "      <td>1991</td>\n",
       "      <td>13372.36</td>\n",
       "      <td>2.418667</td>\n",
       "    </tr>\n",
       "    <tr>\n",
       "      <th>2</th>\n",
       "      <td>1992</td>\n",
       "      <td>12845.76</td>\n",
       "      <td>2.433930</td>\n",
       "    </tr>\n",
       "  </tbody>\n",
       "</table>\n",
       "</div>"
      ],
      "text/plain": [
       "   Year     Price       PPP\n",
       "0  1990  15514.84  2.415625\n",
       "1  1991  13372.36  2.418667\n",
       "2  1992  12845.76  2.433930"
      ]
     },
     "execution_count": 65,
     "metadata": {},
     "output_type": "execute_result"
    }
   ],
   "source": [
    "df_merged = pd.merge(grouped_df_oil, group_ppp, left_on='Year', right_on='Year')\n",
    "df_merged.head(3)"
   ]
  },
  {
   "cell_type": "code",
   "execution_count": 66,
   "id": "bf8bb538-4ff8-48a6-9c1b-95a36aceaef0",
   "metadata": {
    "tags": []
   },
   "outputs": [
    {
     "data": {
      "text/html": [
       "<div>\n",
       "<style scoped>\n",
       "    .dataframe tbody tr th:only-of-type {\n",
       "        vertical-align: middle;\n",
       "    }\n",
       "\n",
       "    .dataframe tbody tr th {\n",
       "        vertical-align: top;\n",
       "    }\n",
       "\n",
       "    .dataframe thead th {\n",
       "        text-align: right;\n",
       "    }\n",
       "</style>\n",
       "<table border=\"1\" class=\"dataframe\">\n",
       "  <thead>\n",
       "    <tr style=\"text-align: right;\">\n",
       "      <th></th>\n",
       "      <th>Year</th>\n",
       "      <th>Price of oil</th>\n",
       "      <th>PPP</th>\n",
       "    </tr>\n",
       "  </thead>\n",
       "  <tbody>\n",
       "    <tr>\n",
       "      <th>0</th>\n",
       "      <td>1990</td>\n",
       "      <td>15514.84</td>\n",
       "      <td>2.415625</td>\n",
       "    </tr>\n",
       "    <tr>\n",
       "      <th>1</th>\n",
       "      <td>1991</td>\n",
       "      <td>13372.36</td>\n",
       "      <td>2.418667</td>\n",
       "    </tr>\n",
       "    <tr>\n",
       "      <th>2</th>\n",
       "      <td>1992</td>\n",
       "      <td>12845.76</td>\n",
       "      <td>2.433930</td>\n",
       "    </tr>\n",
       "  </tbody>\n",
       "</table>\n",
       "</div>"
      ],
      "text/plain": [
       "   Year  Price of oil       PPP\n",
       "0  1990      15514.84  2.415625\n",
       "1  1991      13372.36  2.418667\n",
       "2  1992      12845.76  2.433930"
      ]
     },
     "execution_count": 66,
     "metadata": {},
     "output_type": "execute_result"
    }
   ],
   "source": [
    "df_merged.rename(columns = {'Price':'Price of oil'}, inplace = True)\n",
    "df_merged = df_merged.reindex(columns=['Year','Price of oil','PPP'])\n",
    "df_merged.head(3)"
   ]
  },
  {
   "cell_type": "markdown",
   "id": "ec820e36-7785-41a0-87fb-634316e43a90",
   "metadata": {},
   "source": [
    "Обчислимо парну кореляцію стовпців **'Price of oil'** та **'PPP'**."
   ]
  },
  {
   "cell_type": "code",
   "execution_count": 67,
   "id": "3b429c79-d689-4112-8754-986d54ef8471",
   "metadata": {
    "tags": []
   },
   "outputs": [],
   "source": [
    "#display(df_merged.corr())"
   ]
  },
  {
   "cell_type": "code",
   "execution_count": 68,
   "id": "76702625-5687-455a-bdca-4d1e565b4f5e",
   "metadata": {
    "tags": []
   },
   "outputs": [
    {
     "data": {
      "text/html": [
       "<div>\n",
       "<style scoped>\n",
       "    .dataframe tbody tr th:only-of-type {\n",
       "        vertical-align: middle;\n",
       "    }\n",
       "\n",
       "    .dataframe tbody tr th {\n",
       "        vertical-align: top;\n",
       "    }\n",
       "\n",
       "    .dataframe thead th {\n",
       "        text-align: right;\n",
       "    }\n",
       "</style>\n",
       "<table border=\"1\" class=\"dataframe\">\n",
       "  <thead>\n",
       "    <tr style=\"text-align: right;\">\n",
       "      <th></th>\n",
       "      <th>Price of oil</th>\n",
       "      <th>PPP</th>\n",
       "    </tr>\n",
       "  </thead>\n",
       "  <tbody>\n",
       "    <tr>\n",
       "      <th>Price of oil</th>\n",
       "      <td>1.000000</td>\n",
       "      <td>0.669058</td>\n",
       "    </tr>\n",
       "    <tr>\n",
       "      <th>PPP</th>\n",
       "      <td>0.669058</td>\n",
       "      <td>1.000000</td>\n",
       "    </tr>\n",
       "  </tbody>\n",
       "</table>\n",
       "</div>"
      ],
      "text/plain": [
       "              Price of oil       PPP\n",
       "Price of oil      1.000000  0.669058\n",
       "PPP               0.669058  1.000000"
      ]
     },
     "execution_count": 68,
     "metadata": {},
     "output_type": "execute_result"
    }
   ],
   "source": [
    "columns = ['Price of oil', 'PPP']\n",
    "correlation_oil_ppp =  df_merged[columns].corr() # or display(df_merged['Price of oil'].corr(df_merged['PPP']))\n",
    "#correlation_oil_ppp.style.background_gradient(cmap='coolwarm')\n",
    "correlation_oil_ppp"
   ]
  },
  {
   "cell_type": "code",
   "execution_count": 69,
   "id": "bc84e7f6-5860-4c5d-9a92-d135a138a84f",
   "metadata": {
    "tags": []
   },
   "outputs": [],
   "source": [
    "correlation_oil_ppp.to_csv(\"./tables_and_graphs/correlation_oil_ppp.csv\", index = False)"
   ]
  },
  {
   "cell_type": "code",
   "execution_count": 70,
   "id": "f13386eb-0d24-493a-8f93-b9d25be912fe",
   "metadata": {
    "tags": []
   },
   "outputs": [],
   "source": [
    "#correlation_oil_ppp.to_excel(\"./tables_and_graphs/correlation_oil_ppp.xlsx\", sheet_name=\"Sheet1\", index=False)"
   ]
  },
  {
   "cell_type": "code",
   "execution_count": 71,
   "id": "a4d81cc9-12e2-4333-a9ad-71335f41926c",
   "metadata": {
    "tags": []
   },
   "outputs": [],
   "source": [
    "#correlation_oil_ppp.to_json(path_or_buf=\"./tables_and_graphs/correlation_oil_ppp.json\", orient=\"split\")"
   ]
  },
  {
   "cell_type": "markdown",
   "id": "fe52d849-57ab-45cf-a9ed-d508cb938532",
   "metadata": {},
   "source": [
    "#### II. Відсоток **ppp** окремої країни до середнього **ppp** всіх країн за рік"
   ]
  },
  {
   "cell_type": "code",
   "execution_count": 72,
   "id": "91135d29-1d92-49db-aed3-195efa12ba0d",
   "metadata": {
    "tags": []
   },
   "outputs": [],
   "source": [
    "data_ppp = pd.read_csv('../src/ppp/ppp-gdp.csv')\n",
    "data_ppp_filtered = data_ppp.query(' `Country` in @filter_country ')"
   ]
  },
  {
   "cell_type": "code",
   "execution_count": 73,
   "id": "e9307533-e328-42a6-9198-b53b07286e80",
   "metadata": {
    "tags": []
   },
   "outputs": [
    {
     "data": {
      "text/plain": [
       "array(['Bermuda', 'France', 'Panama'], dtype=object)"
      ]
     },
     "execution_count": 73,
     "metadata": {},
     "output_type": "execute_result"
    }
   ],
   "source": [
    "data_ppp_filtered['Country'].unique()"
   ]
  },
  {
   "cell_type": "code",
   "execution_count": 74,
   "id": "9968ae64-4a4d-429b-87c3-7e097eacd7a0",
   "metadata": {
    "tags": []
   },
   "outputs": [
    {
     "name": "stdout",
     "output_type": "stream",
     "text": [
      "32\n"
     ]
    },
    {
     "data": {
      "text/plain": [
       "array([2021, 2020, 2019, 2018, 2017, 2016, 2015, 2014, 2013, 2012, 2011,\n",
       "       2010, 2009, 2008, 2007, 2006, 2005, 2004, 2003, 2002, 2001, 2000,\n",
       "       1999, 1998, 1997, 1996, 1995, 1994, 1993, 1992, 1991, 1990])"
      ]
     },
     "execution_count": 74,
     "metadata": {},
     "output_type": "execute_result"
    }
   ],
   "source": [
    "years = data_ppp_filtered['Year'].unique()\n",
    "print(len(years))\n",
    "years"
   ]
  },
  {
   "cell_type": "code",
   "execution_count": 75,
   "id": "fdc26c26-4c13-433c-80e8-dd6882c6c7f3",
   "metadata": {
    "tags": []
   },
   "outputs": [],
   "source": [
    "def percentage_country_to_avg(dataframe, country, year):\n",
    "\n",
    "    filt_year = year\n",
    "    filt_country = country\n",
    "    df_country = dataframe.query('Year == @filt_year & Country == @filt_country') \n",
    "    df_country = df_country[['Country', 'Year', 'PPP']]\n",
    "    #print(df_country, '\\n')\n",
    "    \n",
    "    ppp_value = df_country['PPP'].values\n",
    "    ppp_value = float(ppp_value)\n",
    "    #print('ppp_value: {:8.6f}\\n'.format(ppp_value))\n",
    "    \n",
    "    df_countries = dataframe.query('Year == @filt_year') \n",
    "    df_countries = df_countries[['Country', 'Year', 'PPP']]\n",
    "    #print(df_countries, '\\n')\n",
    "    \n",
    "    #print(df_countries['PPP'].describe(), '\\n')\n",
    "    \n",
    "    df_countries_avg = df_countries['PPP'].mean(axis=0)\n",
    "    #print('avg: {:8.6f}\\n'.format(df_countries_avg))\n",
    "    \n",
    "    ans = ppp_value / df_countries_avg * 100\n",
    "    #print('{} {}: {:8.6f} %'.format(year, country, ans))\n",
    "    \n",
    "    return ans"
   ]
  },
  {
   "cell_type": "code",
   "execution_count": 76,
   "id": "19978ecc-2a7a-404e-a1b0-3ac99a1ce58f",
   "metadata": {
    "tags": []
   },
   "outputs": [
    {
     "data": {
      "text/html": [
       "<div>\n",
       "<style scoped>\n",
       "    .dataframe tbody tr th:only-of-type {\n",
       "        vertical-align: middle;\n",
       "    }\n",
       "\n",
       "    .dataframe tbody tr th {\n",
       "        vertical-align: top;\n",
       "    }\n",
       "\n",
       "    .dataframe thead th {\n",
       "        text-align: right;\n",
       "    }\n",
       "</style>\n",
       "<table border=\"1\" class=\"dataframe\">\n",
       "  <thead>\n",
       "    <tr style=\"text-align: right;\">\n",
       "      <th></th>\n",
       "      <th>Bermuda</th>\n",
       "      <th>France</th>\n",
       "      <th>Panama</th>\n",
       "    </tr>\n",
       "  </thead>\n",
       "  <tbody>\n",
       "    <tr>\n",
       "      <th>2021</th>\n",
       "      <td>156.673370</td>\n",
       "      <td>87.836458</td>\n",
       "      <td>55.490172</td>\n",
       "    </tr>\n",
       "    <tr>\n",
       "      <th>2020</th>\n",
       "      <td>158.759357</td>\n",
       "      <td>86.003520</td>\n",
       "      <td>55.237123</td>\n",
       "    </tr>\n",
       "    <tr>\n",
       "      <th>2019</th>\n",
       "      <td>158.378961</td>\n",
       "      <td>85.741421</td>\n",
       "      <td>55.879618</td>\n",
       "    </tr>\n",
       "    <tr>\n",
       "      <th>2018</th>\n",
       "      <td>156.385222</td>\n",
       "      <td>87.205140</td>\n",
       "      <td>56.409638</td>\n",
       "    </tr>\n",
       "    <tr>\n",
       "      <th>2017</th>\n",
       "      <td>155.628506</td>\n",
       "      <td>87.711887</td>\n",
       "      <td>56.659607</td>\n",
       "    </tr>\n",
       "    <tr>\n",
       "      <th>2016</th>\n",
       "      <td>155.801404</td>\n",
       "      <td>86.825586</td>\n",
       "      <td>57.373010</td>\n",
       "    </tr>\n",
       "    <tr>\n",
       "      <th>2015</th>\n",
       "      <td>153.915635</td>\n",
       "      <td>87.702099</td>\n",
       "      <td>58.382266</td>\n",
       "    </tr>\n",
       "    <tr>\n",
       "      <th>2014</th>\n",
       "      <td>153.501530</td>\n",
       "      <td>86.582454</td>\n",
       "      <td>59.916016</td>\n",
       "    </tr>\n",
       "    <tr>\n",
       "      <th>2013</th>\n",
       "      <td>153.122221</td>\n",
       "      <td>86.200633</td>\n",
       "      <td>60.677147</td>\n",
       "    </tr>\n",
       "    <tr>\n",
       "      <th>2012</th>\n",
       "      <td>152.133858</td>\n",
       "      <td>88.022565</td>\n",
       "      <td>59.843576</td>\n",
       "    </tr>\n",
       "    <tr>\n",
       "      <th>2011</th>\n",
       "      <td>150.133047</td>\n",
       "      <td>90.432687</td>\n",
       "      <td>59.434266</td>\n",
       "    </tr>\n",
       "    <tr>\n",
       "      <th>2010</th>\n",
       "      <td>152.888811</td>\n",
       "      <td>90.586157</td>\n",
       "      <td>56.525031</td>\n",
       "    </tr>\n",
       "    <tr>\n",
       "      <th>2009</th>\n",
       "      <td>152.065982</td>\n",
       "      <td>91.907157</td>\n",
       "      <td>56.026861</td>\n",
       "    </tr>\n",
       "    <tr>\n",
       "      <th>2008</th>\n",
       "      <td>152.302816</td>\n",
       "      <td>94.443492</td>\n",
       "      <td>53.253692</td>\n",
       "    </tr>\n",
       "    <tr>\n",
       "      <th>2007</th>\n",
       "      <td>151.033682</td>\n",
       "      <td>97.344225</td>\n",
       "      <td>51.622094</td>\n",
       "    </tr>\n",
       "    <tr>\n",
       "      <th>2006</th>\n",
       "      <td>148.458120</td>\n",
       "      <td>99.953006</td>\n",
       "      <td>51.588874</td>\n",
       "    </tr>\n",
       "    <tr>\n",
       "      <th>2005</th>\n",
       "      <td>145.342017</td>\n",
       "      <td>102.464344</td>\n",
       "      <td>52.193639</td>\n",
       "    </tr>\n",
       "    <tr>\n",
       "      <th>2004</th>\n",
       "      <td>141.412784</td>\n",
       "      <td>105.302084</td>\n",
       "      <td>53.285132</td>\n",
       "    </tr>\n",
       "    <tr>\n",
       "      <th>2003</th>\n",
       "      <td>140.066668</td>\n",
       "      <td>105.743835</td>\n",
       "      <td>54.189496</td>\n",
       "    </tr>\n",
       "    <tr>\n",
       "      <th>2002</th>\n",
       "      <td>140.798809</td>\n",
       "      <td>103.816333</td>\n",
       "      <td>55.384858</td>\n",
       "    </tr>\n",
       "    <tr>\n",
       "      <th>2001</th>\n",
       "      <td>135.240183</td>\n",
       "      <td>107.946402</td>\n",
       "      <td>56.813415</td>\n",
       "    </tr>\n",
       "    <tr>\n",
       "      <th>2000</th>\n",
       "      <td>136.637889</td>\n",
       "      <td>107.323651</td>\n",
       "      <td>56.038459</td>\n",
       "    </tr>\n",
       "    <tr>\n",
       "      <th>1999</th>\n",
       "      <td>139.476078</td>\n",
       "      <td>105.052367</td>\n",
       "      <td>55.471554</td>\n",
       "    </tr>\n",
       "    <tr>\n",
       "      <th>1998</th>\n",
       "      <td>137.928028</td>\n",
       "      <td>106.198992</td>\n",
       "      <td>55.872980</td>\n",
       "    </tr>\n",
       "    <tr>\n",
       "      <th>1997</th>\n",
       "      <td>136.328910</td>\n",
       "      <td>107.492260</td>\n",
       "      <td>56.178830</td>\n",
       "    </tr>\n",
       "    <tr>\n",
       "      <th>1996</th>\n",
       "      <td>134.025495</td>\n",
       "      <td>109.432162</td>\n",
       "      <td>56.542343</td>\n",
       "    </tr>\n",
       "    <tr>\n",
       "      <th>1995</th>\n",
       "      <td>115.730285</td>\n",
       "      <td>120.507806</td>\n",
       "      <td>63.761909</td>\n",
       "    </tr>\n",
       "    <tr>\n",
       "      <th>1994</th>\n",
       "      <td>113.463008</td>\n",
       "      <td>121.714703</td>\n",
       "      <td>64.822289</td>\n",
       "    </tr>\n",
       "    <tr>\n",
       "      <th>1993</th>\n",
       "      <td>113.397883</td>\n",
       "      <td>122.891902</td>\n",
       "      <td>63.710216</td>\n",
       "    </tr>\n",
       "    <tr>\n",
       "      <th>1992</th>\n",
       "      <td>111.418169</td>\n",
       "      <td>124.991542</td>\n",
       "      <td>63.590289</td>\n",
       "    </tr>\n",
       "    <tr>\n",
       "      <th>1991</th>\n",
       "      <td>111.537900</td>\n",
       "      <td>126.165088</td>\n",
       "      <td>62.297012</td>\n",
       "    </tr>\n",
       "    <tr>\n",
       "      <th>1990</th>\n",
       "      <td>108.479208</td>\n",
       "      <td>127.352156</td>\n",
       "      <td>64.168636</td>\n",
       "    </tr>\n",
       "  </tbody>\n",
       "</table>\n",
       "</div>"
      ],
      "text/plain": [
       "         Bermuda      France     Panama\n",
       "2021  156.673370   87.836458  55.490172\n",
       "2020  158.759357   86.003520  55.237123\n",
       "2019  158.378961   85.741421  55.879618\n",
       "2018  156.385222   87.205140  56.409638\n",
       "2017  155.628506   87.711887  56.659607\n",
       "2016  155.801404   86.825586  57.373010\n",
       "2015  153.915635   87.702099  58.382266\n",
       "2014  153.501530   86.582454  59.916016\n",
       "2013  153.122221   86.200633  60.677147\n",
       "2012  152.133858   88.022565  59.843576\n",
       "2011  150.133047   90.432687  59.434266\n",
       "2010  152.888811   90.586157  56.525031\n",
       "2009  152.065982   91.907157  56.026861\n",
       "2008  152.302816   94.443492  53.253692\n",
       "2007  151.033682   97.344225  51.622094\n",
       "2006  148.458120   99.953006  51.588874\n",
       "2005  145.342017  102.464344  52.193639\n",
       "2004  141.412784  105.302084  53.285132\n",
       "2003  140.066668  105.743835  54.189496\n",
       "2002  140.798809  103.816333  55.384858\n",
       "2001  135.240183  107.946402  56.813415\n",
       "2000  136.637889  107.323651  56.038459\n",
       "1999  139.476078  105.052367  55.471554\n",
       "1998  137.928028  106.198992  55.872980\n",
       "1997  136.328910  107.492260  56.178830\n",
       "1996  134.025495  109.432162  56.542343\n",
       "1995  115.730285  120.507806  63.761909\n",
       "1994  113.463008  121.714703  64.822289\n",
       "1993  113.397883  122.891902  63.710216\n",
       "1992  111.418169  124.991542  63.590289\n",
       "1991  111.537900  126.165088  62.297012\n",
       "1990  108.479208  127.352156  64.168636"
      ]
     },
     "execution_count": 76,
     "metadata": {},
     "output_type": "execute_result"
    }
   ],
   "source": [
    "df_percentage_ppp = pd.DataFrame(np.zeros((len(years),len(filter_country))), columns=filter_country, index=years)\n",
    "\n",
    "for year in years:\n",
    "    for country in filter_country:\n",
    "        df_percentage_ppp[country][year] = percentage_country_to_avg(data_ppp_filtered, country, year)\n",
    "        \n",
    "df_percentage_ppp"
   ]
  },
  {
   "cell_type": "code",
   "execution_count": 77,
   "id": "af71d3be-5362-4772-82d7-056b1868cc56",
   "metadata": {
    "tags": []
   },
   "outputs": [],
   "source": [
    "df_percentage_ppp.to_csv(\"./tables_and_graphs/df_percentage_ppp.csv\", index = True)"
   ]
  },
  {
   "cell_type": "code",
   "execution_count": 78,
   "id": "939464a4-5cb2-4770-bcd8-d12b9ce9f019",
   "metadata": {
    "tags": []
   },
   "outputs": [],
   "source": [
    "#df_percentage_ppp.to_excel(\"./tables_and_graphs/df_percentage_ppp.xlsx\", sheet_name=\"Sheet1\", index=False)"
   ]
  },
  {
   "cell_type": "code",
   "execution_count": 79,
   "id": "8966171a-eab7-43ae-8c10-1e92f0afac77",
   "metadata": {
    "tags": []
   },
   "outputs": [],
   "source": [
    "#df_percentage_ppp.to_json(path_or_buf=\"./tables_and_graphs/df_percentage_ppp.json\", orient=\"split\")"
   ]
  },
  {
   "cell_type": "markdown",
   "id": "441e0b9b-181d-445b-83a9-56a530b90d93",
   "metadata": {},
   "source": [
    "#### III. Зв'язок популяції та ppp"
   ]
  },
  {
   "cell_type": "markdown",
   "id": "a29f2118-4282-4faf-ae4e-a047b1d548c9",
   "metadata": {},
   "source": [
    "Знову розглянемо дані популяції для 3 країн. Згрупуємо їх за **'Country Name'**. Перейменуємо стовпці."
   ]
  },
  {
   "cell_type": "code",
   "execution_count": 80,
   "id": "136bcebb-d182-42b4-a32d-e181a8b5cbc9",
   "metadata": {
    "tags": []
   },
   "outputs": [],
   "source": [
    "data_population = pd.read_csv('../src/population/population.csv')\n",
    "data_population_filtered = data_population.query('`Country Name` in @filter_country')\n",
    "#data_population_filtered.head(3)"
   ]
  },
  {
   "cell_type": "code",
   "execution_count": 81,
   "id": "be5046f6-8d11-4abc-bc2f-c3723fb1e73f",
   "metadata": {
    "tags": []
   },
   "outputs": [],
   "source": [
    "#data_population_filtered['Country Name'].unique()"
   ]
  },
  {
   "cell_type": "code",
   "execution_count": 82,
   "id": "bf7be716-6660-42b8-8c1d-580a625a1e94",
   "metadata": {
    "tags": []
   },
   "outputs": [
    {
     "data": {
      "text/html": [
       "<div>\n",
       "<style scoped>\n",
       "    .dataframe tbody tr th:only-of-type {\n",
       "        vertical-align: middle;\n",
       "    }\n",
       "\n",
       "    .dataframe tbody tr th {\n",
       "        vertical-align: top;\n",
       "    }\n",
       "\n",
       "    .dataframe thead th {\n",
       "        text-align: right;\n",
       "    }\n",
       "</style>\n",
       "<table border=\"1\" class=\"dataframe\">\n",
       "  <thead>\n",
       "    <tr style=\"text-align: right;\">\n",
       "      <th></th>\n",
       "      <th>Country Name</th>\n",
       "      <th>Value</th>\n",
       "    </tr>\n",
       "  </thead>\n",
       "  <tbody>\n",
       "    <tr>\n",
       "      <th>0</th>\n",
       "      <td>Bermuda</td>\n",
       "      <td>3416866</td>\n",
       "    </tr>\n",
       "    <tr>\n",
       "      <th>1</th>\n",
       "      <td>France</td>\n",
       "      <td>3412964611</td>\n",
       "    </tr>\n",
       "    <tr>\n",
       "      <th>2</th>\n",
       "      <td>Panama</td>\n",
       "      <td>147509500</td>\n",
       "    </tr>\n",
       "  </tbody>\n",
       "</table>\n",
       "</div>"
      ],
      "text/plain": [
       "  Country Name       Value\n",
       "0      Bermuda     3416866\n",
       "1       France  3412964611\n",
       "2       Panama   147509500"
      ]
     },
     "metadata": {},
     "output_type": "display_data"
    },
    {
     "data": {
      "text/html": [
       "<div>\n",
       "<style scoped>\n",
       "    .dataframe tbody tr th:only-of-type {\n",
       "        vertical-align: middle;\n",
       "    }\n",
       "\n",
       "    .dataframe tbody tr th {\n",
       "        vertical-align: top;\n",
       "    }\n",
       "\n",
       "    .dataframe thead th {\n",
       "        text-align: right;\n",
       "    }\n",
       "</style>\n",
       "<table border=\"1\" class=\"dataframe\">\n",
       "  <thead>\n",
       "    <tr style=\"text-align: right;\">\n",
       "      <th></th>\n",
       "      <th>Country</th>\n",
       "      <th>Population</th>\n",
       "    </tr>\n",
       "  </thead>\n",
       "  <tbody>\n",
       "    <tr>\n",
       "      <th>0</th>\n",
       "      <td>Bermuda</td>\n",
       "      <td>3416866</td>\n",
       "    </tr>\n",
       "    <tr>\n",
       "      <th>1</th>\n",
       "      <td>France</td>\n",
       "      <td>3412964611</td>\n",
       "    </tr>\n",
       "    <tr>\n",
       "      <th>2</th>\n",
       "      <td>Panama</td>\n",
       "      <td>147509500</td>\n",
       "    </tr>\n",
       "  </tbody>\n",
       "</table>\n",
       "</div>"
      ],
      "text/plain": [
       "   Country  Population\n",
       "0  Bermuda     3416866\n",
       "1   France  3412964611\n",
       "2   Panama   147509500"
      ]
     },
     "metadata": {},
     "output_type": "display_data"
    }
   ],
   "source": [
    "group_population = data_population_filtered.groupby('Country Name')['Value'].sum()\n",
    "group_population = pd.DataFrame(data = group_population)\n",
    "group_population = group_population.reset_index()\n",
    "display(group_population)\n",
    "\n",
    "group_population.rename(columns = {'Country Name':'Country', 'Value':'Population'}, inplace = True)\n",
    "display(group_population)"
   ]
  },
  {
   "cell_type": "markdown",
   "id": "574d5ddb-7ac9-4b2b-a392-1224c48196ed",
   "metadata": {},
   "source": [
    "Знову розглянемо дані PPP для 3 країн. Згрупуємо їх за **'Country'**. "
   ]
  },
  {
   "cell_type": "code",
   "execution_count": 83,
   "id": "33c082fb-f2fe-4c53-bf0f-2c2d26acd878",
   "metadata": {
    "tags": []
   },
   "outputs": [],
   "source": [
    "data_ppp = pd.read_csv('../src/ppp/ppp-gdp.csv')\n",
    "data_ppp_filtered = data_ppp.query('`Country` in @filter_country')\n",
    "#data_ppp_filtered.head(3)"
   ]
  },
  {
   "cell_type": "code",
   "execution_count": 84,
   "id": "88a7c817-76a6-462c-b538-21215ce61c83",
   "metadata": {
    "tags": []
   },
   "outputs": [],
   "source": [
    "#data_ppp_filtered['Country'].unique()"
   ]
  },
  {
   "cell_type": "code",
   "execution_count": 85,
   "id": "cbc90435-ceed-4cd8-a924-c03d28e2fbb9",
   "metadata": {
    "tags": []
   },
   "outputs": [
    {
     "data": {
      "text/html": [
       "<div>\n",
       "<style scoped>\n",
       "    .dataframe tbody tr th:only-of-type {\n",
       "        vertical-align: middle;\n",
       "    }\n",
       "\n",
       "    .dataframe tbody tr th {\n",
       "        vertical-align: top;\n",
       "    }\n",
       "\n",
       "    .dataframe thead th {\n",
       "        text-align: right;\n",
       "    }\n",
       "</style>\n",
       "<table border=\"1\" class=\"dataframe\">\n",
       "  <thead>\n",
       "    <tr style=\"text-align: right;\">\n",
       "      <th></th>\n",
       "      <th>Country</th>\n",
       "      <th>PPP</th>\n",
       "    </tr>\n",
       "  </thead>\n",
       "  <tbody>\n",
       "    <tr>\n",
       "      <th>0</th>\n",
       "      <td>Bermuda</td>\n",
       "      <td>40.032117</td>\n",
       "    </tr>\n",
       "    <tr>\n",
       "      <th>1</th>\n",
       "      <td>France</td>\n",
       "      <td>28.426939</td>\n",
       "    </tr>\n",
       "    <tr>\n",
       "      <th>2</th>\n",
       "      <td>Panama</td>\n",
       "      <td>16.187252</td>\n",
       "    </tr>\n",
       "  </tbody>\n",
       "</table>\n",
       "</div>"
      ],
      "text/plain": [
       "   Country        PPP\n",
       "0  Bermuda  40.032117\n",
       "1   France  28.426939\n",
       "2   Panama  16.187252"
      ]
     },
     "execution_count": 85,
     "metadata": {},
     "output_type": "execute_result"
    }
   ],
   "source": [
    "df = data_ppp_filtered\n",
    "group_ppp = df.groupby('Country')['PPP'].sum()\n",
    "group_ppp = pd.DataFrame(data = group_ppp)\n",
    "group_ppp = group_ppp.reset_index()\n",
    "group_ppp"
   ]
  },
  {
   "cell_type": "markdown",
   "id": "fb48f344-d31b-426e-8574-d7686c087462",
   "metadata": {},
   "source": [
    "З'єднаємо датафрейми."
   ]
  },
  {
   "cell_type": "code",
   "execution_count": 86,
   "id": "e9621427-452a-4e69-bb0b-f1f355d7df6f",
   "metadata": {
    "tags": []
   },
   "outputs": [
    {
     "data": {
      "text/html": [
       "<div>\n",
       "<style scoped>\n",
       "    .dataframe tbody tr th:only-of-type {\n",
       "        vertical-align: middle;\n",
       "    }\n",
       "\n",
       "    .dataframe tbody tr th {\n",
       "        vertical-align: top;\n",
       "    }\n",
       "\n",
       "    .dataframe thead th {\n",
       "        text-align: right;\n",
       "    }\n",
       "</style>\n",
       "<table border=\"1\" class=\"dataframe\">\n",
       "  <thead>\n",
       "    <tr style=\"text-align: right;\">\n",
       "      <th></th>\n",
       "      <th>Country</th>\n",
       "      <th>Population</th>\n",
       "      <th>PPP</th>\n",
       "    </tr>\n",
       "  </thead>\n",
       "  <tbody>\n",
       "    <tr>\n",
       "      <th>0</th>\n",
       "      <td>Bermuda</td>\n",
       "      <td>3416866</td>\n",
       "      <td>40.032117</td>\n",
       "    </tr>\n",
       "    <tr>\n",
       "      <th>1</th>\n",
       "      <td>France</td>\n",
       "      <td>3412964611</td>\n",
       "      <td>28.426939</td>\n",
       "    </tr>\n",
       "    <tr>\n",
       "      <th>2</th>\n",
       "      <td>Panama</td>\n",
       "      <td>147509500</td>\n",
       "      <td>16.187252</td>\n",
       "    </tr>\n",
       "  </tbody>\n",
       "</table>\n",
       "</div>"
      ],
      "text/plain": [
       "   Country  Population        PPP\n",
       "0  Bermuda     3416866  40.032117\n",
       "1   France  3412964611  28.426939\n",
       "2   Panama   147509500  16.187252"
      ]
     },
     "execution_count": 86,
     "metadata": {},
     "output_type": "execute_result"
    }
   ],
   "source": [
    "df_merged = pd.merge(group_population, group_ppp, left_on='Country', right_on='Country')\n",
    "df_merged.head(3)"
   ]
  },
  {
   "cell_type": "markdown",
   "id": "8c83a86e-ed85-4c1d-88ff-fc76634c205b",
   "metadata": {},
   "source": [
    "Обчислимо парну кореляцію стовпців **'Population'** та **'PPP'**."
   ]
  },
  {
   "cell_type": "code",
   "execution_count": 87,
   "id": "ccfdf247-3838-4876-bc57-efd30965b101",
   "metadata": {
    "tags": []
   },
   "outputs": [
    {
     "data": {
      "text/html": [
       "<div>\n",
       "<style scoped>\n",
       "    .dataframe tbody tr th:only-of-type {\n",
       "        vertical-align: middle;\n",
       "    }\n",
       "\n",
       "    .dataframe tbody tr th {\n",
       "        vertical-align: top;\n",
       "    }\n",
       "\n",
       "    .dataframe thead th {\n",
       "        text-align: right;\n",
       "    }\n",
       "</style>\n",
       "<table border=\"1\" class=\"dataframe\">\n",
       "  <thead>\n",
       "    <tr style=\"text-align: right;\">\n",
       "      <th></th>\n",
       "      <th>Population</th>\n",
       "      <th>PPP</th>\n",
       "    </tr>\n",
       "  </thead>\n",
       "  <tbody>\n",
       "    <tr>\n",
       "      <th>Population</th>\n",
       "      <td>1.000000</td>\n",
       "      <td>-0.022008</td>\n",
       "    </tr>\n",
       "    <tr>\n",
       "      <th>PPP</th>\n",
       "      <td>-0.022008</td>\n",
       "      <td>1.000000</td>\n",
       "    </tr>\n",
       "  </tbody>\n",
       "</table>\n",
       "</div>"
      ],
      "text/plain": [
       "            Population       PPP\n",
       "Population    1.000000 -0.022008\n",
       "PPP          -0.022008  1.000000"
      ]
     },
     "execution_count": 87,
     "metadata": {},
     "output_type": "execute_result"
    }
   ],
   "source": [
    "columns = ['Population', 'PPP']\n",
    "correlation_population_ppp =  df_merged[columns].corr() # or display(df_merged['Value'].corr(df_merged['PPP']))\n",
    "correlation_population_ppp"
   ]
  },
  {
   "cell_type": "code",
   "execution_count": 88,
   "id": "05e5c3f2-53c4-4aab-861e-f820ab3c2ca8",
   "metadata": {
    "tags": []
   },
   "outputs": [],
   "source": [
    "correlation_population_ppp.to_csv(\"./tables_and_graphs/correlation_population_ppp.csv\", index = True)"
   ]
  },
  {
   "cell_type": "code",
   "execution_count": 89,
   "id": "6f00df51-fb61-4dea-8071-eaf4de00664e",
   "metadata": {
    "tags": []
   },
   "outputs": [],
   "source": [
    "#correlation_population_ppp.to_excel(\"./tables_and_graphs/correlation_population_ppp.xlsx\", sheet_name=\"Sheet1\", index=False)"
   ]
  },
  {
   "cell_type": "code",
   "execution_count": 90,
   "id": "ad9a058f-676a-4dd5-b31f-97ba992173b9",
   "metadata": {
    "tags": []
   },
   "outputs": [],
   "source": [
    "#correlation_population_ppp.to_json(path_or_buf=\"./tables_and_graphs/correlation_population_ppp.json\", orient=\"split\")"
   ]
  },
  {
   "cell_type": "markdown",
   "id": "478724e6-cef3-491d-95ed-152a145bc8ec",
   "metadata": {},
   "source": [
    "4. #### Зв'язок популяції та цін на нафту"
   ]
  },
  {
   "cell_type": "markdown",
   "id": "164be4cf-64eb-4a52-9fae-02b7b836ab6b",
   "metadata": {},
   "source": [
    "Розглянемо дані популяції. Згрупуємо їх за роками та просумуємо за країнами."
   ]
  },
  {
   "cell_type": "code",
   "execution_count": 91,
   "id": "372a739e-8341-4b04-bc1c-5216a43370e5",
   "metadata": {
    "tags": []
   },
   "outputs": [],
   "source": [
    "data_population = pd.read_csv('../src/population/population.csv')\n",
    "data_population_filtered = data_population.query('`Country Name` in @filter_country')\n",
    "#data_population_filtered.head(3)"
   ]
  },
  {
   "cell_type": "code",
   "execution_count": 92,
   "id": "499b401b-80c6-4601-8c0d-bf9b3d0900fd",
   "metadata": {
    "tags": []
   },
   "outputs": [
    {
     "data": {
      "text/html": [
       "<div>\n",
       "<style scoped>\n",
       "    .dataframe tbody tr th:only-of-type {\n",
       "        vertical-align: middle;\n",
       "    }\n",
       "\n",
       "    .dataframe tbody tr th {\n",
       "        vertical-align: top;\n",
       "    }\n",
       "\n",
       "    .dataframe thead th {\n",
       "        text-align: right;\n",
       "    }\n",
       "</style>\n",
       "<table border=\"1\" class=\"dataframe\">\n",
       "  <thead>\n",
       "    <tr style=\"text-align: right;\">\n",
       "      <th></th>\n",
       "      <th>Year</th>\n",
       "      <th>Value</th>\n",
       "    </tr>\n",
       "  </thead>\n",
       "  <tbody>\n",
       "    <tr>\n",
       "      <th>0</th>\n",
       "      <td>1960</td>\n",
       "      <td>47799066</td>\n",
       "    </tr>\n",
       "    <tr>\n",
       "      <th>1</th>\n",
       "      <td>1961</td>\n",
       "      <td>48453156</td>\n",
       "    </tr>\n",
       "    <tr>\n",
       "      <th>2</th>\n",
       "      <td>1962</td>\n",
       "      <td>49153926</td>\n",
       "    </tr>\n",
       "  </tbody>\n",
       "</table>\n",
       "</div>"
      ],
      "text/plain": [
       "   Year     Value\n",
       "0  1960  47799066\n",
       "1  1961  48453156\n",
       "2  1962  49153926"
      ]
     },
     "metadata": {},
     "output_type": "display_data"
    },
    {
     "data": {
      "text/html": [
       "<div>\n",
       "<style scoped>\n",
       "    .dataframe tbody tr th:only-of-type {\n",
       "        vertical-align: middle;\n",
       "    }\n",
       "\n",
       "    .dataframe tbody tr th {\n",
       "        vertical-align: top;\n",
       "    }\n",
       "\n",
       "    .dataframe thead th {\n",
       "        text-align: right;\n",
       "    }\n",
       "</style>\n",
       "<table border=\"1\" class=\"dataframe\">\n",
       "  <thead>\n",
       "    <tr style=\"text-align: right;\">\n",
       "      <th></th>\n",
       "      <th>Year</th>\n",
       "      <th>Population</th>\n",
       "    </tr>\n",
       "  </thead>\n",
       "  <tbody>\n",
       "    <tr>\n",
       "      <th>0</th>\n",
       "      <td>1960</td>\n",
       "      <td>47799066</td>\n",
       "    </tr>\n",
       "    <tr>\n",
       "      <th>1</th>\n",
       "      <td>1961</td>\n",
       "      <td>48453156</td>\n",
       "    </tr>\n",
       "    <tr>\n",
       "      <th>2</th>\n",
       "      <td>1962</td>\n",
       "      <td>49153926</td>\n",
       "    </tr>\n",
       "  </tbody>\n",
       "</table>\n",
       "</div>"
      ],
      "text/plain": [
       "   Year  Population\n",
       "0  1960    47799066\n",
       "1  1961    48453156\n",
       "2  1962    49153926"
      ]
     },
     "metadata": {},
     "output_type": "display_data"
    }
   ],
   "source": [
    "group_population = data_population_filtered.groupby('Year')['Value'].sum()\n",
    "group_population = pd.DataFrame(data = group_population)\n",
    "group_population = group_population.reset_index()\n",
    "display(group_population.head(3))\n",
    "\n",
    "group_population.rename(columns = {'Value':'Population'}, inplace = True)\n",
    "display(group_population.head(3))"
   ]
  },
  {
   "cell_type": "markdown",
   "id": "611239e5-73c2-43ea-82ed-094b1268e325",
   "metadata": {},
   "source": [
    "Розглянемо дані цін на нафту. Згрупуємо їх за роками та просумуємо за країнами. Знову перетворимо стовпчик **'Date'** в **'Year'**."
   ]
  },
  {
   "cell_type": "code",
   "execution_count": 93,
   "id": "49dd6371-7d1f-450d-b397-98e5f0a2791f",
   "metadata": {
    "tags": []
   },
   "outputs": [
    {
     "name": "stdout",
     "output_type": "stream",
     "text": [
      "The concatenation process in folder '../src/oil-prices' is complete.\n"
     ]
    },
    {
     "data": {
      "text/html": [
       "<div>\n",
       "<style scoped>\n",
       "    .dataframe tbody tr th:only-of-type {\n",
       "        vertical-align: middle;\n",
       "    }\n",
       "\n",
       "    .dataframe tbody tr th {\n",
       "        vertical-align: top;\n",
       "    }\n",
       "\n",
       "    .dataframe thead th {\n",
       "        text-align: right;\n",
       "    }\n",
       "</style>\n",
       "<table border=\"1\" class=\"dataframe\">\n",
       "  <thead>\n",
       "    <tr style=\"text-align: right;\">\n",
       "      <th></th>\n",
       "      <th>Date</th>\n",
       "      <th>Price</th>\n",
       "    </tr>\n",
       "  </thead>\n",
       "  <tbody>\n",
       "    <tr>\n",
       "      <th>0</th>\n",
       "      <td>1986-06-30</td>\n",
       "      <td>15.05</td>\n",
       "    </tr>\n",
       "    <tr>\n",
       "      <th>1</th>\n",
       "      <td>1987-06-30</td>\n",
       "      <td>19.20</td>\n",
       "    </tr>\n",
       "    <tr>\n",
       "      <th>2</th>\n",
       "      <td>1988-06-30</td>\n",
       "      <td>15.97</td>\n",
       "    </tr>\n",
       "  </tbody>\n",
       "</table>\n",
       "</div>"
      ],
      "text/plain": [
       "         Date  Price\n",
       "0  1986-06-30  15.05\n",
       "1  1987-06-30  19.20\n",
       "2  1988-06-30  15.97"
      ]
     },
     "execution_count": 93,
     "metadata": {},
     "output_type": "execute_result"
    }
   ],
   "source": [
    "data_oil = concat_files_oil(files_oil_csv)  \n",
    "data_oil.head(3)"
   ]
  },
  {
   "cell_type": "code",
   "execution_count": 94,
   "id": "6643c92a-fd43-4d89-981b-0fb6f5300d75",
   "metadata": {
    "tags": []
   },
   "outputs": [
    {
     "data": {
      "text/html": [
       "<div>\n",
       "<style scoped>\n",
       "    .dataframe tbody tr th:only-of-type {\n",
       "        vertical-align: middle;\n",
       "    }\n",
       "\n",
       "    .dataframe tbody tr th {\n",
       "        vertical-align: top;\n",
       "    }\n",
       "\n",
       "    .dataframe thead th {\n",
       "        text-align: right;\n",
       "    }\n",
       "</style>\n",
       "<table border=\"1\" class=\"dataframe\">\n",
       "  <thead>\n",
       "    <tr style=\"text-align: right;\">\n",
       "      <th></th>\n",
       "      <th>Year</th>\n",
       "      <th>Price of oil</th>\n",
       "    </tr>\n",
       "  </thead>\n",
       "  <tbody>\n",
       "    <tr>\n",
       "      <th>0</th>\n",
       "      <td>1986</td>\n",
       "      <td>4759.31</td>\n",
       "    </tr>\n",
       "    <tr>\n",
       "      <th>1</th>\n",
       "      <td>1987</td>\n",
       "      <td>9866.98</td>\n",
       "    </tr>\n",
       "    <tr>\n",
       "      <th>2</th>\n",
       "      <td>1988</td>\n",
       "      <td>9947.21</td>\n",
       "    </tr>\n",
       "  </tbody>\n",
       "</table>\n",
       "</div>"
      ],
      "text/plain": [
       "   Year  Price of oil\n",
       "0  1986       4759.31\n",
       "1  1987       9866.98\n",
       "2  1988       9947.21"
      ]
     },
     "execution_count": 94,
     "metadata": {},
     "output_type": "execute_result"
    }
   ],
   "source": [
    "grouped_oil = data_oil.groupby('Date')['Price'].sum()\n",
    "\n",
    "date_df = grouped_oil.index\n",
    "list_years = []\n",
    "for element in date_df:\n",
    "    list_years.append(int(element[:4])) #'1986-01-02' -> '1986' -> 1986\n",
    "    \n",
    "grouped_oil = pd.DataFrame(data=grouped_oil)\n",
    "grouped_oil[\"Year\"] = list_years\n",
    "grouped_oil = grouped_oil.reset_index()\n",
    "grouped_oil = grouped_oil.drop(['Date'], axis=1)\n",
    "\n",
    "grouped_oil = grouped_oil.groupby('Year')['Price'].sum()\n",
    "grouped_oil = pd.DataFrame(data=grouped_oil)\n",
    "grouped_oil = grouped_oil.reset_index()\n",
    "grouped_oil.rename(columns = {'Price':'Price of oil'}, inplace = True)\n",
    "grouped_oil.head(3)"
   ]
  },
  {
   "cell_type": "code",
   "execution_count": 95,
   "id": "3bee469a-d34e-46d4-91d0-1bdb86e79883",
   "metadata": {
    "tags": []
   },
   "outputs": [
    {
     "data": {
      "text/html": [
       "<div>\n",
       "<style scoped>\n",
       "    .dataframe tbody tr th:only-of-type {\n",
       "        vertical-align: middle;\n",
       "    }\n",
       "\n",
       "    .dataframe tbody tr th {\n",
       "        vertical-align: top;\n",
       "    }\n",
       "\n",
       "    .dataframe thead th {\n",
       "        text-align: right;\n",
       "    }\n",
       "</style>\n",
       "<table border=\"1\" class=\"dataframe\">\n",
       "  <thead>\n",
       "    <tr style=\"text-align: right;\">\n",
       "      <th></th>\n",
       "      <th>Year</th>\n",
       "      <th>Price of oil</th>\n",
       "      <th>Population</th>\n",
       "    </tr>\n",
       "  </thead>\n",
       "  <tbody>\n",
       "    <tr>\n",
       "      <th>0</th>\n",
       "      <td>1986</td>\n",
       "      <td>4759.31</td>\n",
       "      <td>59302005</td>\n",
       "    </tr>\n",
       "    <tr>\n",
       "      <th>1</th>\n",
       "      <td>1987</td>\n",
       "      <td>9866.98</td>\n",
       "      <td>59678776</td>\n",
       "    </tr>\n",
       "    <tr>\n",
       "      <th>2</th>\n",
       "      <td>1988</td>\n",
       "      <td>9947.21</td>\n",
       "      <td>60054003</td>\n",
       "    </tr>\n",
       "  </tbody>\n",
       "</table>\n",
       "</div>"
      ],
      "text/plain": [
       "   Year  Price of oil  Population\n",
       "0  1986       4759.31    59302005\n",
       "1  1987       9866.98    59678776\n",
       "2  1988       9947.21    60054003"
      ]
     },
     "execution_count": 95,
     "metadata": {},
     "output_type": "execute_result"
    }
   ],
   "source": [
    "df_merged = pd.merge(grouped_oil, group_population, left_on='Year', right_on='Year')\n",
    "df_merged.head(3)"
   ]
  },
  {
   "cell_type": "code",
   "execution_count": 96,
   "id": "cdee735e-9f45-41f6-8ccd-4d359f3d5436",
   "metadata": {
    "tags": []
   },
   "outputs": [
    {
     "data": {
      "text/html": [
       "<div>\n",
       "<style scoped>\n",
       "    .dataframe tbody tr th:only-of-type {\n",
       "        vertical-align: middle;\n",
       "    }\n",
       "\n",
       "    .dataframe tbody tr th {\n",
       "        vertical-align: top;\n",
       "    }\n",
       "\n",
       "    .dataframe thead th {\n",
       "        text-align: right;\n",
       "    }\n",
       "</style>\n",
       "<table border=\"1\" class=\"dataframe\">\n",
       "  <thead>\n",
       "    <tr style=\"text-align: right;\">\n",
       "      <th></th>\n",
       "      <th>Price of oil</th>\n",
       "      <th>Population</th>\n",
       "    </tr>\n",
       "  </thead>\n",
       "  <tbody>\n",
       "    <tr>\n",
       "      <th>Price of oil</th>\n",
       "      <td>1.000000</td>\n",
       "      <td>0.819709</td>\n",
       "    </tr>\n",
       "    <tr>\n",
       "      <th>Population</th>\n",
       "      <td>0.819709</td>\n",
       "      <td>1.000000</td>\n",
       "    </tr>\n",
       "  </tbody>\n",
       "</table>\n",
       "</div>"
      ],
      "text/plain": [
       "              Price of oil  Population\n",
       "Price of oil      1.000000    0.819709\n",
       "Population        0.819709    1.000000"
      ]
     },
     "execution_count": 96,
     "metadata": {},
     "output_type": "execute_result"
    }
   ],
   "source": [
    "columns = ['Price of oil', 'Population']\n",
    "correlation_population_oil =  df_merged[columns].corr() # or display(df_merged['Price of oil'].corr(df_merged['Population']))\n",
    "correlation_population_oil"
   ]
  },
  {
   "cell_type": "code",
   "execution_count": 97,
   "id": "6bcbecc2-6965-46da-8934-8d3dda95e414",
   "metadata": {
    "tags": []
   },
   "outputs": [],
   "source": [
    "correlation_population_oil.to_csv(\"./tables_and_graphs/correlation_population_oil.csv\", index = True)"
   ]
  },
  {
   "cell_type": "code",
   "execution_count": 98,
   "id": "1d6428d3-dc4a-4044-b970-ea8cffa142f8",
   "metadata": {
    "tags": []
   },
   "outputs": [],
   "source": [
    "#correlation_population_oil.to_excel(\"./tables_and_graphs/correlation_population_oil.xlsx\", sheet_name=\"Sheet1\", index=False)"
   ]
  },
  {
   "cell_type": "code",
   "execution_count": 99,
   "id": "7bbdee0c-9744-4113-afca-b78402c9ecac",
   "metadata": {
    "tags": []
   },
   "outputs": [],
   "source": [
    "#correlation_population_oil.to_json(path_or_buf=\"./tables_and_graphs/correlation_population_oil.json\", orient=\"split\")"
   ]
  },
  {
   "cell_type": "raw",
   "id": "26717b1e-407f-4e2f-b871-bec1cc3aa103",
   "metadata": {},
   "source": []
  }
 ],
 "metadata": {
  "kernelspec": {
   "display_name": "Python 3 (ipykernel)",
   "language": "python",
   "name": "python3"
  },
  "language_info": {
   "codemirror_mode": {
    "name": "ipython",
    "version": 3
   },
   "file_extension": ".py",
   "mimetype": "text/x-python",
   "name": "python",
   "nbconvert_exporter": "python",
   "pygments_lexer": "ipython3",
   "version": "3.10.10"
  }
 },
 "nbformat": 4,
 "nbformat_minor": 5
}
