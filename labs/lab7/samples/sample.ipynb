{
 "cells": [
  {
   "cell_type": "code",
   "execution_count": 2,
   "id": "056ff0d8-d2e6-4cd4-bd1f-2e37f3b42d6f",
   "metadata": {},
   "outputs": [],
   "source": [
    "import os\n",
    "import numpy as np\n",
    "import pandas as pd\n",
    "import json\n",
    "import matplotlib.pyplot as plt\n"
   ]
  },
  {
   "cell_type": "markdown",
   "id": "2eaecec0-a634-4376-ab91-6ab1200fdcd1",
   "metadata": {},
   "source": [
    "### Task 1 Популяція за інтервал часу 1960-2020"
   ]
  },
  {
   "cell_type": "code",
   "execution_count": 3,
   "id": "8e03725f-9d51-48d3-818b-db2cc6269745",
   "metadata": {},
   "outputs": [
    {
     "name": "stdout",
     "output_type": "stream",
     "text": [
      "['population.json', 'population.csv', 'population_pandas.xlsx']\n"
     ]
    }
   ],
   "source": [
    "print(os.listdir('../src/population'))"
   ]
  },
  {
   "cell_type": "code",
   "execution_count": 4,
   "id": "92769bd0-ab6b-4b09-bcd3-c05acde88690",
   "metadata": {},
   "outputs": [],
   "source": [
    "data_population = pd.read_csv('../src/population/population.csv')"
   ]
  },
  {
   "cell_type": "code",
   "execution_count": 5,
   "id": "bc1a58d8-7655-478c-8abd-e6d5ed06df6b",
   "metadata": {
    "tags": []
   },
   "outputs": [
    {
     "data": {
      "text/html": [
       "<div>\n",
       "<style scoped>\n",
       "    .dataframe tbody tr th:only-of-type {\n",
       "        vertical-align: middle;\n",
       "    }\n",
       "\n",
       "    .dataframe tbody tr th {\n",
       "        vertical-align: top;\n",
       "    }\n",
       "\n",
       "    .dataframe thead th {\n",
       "        text-align: right;\n",
       "    }\n",
       "</style>\n",
       "<table border=\"1\" class=\"dataframe\">\n",
       "  <thead>\n",
       "    <tr style=\"text-align: right;\">\n",
       "      <th></th>\n",
       "      <th>Country Name</th>\n",
       "      <th>Country Code</th>\n",
       "      <th>Year</th>\n",
       "      <th>Value</th>\n",
       "    </tr>\n",
       "  </thead>\n",
       "  <tbody>\n",
       "    <tr>\n",
       "      <th>0</th>\n",
       "      <td>Arab World</td>\n",
       "      <td>ARB</td>\n",
       "      <td>1960</td>\n",
       "      <td>92197753</td>\n",
       "    </tr>\n",
       "    <tr>\n",
       "      <th>1</th>\n",
       "      <td>Arab World</td>\n",
       "      <td>ARB</td>\n",
       "      <td>1961</td>\n",
       "      <td>94724510</td>\n",
       "    </tr>\n",
       "    <tr>\n",
       "      <th>2</th>\n",
       "      <td>Arab World</td>\n",
       "      <td>ARB</td>\n",
       "      <td>1962</td>\n",
       "      <td>97334442</td>\n",
       "    </tr>\n",
       "    <tr>\n",
       "      <th>3</th>\n",
       "      <td>Arab World</td>\n",
       "      <td>ARB</td>\n",
       "      <td>1963</td>\n",
       "      <td>100034179</td>\n",
       "    </tr>\n",
       "    <tr>\n",
       "      <th>4</th>\n",
       "      <td>Arab World</td>\n",
       "      <td>ARB</td>\n",
       "      <td>1964</td>\n",
       "      <td>102832760</td>\n",
       "    </tr>\n",
       "    <tr>\n",
       "      <th>...</th>\n",
       "      <td>...</td>\n",
       "      <td>...</td>\n",
       "      <td>...</td>\n",
       "      <td>...</td>\n",
       "    </tr>\n",
       "    <tr>\n",
       "      <th>15404</th>\n",
       "      <td>Zimbabwe</td>\n",
       "      <td>ZWE</td>\n",
       "      <td>2014</td>\n",
       "      <td>13586681</td>\n",
       "    </tr>\n",
       "    <tr>\n",
       "      <th>15405</th>\n",
       "      <td>Zimbabwe</td>\n",
       "      <td>ZWE</td>\n",
       "      <td>2015</td>\n",
       "      <td>13814629</td>\n",
       "    </tr>\n",
       "    <tr>\n",
       "      <th>15406</th>\n",
       "      <td>Zimbabwe</td>\n",
       "      <td>ZWE</td>\n",
       "      <td>2016</td>\n",
       "      <td>14030390</td>\n",
       "    </tr>\n",
       "    <tr>\n",
       "      <th>15407</th>\n",
       "      <td>Zimbabwe</td>\n",
       "      <td>ZWE</td>\n",
       "      <td>2017</td>\n",
       "      <td>14236745</td>\n",
       "    </tr>\n",
       "    <tr>\n",
       "      <th>15408</th>\n",
       "      <td>Zimbabwe</td>\n",
       "      <td>ZWE</td>\n",
       "      <td>2018</td>\n",
       "      <td>14439018</td>\n",
       "    </tr>\n",
       "  </tbody>\n",
       "</table>\n",
       "<p>15409 rows × 4 columns</p>\n",
       "</div>"
      ],
      "text/plain": [
       "      Country Name Country Code  Year      Value\n",
       "0       Arab World          ARB  1960   92197753\n",
       "1       Arab World          ARB  1961   94724510\n",
       "2       Arab World          ARB  1962   97334442\n",
       "3       Arab World          ARB  1963  100034179\n",
       "4       Arab World          ARB  1964  102832760\n",
       "...            ...          ...   ...        ...\n",
       "15404     Zimbabwe          ZWE  2014   13586681\n",
       "15405     Zimbabwe          ZWE  2015   13814629\n",
       "15406     Zimbabwe          ZWE  2016   14030390\n",
       "15407     Zimbabwe          ZWE  2017   14236745\n",
       "15408     Zimbabwe          ZWE  2018   14439018\n",
       "\n",
       "[15409 rows x 4 columns]"
      ]
     },
     "execution_count": 5,
     "metadata": {},
     "output_type": "execute_result"
    }
   ],
   "source": [
    "data_population"
   ]
  },
  {
   "cell_type": "code",
   "execution_count": 6,
   "id": "cf604143-07a5-4d92-8786-179fe8cc7317",
   "metadata": {
    "tags": []
   },
   "outputs": [
    {
     "data": {
      "text/html": [
       "<div>\n",
       "<style scoped>\n",
       "    .dataframe tbody tr th:only-of-type {\n",
       "        vertical-align: middle;\n",
       "    }\n",
       "\n",
       "    .dataframe tbody tr th {\n",
       "        vertical-align: top;\n",
       "    }\n",
       "\n",
       "    .dataframe thead th {\n",
       "        text-align: right;\n",
       "    }\n",
       "</style>\n",
       "<table border=\"1\" class=\"dataframe\">\n",
       "  <thead>\n",
       "    <tr style=\"text-align: right;\">\n",
       "      <th></th>\n",
       "      <th>Year</th>\n",
       "      <th>Value</th>\n",
       "    </tr>\n",
       "  </thead>\n",
       "  <tbody>\n",
       "    <tr>\n",
       "      <th>count</th>\n",
       "      <td>15409.000000</td>\n",
       "      <td>1.540900e+04</td>\n",
       "    </tr>\n",
       "    <tr>\n",
       "      <th>mean</th>\n",
       "      <td>1989.069764</td>\n",
       "      <td>2.081236e+08</td>\n",
       "    </tr>\n",
       "    <tr>\n",
       "      <th>std</th>\n",
       "      <td>17.031017</td>\n",
       "      <td>6.868312e+08</td>\n",
       "    </tr>\n",
       "    <tr>\n",
       "      <th>min</th>\n",
       "      <td>1960.000000</td>\n",
       "      <td>3.893000e+03</td>\n",
       "    </tr>\n",
       "    <tr>\n",
       "      <th>25%</th>\n",
       "      <td>1974.000000</td>\n",
       "      <td>9.268410e+05</td>\n",
       "    </tr>\n",
       "    <tr>\n",
       "      <th>50%</th>\n",
       "      <td>1989.000000</td>\n",
       "      <td>6.418773e+06</td>\n",
       "    </tr>\n",
       "    <tr>\n",
       "      <th>75%</th>\n",
       "      <td>2004.000000</td>\n",
       "      <td>4.244904e+07</td>\n",
       "    </tr>\n",
       "    <tr>\n",
       "      <th>max</th>\n",
       "      <td>2018.000000</td>\n",
       "      <td>7.594270e+09</td>\n",
       "    </tr>\n",
       "  </tbody>\n",
       "</table>\n",
       "</div>"
      ],
      "text/plain": [
       "               Year         Value\n",
       "count  15409.000000  1.540900e+04\n",
       "mean    1989.069764  2.081236e+08\n",
       "std       17.031017  6.868312e+08\n",
       "min     1960.000000  3.893000e+03\n",
       "25%     1974.000000  9.268410e+05\n",
       "50%     1989.000000  6.418773e+06\n",
       "75%     2004.000000  4.244904e+07\n",
       "max     2018.000000  7.594270e+09"
      ]
     },
     "execution_count": 6,
     "metadata": {},
     "output_type": "execute_result"
    }
   ],
   "source": [
    "data_population.describe()"
   ]
  },
  {
   "cell_type": "markdown",
   "id": "c2e6268d-1dc3-4aed-a235-c3eb295bbcd9",
   "metadata": {
    "tags": []
   },
   "source": [
    "Як бачимо мінімальне значення колонки 'Year' = 1960, а максимальне - 2020. Тому популяція за 1960 - 2020 роки це сама таблиця data_population."
   ]
  },
  {
   "cell_type": "markdown",
   "id": "17a351a5-8953-4f5f-9cbc-681c42a90b44",
   "metadata": {},
   "source": [
    "*Також можна сформувати таблицю за необхідний період часу іншим чином.*"
   ]
  },
  {
   "cell_type": "markdown",
   "id": "bb020f59-e93f-4bc0-a9e4-93c8b1d3fb9a",
   "metadata": {},
   "source": [
    "Створюємо нову таблицю популяції за фільтром інтервалу часу 1960 - 2020."
   ]
  },
  {
   "cell_type": "code",
   "execution_count": 7,
   "id": "947eacd5-d7f4-4183-a482-2d1a76b02e47",
   "metadata": {
    "tags": []
   },
   "outputs": [
    {
     "data": {
      "text/html": [
       "<div>\n",
       "<style scoped>\n",
       "    .dataframe tbody tr th:only-of-type {\n",
       "        vertical-align: middle;\n",
       "    }\n",
       "\n",
       "    .dataframe tbody tr th {\n",
       "        vertical-align: top;\n",
       "    }\n",
       "\n",
       "    .dataframe thead th {\n",
       "        text-align: right;\n",
       "    }\n",
       "</style>\n",
       "<table border=\"1\" class=\"dataframe\">\n",
       "  <thead>\n",
       "    <tr style=\"text-align: right;\">\n",
       "      <th></th>\n",
       "      <th>Country Name</th>\n",
       "      <th>Country Code</th>\n",
       "      <th>Year</th>\n",
       "      <th>Value</th>\n",
       "    </tr>\n",
       "  </thead>\n",
       "  <tbody>\n",
       "    <tr>\n",
       "      <th>0</th>\n",
       "      <td>Arab World</td>\n",
       "      <td>ARB</td>\n",
       "      <td>1960</td>\n",
       "      <td>92197753</td>\n",
       "    </tr>\n",
       "    <tr>\n",
       "      <th>1</th>\n",
       "      <td>Arab World</td>\n",
       "      <td>ARB</td>\n",
       "      <td>1961</td>\n",
       "      <td>94724510</td>\n",
       "    </tr>\n",
       "    <tr>\n",
       "      <th>2</th>\n",
       "      <td>Arab World</td>\n",
       "      <td>ARB</td>\n",
       "      <td>1962</td>\n",
       "      <td>97334442</td>\n",
       "    </tr>\n",
       "    <tr>\n",
       "      <th>3</th>\n",
       "      <td>Arab World</td>\n",
       "      <td>ARB</td>\n",
       "      <td>1963</td>\n",
       "      <td>100034179</td>\n",
       "    </tr>\n",
       "    <tr>\n",
       "      <th>4</th>\n",
       "      <td>Arab World</td>\n",
       "      <td>ARB</td>\n",
       "      <td>1964</td>\n",
       "      <td>102832760</td>\n",
       "    </tr>\n",
       "    <tr>\n",
       "      <th>...</th>\n",
       "      <td>...</td>\n",
       "      <td>...</td>\n",
       "      <td>...</td>\n",
       "      <td>...</td>\n",
       "    </tr>\n",
       "    <tr>\n",
       "      <th>15404</th>\n",
       "      <td>Zimbabwe</td>\n",
       "      <td>ZWE</td>\n",
       "      <td>2014</td>\n",
       "      <td>13586681</td>\n",
       "    </tr>\n",
       "    <tr>\n",
       "      <th>15405</th>\n",
       "      <td>Zimbabwe</td>\n",
       "      <td>ZWE</td>\n",
       "      <td>2015</td>\n",
       "      <td>13814629</td>\n",
       "    </tr>\n",
       "    <tr>\n",
       "      <th>15406</th>\n",
       "      <td>Zimbabwe</td>\n",
       "      <td>ZWE</td>\n",
       "      <td>2016</td>\n",
       "      <td>14030390</td>\n",
       "    </tr>\n",
       "    <tr>\n",
       "      <th>15407</th>\n",
       "      <td>Zimbabwe</td>\n",
       "      <td>ZWE</td>\n",
       "      <td>2017</td>\n",
       "      <td>14236745</td>\n",
       "    </tr>\n",
       "    <tr>\n",
       "      <th>15408</th>\n",
       "      <td>Zimbabwe</td>\n",
       "      <td>ZWE</td>\n",
       "      <td>2018</td>\n",
       "      <td>14439018</td>\n",
       "    </tr>\n",
       "  </tbody>\n",
       "</table>\n",
       "<p>15409 rows × 4 columns</p>\n",
       "</div>"
      ],
      "text/plain": [
       "      Country Name Country Code  Year      Value\n",
       "0       Arab World          ARB  1960   92197753\n",
       "1       Arab World          ARB  1961   94724510\n",
       "2       Arab World          ARB  1962   97334442\n",
       "3       Arab World          ARB  1963  100034179\n",
       "4       Arab World          ARB  1964  102832760\n",
       "...            ...          ...   ...        ...\n",
       "15404     Zimbabwe          ZWE  2014   13586681\n",
       "15405     Zimbabwe          ZWE  2015   13814629\n",
       "15406     Zimbabwe          ZWE  2016   14030390\n",
       "15407     Zimbabwe          ZWE  2017   14236745\n",
       "15408     Zimbabwe          ZWE  2018   14439018\n",
       "\n",
       "[15409 rows x 4 columns]"
      ]
     },
     "execution_count": 7,
     "metadata": {},
     "output_type": "execute_result"
    }
   ],
   "source": [
    "cust_filter = 1960\n",
    "cust_filter2 = 2018\n",
    "data_1960_2020 = data_population.query('Year >= @cust_filter | Year <= @cust_filter2')\n",
    "data_1960_2020"
   ]
  },
  {
   "cell_type": "markdown",
   "id": "733b408a-8c58-447e-a9cb-80d7503bf44c",
   "metadata": {},
   "source": [
    "Можемо перевірити чи правильно були відфільтровані дані за допомогою **set**."
   ]
  },
  {
   "cell_type": "code",
   "execution_count": 8,
   "id": "09630902-4a56-4927-9de3-48d659eec684",
   "metadata": {
    "tags": []
   },
   "outputs": [
    {
     "name": "stdout",
     "output_type": "stream",
     "text": [
      "number of elements  59\n"
     ]
    }
   ],
   "source": [
    "# set - unordered collection of unique elements\n",
    "set1 = set(data_1960_2020['Year'])\n",
    "print('number of elements ', len(set1))"
   ]
  },
  {
   "cell_type": "markdown",
   "id": "55469812-d42c-4da7-942e-6c4c9dd24b0f",
   "metadata": {},
   "source": [
    "**set** - невпорядкована колекція унікальних елементів. Тому можемо дізнатися кількість унікальних значень стовпця \"Рік\" і перевірити чи є серед них значення, які не входять у проміжок 1960 - 2020."
   ]
  },
  {
   "cell_type": "code",
   "execution_count": 9,
   "id": "db375034-208a-417a-979d-95c902eadc1f",
   "metadata": {
    "tags": []
   },
   "outputs": [
    {
     "name": "stdout",
     "output_type": "stream",
     "text": [
      "All elements of set1 are in [1960, 2020]\n"
     ]
    }
   ],
   "source": [
    "count = 0 \n",
    "for element in set1:\n",
    "    if element < 1960 or element > 2020:\n",
    "        # print('{} is not in [1960, 2020]'.format(element))\n",
    "        count += 1\n",
    "        \n",
    "if count == 0:\n",
    "    print('All elements of set1 are in [1960, 2020]')\n",
    "else:\n",
    "    print('{} elements of set1 are NOT in [1960, 2020]'.format(count))  \n"
   ]
  },
  {
   "cell_type": "markdown",
   "id": "2bf3a512-f006-4ac3-9069-5dc32c9b96bc",
   "metadata": {},
   "source": [
    "*Отже, таблиця популяції за 1960 - 2020 представлена як* **data_1960_2020**."
   ]
  },
  {
   "cell_type": "code",
   "execution_count": 10,
   "id": "5cfaf9a6-1ff7-4f8f-8101-553bd514cb13",
   "metadata": {
    "tags": []
   },
   "outputs": [],
   "source": [
    "if not os.path.exists('./tables and graphs'):\n",
    "    os.mkdir('./tables and graphs')"
   ]
  },
  {
   "cell_type": "code",
   "execution_count": 11,
   "id": "86769d1d-4e9f-4ad5-ada7-eace3be62da8",
   "metadata": {
    "tags": []
   },
   "outputs": [],
   "source": [
    "data_1960_2020.to_csv(\"./tables and graphs/data_1960_2020.csv\")"
   ]
  },
  {
   "cell_type": "code",
   "execution_count": 12,
   "id": "02a425c4-4db9-4443-b062-8803a2717942",
   "metadata": {
    "tags": []
   },
   "outputs": [],
   "source": [
    "data_1960_2020.to_excel(\"./tables and graphs/data_1960_2020.xlsx\", sheet_name=\"Sheet1\")"
   ]
  },
  {
   "cell_type": "code",
   "execution_count": 13,
   "id": "21cf1086-edb1-41fc-925b-35e982810add",
   "metadata": {
    "tags": []
   },
   "outputs": [],
   "source": [
    "data_1960_2020.to_json(path_or_buf=\"./tables and graphs/data_1960_2020.json\", orient=\"split\")"
   ]
  },
  {
   "cell_type": "code",
   "execution_count": 26,
   "id": "5d7b020d-f8b4-417a-a058-6d1cf0a3f8fb",
   "metadata": {
    "tags": []
   },
   "outputs": [
    {
     "data": {
      "text/plain": [
       "Year\n",
       "1960    30698686335\n",
       "1961    31110850733\n",
       "1962    31661593019\n",
       "1963    32347009479\n",
       "1964    33037793472\n",
       "1965    33745614596\n",
       "1966    34491057057\n",
       "1967    35234108448\n",
       "1968    35990815150\n",
       "1969    36784905156\n",
       "Name: Value, dtype: int64"
      ]
     },
     "execution_count": 26,
     "metadata": {},
     "output_type": "execute_result"
    }
   ],
   "source": [
    "grouped_df = data_1960_2020.groupby('Year')['Value'].sum()\n",
    "grouped_df[:10]"
   ]
  },
  {
   "cell_type": "code",
   "execution_count": 27,
   "id": "f9ad6560-4444-40a6-b034-8189467dd354",
   "metadata": {
    "tags": []
   },
   "outputs": [
    {
     "data": {
      "text/plain": [
       "<Axes: xlabel='Year'>"
      ]
     },
     "execution_count": 27,
     "metadata": {},
     "output_type": "execute_result"
    },
    {
     "data": {
      "image/png": "[encoded data removed]",
      "text/plain": [
       "<Figure size 640x480 with 1 Axes>"
      ]
     },
     "metadata": {},
     "output_type": "display_data"
    }
   ],
   "source": [
    "grouped_df = data_1960_2020.groupby('Year')['Value'].sum()\n",
    "\n",
    "Top 3 countries by population\n",
    "grouped_df.plot(x=\"Year\", y=\"Value\", color=\"C2\", label=\"Value\", marker=\".\")"
   ]
  },
  {
   "cell_type": "code",
   "execution_count": 121,
   "id": "b054ab2c-7bfd-4872-a818-2feb44204a65",
   "metadata": {
    "tags": []
   },
   "outputs": [
    {
     "name": "stdout",
     "output_type": "stream",
     "text": [
      "Country Name\n",
      "Afghanistan       1063693739\n",
      "Albania            159643639\n",
      "Algeria           1475264387\n",
      "American Samoa       2531594\n",
      "Andorra              3015699\n",
      "Name: Value, dtype: int64\n",
      "\n"
     ]
    },
    {
     "data": {
      "text/plain": [
       "<Axes: xlabel='Country Name'>"
      ]
     },
     "execution_count": 121,
     "metadata": {},
     "output_type": "execute_result"
    },
    {
     "data": {
      "image/png": "[encoded data removed]",
      "text/plain": [
       "<Figure size 640x480 with 1 Axes>"
      ]
     },
     "metadata": {},
     "output_type": "display_data"
    }
   ],
   "source": [
    "grouped_df = data_1960_2020.groupby('Country Name')['Value'].sum()\n",
    "print(grouped_df[:5])\n",
    "print()\n",
    "grouped_df[:5].plot(x=\"Country Name\", y=\"Value\", color=\"C2\", label=\"Value\", marker=\".\")"
   ]
  },
  {
   "cell_type": "code",
   "execution_count": 120,
   "id": "fba3f6c4-b463-425c-a117-89c53bfbb235",
   "metadata": {
    "tags": []
   },
   "outputs": [
    {
     "name": "stdout",
     "output_type": "stream",
     "text": [
      "Country Name\n",
      "Afghanistan    1063693739\n",
      "Albania         159643639\n",
      "Algeria        1475264387\n",
      "Name: Value, dtype: int64\n"
     ]
    },
    {
     "data": {
      "image/png": "[encoded data removed]",
      "text/plain": [
       "<Figure size 640x480 with 1 Axes>"
      ]
     },
     "metadata": {},
     "output_type": "display_data"
    }
   ],
   "source": [
    "grouped_df = data_1960_2020.groupby('Country Name')['Value'].sum()\n",
    "top3 = grouped_df[:3]\n",
    "print(top3)\n",
    "\n",
    "explode = (0.05, 0.05, 0.05)\n",
    "colors = ['lavender', 'lightcyan', 'peachpuff']\n",
    "plt.title('Top 3 countries by population')\n",
    "res = top3.plot(kind='pie', y = 'Value', autopct='%1.1f%%', explode=explode, colors = colors, shadow=False).get_figure()\n",
    "res.savefig('./tables and graphs/pie1.png')"
   ]
  },
  {
   "cell_type": "code",
   "execution_count": null,
   "id": "d6f8afc3-6f73-4205-b0d2-05150696bf4d",
   "metadata": {},
   "outputs": [],
   "source": []
  },
  {
   "cell_type": "code",
   "execution_count": null,
   "id": "c3735afc-bcbb-4720-bc61-076ad599bb2a",
   "metadata": {},
   "outputs": [],
   "source": []
  },
  {
   "cell_type": "code",
   "execution_count": null,
   "id": "c73d107d-7b3a-4482-9ca4-fa515a47fa01",
   "metadata": {},
   "outputs": [],
   "source": []
  },
  {
   "cell_type": "raw",
   "id": "2e7b46f9-04b2-4dc2-9267-427de1ca2f54",
   "metadata": {
    "tags": []
   },
   "source": [
    "if __name__ == \"__main__\":\n",
    "    plt.plot([1, 2, 3], [2, 4, 3])\n",
    "    plt.show()\n",
    "    "
   ]
  },
  {
   "cell_type": "code",
   "execution_count": null,
   "id": "475a8110-65ae-475c-acc0-c9078a4bc7ec",
   "metadata": {},
   "outputs": [],
   "source": []
  },
  {
   "cell_type": "code",
   "execution_count": null,
   "id": "63cc09b5-7e34-420b-b32b-2a6274715f1a",
   "metadata": {},
   "outputs": [],
   "source": []
  },
  {
   "cell_type": "code",
   "execution_count": null,
   "id": "cc96fa09-c21e-4529-a5fe-f0d9c1181c17",
   "metadata": {},
   "outputs": [],
   "source": []
  },
  {
   "cell_type": "code",
   "execution_count": null,
   "id": "5e5b7e3a-d555-47bd-9e09-ed2329df4e1c",
   "metadata": {},
   "outputs": [],
   "source": []
  },
  {
   "cell_type": "code",
   "execution_count": null,
   "id": "1d2a2f49-1fdd-4b4c-affa-bd8e51faece0",
   "metadata": {},
   "outputs": [],
   "source": []
  }
 ],
 "metadata": {
  "kernelspec": {
   "display_name": "Python 3 (ipykernel)",
   "language": "python",
   "name": "python3"
  },
  "language_info": {
   "codemirror_mode": {
    "name": "ipython",
    "version": 3
   },
   "file_extension": ".py",
   "mimetype": "text/x-python",
   "name": "python",
   "nbconvert_exporter": "python",
   "pygments_lexer": "ipython3",
   "version": "3.10.10"
  }
 },
 "nbformat": 4,
 "nbformat_minor": 5
}
