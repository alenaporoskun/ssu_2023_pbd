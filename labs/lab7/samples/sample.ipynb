{
 "cells": [
  {
   "cell_type": "code",
   "execution_count": 73,
   "id": "056ff0d8-d2e6-4cd4-bd1f-2e37f3b42d6f",
   "metadata": {
    "tags": []
   },
   "outputs": [],
   "source": [
    "import os\n",
    "import numpy as np\n",
    "import pandas as pd\n",
    "import json\n",
    "import matplotlib.pyplot as plt"
   ]
  },
  {
   "cell_type": "markdown",
   "id": "2eaecec0-a634-4376-ab91-6ab1200fdcd1",
   "metadata": {},
   "source": [
    "### Task 1 Популяція за інтервал часу 1960-2020"
   ]
  },
  {
   "cell_type": "markdown",
   "id": "522eaa67-284d-40c5-a698-e34823abc017",
   "metadata": {},
   "source": [
    "* ### Таблиця"
   ]
  },
  {
   "cell_type": "code",
   "execution_count": 74,
   "id": "8e03725f-9d51-48d3-818b-db2cc6269745",
   "metadata": {
    "tags": []
   },
   "outputs": [
    {
     "name": "stdout",
     "output_type": "stream",
     "text": [
      "['population.json', 'population.csv', 'population_pandas.xlsx']\n"
     ]
    }
   ],
   "source": [
    "print(os.listdir('../src/population'))"
   ]
  },
  {
   "cell_type": "code",
   "execution_count": 75,
   "id": "92769bd0-ab6b-4b09-bcd3-c05acde88690",
   "metadata": {
    "tags": []
   },
   "outputs": [],
   "source": [
    "data_population = pd.read_csv('../src/population/population.csv')"
   ]
  },
  {
   "cell_type": "code",
   "execution_count": 76,
   "id": "bc1a58d8-7655-478c-8abd-e6d5ed06df6b",
   "metadata": {
    "tags": []
   },
   "outputs": [
    {
     "data": {
      "text/html": [
       "<div>\n",
       "<style scoped>\n",
       "    .dataframe tbody tr th:only-of-type {\n",
       "        vertical-align: middle;\n",
       "    }\n",
       "\n",
       "    .dataframe tbody tr th {\n",
       "        vertical-align: top;\n",
       "    }\n",
       "\n",
       "    .dataframe thead th {\n",
       "        text-align: right;\n",
       "    }\n",
       "</style>\n",
       "<table border=\"1\" class=\"dataframe\">\n",
       "  <thead>\n",
       "    <tr style=\"text-align: right;\">\n",
       "      <th></th>\n",
       "      <th>Country Name</th>\n",
       "      <th>Country Code</th>\n",
       "      <th>Year</th>\n",
       "      <th>Value</th>\n",
       "    </tr>\n",
       "  </thead>\n",
       "  <tbody>\n",
       "    <tr>\n",
       "      <th>0</th>\n",
       "      <td>Arab World</td>\n",
       "      <td>ARB</td>\n",
       "      <td>1960</td>\n",
       "      <td>92197753</td>\n",
       "    </tr>\n",
       "    <tr>\n",
       "      <th>1</th>\n",
       "      <td>Arab World</td>\n",
       "      <td>ARB</td>\n",
       "      <td>1961</td>\n",
       "      <td>94724510</td>\n",
       "    </tr>\n",
       "    <tr>\n",
       "      <th>2</th>\n",
       "      <td>Arab World</td>\n",
       "      <td>ARB</td>\n",
       "      <td>1962</td>\n",
       "      <td>97334442</td>\n",
       "    </tr>\n",
       "    <tr>\n",
       "      <th>3</th>\n",
       "      <td>Arab World</td>\n",
       "      <td>ARB</td>\n",
       "      <td>1963</td>\n",
       "      <td>100034179</td>\n",
       "    </tr>\n",
       "    <tr>\n",
       "      <th>4</th>\n",
       "      <td>Arab World</td>\n",
       "      <td>ARB</td>\n",
       "      <td>1964</td>\n",
       "      <td>102832760</td>\n",
       "    </tr>\n",
       "    <tr>\n",
       "      <th>...</th>\n",
       "      <td>...</td>\n",
       "      <td>...</td>\n",
       "      <td>...</td>\n",
       "      <td>...</td>\n",
       "    </tr>\n",
       "    <tr>\n",
       "      <th>15404</th>\n",
       "      <td>Zimbabwe</td>\n",
       "      <td>ZWE</td>\n",
       "      <td>2014</td>\n",
       "      <td>13586681</td>\n",
       "    </tr>\n",
       "    <tr>\n",
       "      <th>15405</th>\n",
       "      <td>Zimbabwe</td>\n",
       "      <td>ZWE</td>\n",
       "      <td>2015</td>\n",
       "      <td>13814629</td>\n",
       "    </tr>\n",
       "    <tr>\n",
       "      <th>15406</th>\n",
       "      <td>Zimbabwe</td>\n",
       "      <td>ZWE</td>\n",
       "      <td>2016</td>\n",
       "      <td>14030390</td>\n",
       "    </tr>\n",
       "    <tr>\n",
       "      <th>15407</th>\n",
       "      <td>Zimbabwe</td>\n",
       "      <td>ZWE</td>\n",
       "      <td>2017</td>\n",
       "      <td>14236745</td>\n",
       "    </tr>\n",
       "    <tr>\n",
       "      <th>15408</th>\n",
       "      <td>Zimbabwe</td>\n",
       "      <td>ZWE</td>\n",
       "      <td>2018</td>\n",
       "      <td>14439018</td>\n",
       "    </tr>\n",
       "  </tbody>\n",
       "</table>\n",
       "<p>15409 rows × 4 columns</p>\n",
       "</div>"
      ],
      "text/plain": [
       "      Country Name Country Code  Year      Value\n",
       "0       Arab World          ARB  1960   92197753\n",
       "1       Arab World          ARB  1961   94724510\n",
       "2       Arab World          ARB  1962   97334442\n",
       "3       Arab World          ARB  1963  100034179\n",
       "4       Arab World          ARB  1964  102832760\n",
       "...            ...          ...   ...        ...\n",
       "15404     Zimbabwe          ZWE  2014   13586681\n",
       "15405     Zimbabwe          ZWE  2015   13814629\n",
       "15406     Zimbabwe          ZWE  2016   14030390\n",
       "15407     Zimbabwe          ZWE  2017   14236745\n",
       "15408     Zimbabwe          ZWE  2018   14439018\n",
       "\n",
       "[15409 rows x 4 columns]"
      ]
     },
     "execution_count": 76,
     "metadata": {},
     "output_type": "execute_result"
    }
   ],
   "source": [
    "data_population"
   ]
  },
  {
   "cell_type": "code",
   "execution_count": 77,
   "id": "cf604143-07a5-4d92-8786-179fe8cc7317",
   "metadata": {
    "tags": []
   },
   "outputs": [
    {
     "data": {
      "text/html": [
       "<div>\n",
       "<style scoped>\n",
       "    .dataframe tbody tr th:only-of-type {\n",
       "        vertical-align: middle;\n",
       "    }\n",
       "\n",
       "    .dataframe tbody tr th {\n",
       "        vertical-align: top;\n",
       "    }\n",
       "\n",
       "    .dataframe thead th {\n",
       "        text-align: right;\n",
       "    }\n",
       "</style>\n",
       "<table border=\"1\" class=\"dataframe\">\n",
       "  <thead>\n",
       "    <tr style=\"text-align: right;\">\n",
       "      <th></th>\n",
       "      <th>Year</th>\n",
       "      <th>Value</th>\n",
       "    </tr>\n",
       "  </thead>\n",
       "  <tbody>\n",
       "    <tr>\n",
       "      <th>count</th>\n",
       "      <td>15409.000000</td>\n",
       "      <td>1.540900e+04</td>\n",
       "    </tr>\n",
       "    <tr>\n",
       "      <th>mean</th>\n",
       "      <td>1989.069764</td>\n",
       "      <td>2.081236e+08</td>\n",
       "    </tr>\n",
       "    <tr>\n",
       "      <th>std</th>\n",
       "      <td>17.031017</td>\n",
       "      <td>6.868312e+08</td>\n",
       "    </tr>\n",
       "    <tr>\n",
       "      <th>min</th>\n",
       "      <td>1960.000000</td>\n",
       "      <td>3.893000e+03</td>\n",
       "    </tr>\n",
       "    <tr>\n",
       "      <th>25%</th>\n",
       "      <td>1974.000000</td>\n",
       "      <td>9.268410e+05</td>\n",
       "    </tr>\n",
       "    <tr>\n",
       "      <th>50%</th>\n",
       "      <td>1989.000000</td>\n",
       "      <td>6.418773e+06</td>\n",
       "    </tr>\n",
       "    <tr>\n",
       "      <th>75%</th>\n",
       "      <td>2004.000000</td>\n",
       "      <td>4.244904e+07</td>\n",
       "    </tr>\n",
       "    <tr>\n",
       "      <th>max</th>\n",
       "      <td>2018.000000</td>\n",
       "      <td>7.594270e+09</td>\n",
       "    </tr>\n",
       "  </tbody>\n",
       "</table>\n",
       "</div>"
      ],
      "text/plain": [
       "               Year         Value\n",
       "count  15409.000000  1.540900e+04\n",
       "mean    1989.069764  2.081236e+08\n",
       "std       17.031017  6.868312e+08\n",
       "min     1960.000000  3.893000e+03\n",
       "25%     1974.000000  9.268410e+05\n",
       "50%     1989.000000  6.418773e+06\n",
       "75%     2004.000000  4.244904e+07\n",
       "max     2018.000000  7.594270e+09"
      ]
     },
     "execution_count": 77,
     "metadata": {},
     "output_type": "execute_result"
    }
   ],
   "source": [
    "data_population.describe()"
   ]
  },
  {
   "cell_type": "markdown",
   "id": "c2e6268d-1dc3-4aed-a235-c3eb295bbcd9",
   "metadata": {
    "tags": []
   },
   "source": [
    "Як бачимо мінімальне значення колонки 'Year' = 1960, а максимальне - 2020. Тому популяція за 1960 - 2020 роки це сама таблиця data_population."
   ]
  },
  {
   "cell_type": "markdown",
   "id": "17a351a5-8953-4f5f-9cbc-681c42a90b44",
   "metadata": {},
   "source": [
    "*Також можна сформувати таблицю за необхідний період часу іншим чином.*"
   ]
  },
  {
   "cell_type": "markdown",
   "id": "bb020f59-e93f-4bc0-a9e4-93c8b1d3fb9a",
   "metadata": {},
   "source": [
    "Створюємо нову таблицю популяції за фільтром інтервалу часу 1960 - 2020."
   ]
  },
  {
   "cell_type": "code",
   "execution_count": 78,
   "id": "947eacd5-d7f4-4183-a482-2d1a76b02e47",
   "metadata": {
    "tags": []
   },
   "outputs": [
    {
     "data": {
      "text/html": [
       "<div>\n",
       "<style scoped>\n",
       "    .dataframe tbody tr th:only-of-type {\n",
       "        vertical-align: middle;\n",
       "    }\n",
       "\n",
       "    .dataframe tbody tr th {\n",
       "        vertical-align: top;\n",
       "    }\n",
       "\n",
       "    .dataframe thead th {\n",
       "        text-align: right;\n",
       "    }\n",
       "</style>\n",
       "<table border=\"1\" class=\"dataframe\">\n",
       "  <thead>\n",
       "    <tr style=\"text-align: right;\">\n",
       "      <th></th>\n",
       "      <th>Country Name</th>\n",
       "      <th>Country Code</th>\n",
       "      <th>Year</th>\n",
       "      <th>Value</th>\n",
       "    </tr>\n",
       "  </thead>\n",
       "  <tbody>\n",
       "    <tr>\n",
       "      <th>0</th>\n",
       "      <td>Arab World</td>\n",
       "      <td>ARB</td>\n",
       "      <td>1960</td>\n",
       "      <td>92197753</td>\n",
       "    </tr>\n",
       "    <tr>\n",
       "      <th>1</th>\n",
       "      <td>Arab World</td>\n",
       "      <td>ARB</td>\n",
       "      <td>1961</td>\n",
       "      <td>94724510</td>\n",
       "    </tr>\n",
       "    <tr>\n",
       "      <th>2</th>\n",
       "      <td>Arab World</td>\n",
       "      <td>ARB</td>\n",
       "      <td>1962</td>\n",
       "      <td>97334442</td>\n",
       "    </tr>\n",
       "    <tr>\n",
       "      <th>3</th>\n",
       "      <td>Arab World</td>\n",
       "      <td>ARB</td>\n",
       "      <td>1963</td>\n",
       "      <td>100034179</td>\n",
       "    </tr>\n",
       "    <tr>\n",
       "      <th>4</th>\n",
       "      <td>Arab World</td>\n",
       "      <td>ARB</td>\n",
       "      <td>1964</td>\n",
       "      <td>102832760</td>\n",
       "    </tr>\n",
       "    <tr>\n",
       "      <th>...</th>\n",
       "      <td>...</td>\n",
       "      <td>...</td>\n",
       "      <td>...</td>\n",
       "      <td>...</td>\n",
       "    </tr>\n",
       "    <tr>\n",
       "      <th>15404</th>\n",
       "      <td>Zimbabwe</td>\n",
       "      <td>ZWE</td>\n",
       "      <td>2014</td>\n",
       "      <td>13586681</td>\n",
       "    </tr>\n",
       "    <tr>\n",
       "      <th>15405</th>\n",
       "      <td>Zimbabwe</td>\n",
       "      <td>ZWE</td>\n",
       "      <td>2015</td>\n",
       "      <td>13814629</td>\n",
       "    </tr>\n",
       "    <tr>\n",
       "      <th>15406</th>\n",
       "      <td>Zimbabwe</td>\n",
       "      <td>ZWE</td>\n",
       "      <td>2016</td>\n",
       "      <td>14030390</td>\n",
       "    </tr>\n",
       "    <tr>\n",
       "      <th>15407</th>\n",
       "      <td>Zimbabwe</td>\n",
       "      <td>ZWE</td>\n",
       "      <td>2017</td>\n",
       "      <td>14236745</td>\n",
       "    </tr>\n",
       "    <tr>\n",
       "      <th>15408</th>\n",
       "      <td>Zimbabwe</td>\n",
       "      <td>ZWE</td>\n",
       "      <td>2018</td>\n",
       "      <td>14439018</td>\n",
       "    </tr>\n",
       "  </tbody>\n",
       "</table>\n",
       "<p>15409 rows × 4 columns</p>\n",
       "</div>"
      ],
      "text/plain": [
       "      Country Name Country Code  Year      Value\n",
       "0       Arab World          ARB  1960   92197753\n",
       "1       Arab World          ARB  1961   94724510\n",
       "2       Arab World          ARB  1962   97334442\n",
       "3       Arab World          ARB  1963  100034179\n",
       "4       Arab World          ARB  1964  102832760\n",
       "...            ...          ...   ...        ...\n",
       "15404     Zimbabwe          ZWE  2014   13586681\n",
       "15405     Zimbabwe          ZWE  2015   13814629\n",
       "15406     Zimbabwe          ZWE  2016   14030390\n",
       "15407     Zimbabwe          ZWE  2017   14236745\n",
       "15408     Zimbabwe          ZWE  2018   14439018\n",
       "\n",
       "[15409 rows x 4 columns]"
      ]
     },
     "execution_count": 78,
     "metadata": {},
     "output_type": "execute_result"
    }
   ],
   "source": [
    "cust_filter = 1960\n",
    "cust_filter2 = 2018\n",
    "data_1960_2020 = data_population.query('Year >= @cust_filter | Year <= @cust_filter2')\n",
    "data_1960_2020"
   ]
  },
  {
   "cell_type": "markdown",
   "id": "733b408a-8c58-447e-a9cb-80d7503bf44c",
   "metadata": {},
   "source": [
    "Можемо перевірити чи правильно були відфільтровані дані за допомогою **set**."
   ]
  },
  {
   "cell_type": "code",
   "execution_count": 79,
   "id": "09630902-4a56-4927-9de3-48d659eec684",
   "metadata": {
    "tags": []
   },
   "outputs": [
    {
     "name": "stdout",
     "output_type": "stream",
     "text": [
      "number of elements  59\n"
     ]
    }
   ],
   "source": [
    "# set - unordered collection of unique elements\n",
    "set1 = set(data_1960_2020['Year'])\n",
    "print('number of elements ', len(set1))"
   ]
  },
  {
   "cell_type": "markdown",
   "id": "55469812-d42c-4da7-942e-6c4c9dd24b0f",
   "metadata": {},
   "source": [
    "**set** - невпорядкована колекція унікальних елементів. Тому можемо дізнатися кількість унікальних значень стовпця \"Рік\" і перевірити чи є серед них значення, які не входять у проміжок 1960 - 2020."
   ]
  },
  {
   "cell_type": "code",
   "execution_count": 80,
   "id": "db375034-208a-417a-979d-95c902eadc1f",
   "metadata": {
    "tags": []
   },
   "outputs": [
    {
     "name": "stdout",
     "output_type": "stream",
     "text": [
      "All elements of set1 are in [1960, 2020]\n"
     ]
    }
   ],
   "source": [
    "count = 0 \n",
    "for element in set1:\n",
    "    if element < 1960 or element > 2020:\n",
    "        # print('{} is not in [1960, 2020]'.format(element))\n",
    "        count += 1\n",
    "        \n",
    "if count == 0:\n",
    "    print('All elements of set1 are in [1960, 2020]')\n",
    "else:\n",
    "    print('{} elements of set1 are NOT in [1960, 2020]'.format(count))  \n"
   ]
  },
  {
   "cell_type": "markdown",
   "id": "2bf3a512-f006-4ac3-9069-5dc32c9b96bc",
   "metadata": {},
   "source": [
    "*Отже, таблиця популяції за 1960 - 2020 представлена як* **data_1960_2020**."
   ]
  },
  {
   "cell_type": "code",
   "execution_count": 81,
   "id": "5cfaf9a6-1ff7-4f8f-8101-553bd514cb13",
   "metadata": {
    "tags": []
   },
   "outputs": [],
   "source": [
    "if not os.path.exists('./tables and graphs'):\n",
    "    os.mkdir('./tables and graphs')"
   ]
  },
  {
   "cell_type": "code",
   "execution_count": 82,
   "id": "86769d1d-4e9f-4ad5-ada7-eace3be62da8",
   "metadata": {
    "tags": []
   },
   "outputs": [],
   "source": [
    "data_1960_2020.to_csv(\"./tables and graphs/data_1960_2020.csv\", index=False)"
   ]
  },
  {
   "cell_type": "code",
   "execution_count": 83,
   "id": "02a425c4-4db9-4443-b062-8803a2717942",
   "metadata": {
    "tags": []
   },
   "outputs": [],
   "source": [
    "data_1960_2020.to_excel(\"./tables and graphs/data_1960_2020.xlsx\", sheet_name=\"Sheet1\", index=False)"
   ]
  },
  {
   "cell_type": "code",
   "execution_count": 84,
   "id": "21cf1086-edb1-41fc-925b-35e982810add",
   "metadata": {
    "tags": []
   },
   "outputs": [],
   "source": [
    "data_1960_2020.to_json(path_or_buf=\"./tables and graphs/data_1960_2020.json\", orient=\"split\")"
   ]
  },
  {
   "cell_type": "markdown",
   "id": "35fe5f71-173c-4acc-ad3c-adada7c421dd",
   "metadata": {},
   "source": [
    "* ### Графіки"
   ]
  },
  {
   "cell_type": "markdown",
   "id": "7d3ce299-b87b-4581-a8b1-b72148606630",
   "metadata": {},
   "source": [
    "Покажемо на графіках топ найменших за популяцією країн. Для цього спочатку згрупуємо дані за стовпчиком **'Country Name'** та просумуємо за стовпчиком **'Value'**. Відсортуємо у порядку зростання. В **'top'** запишемо перші n країн. Наприклад, перші 5."
   ]
  },
  {
   "cell_type": "code",
   "execution_count": 85,
   "id": "1857bec8-c10e-4760-80aa-bc5283ba1c44",
   "metadata": {
    "tags": []
   },
   "outputs": [],
   "source": [
    "count = 5 # count of countries for the top\n",
    "grouped_df = data_1960_2020.groupby('Country Name')['Value'].sum()\n",
    "top = grouped_df.sort_values(ascending=True).head(count)"
   ]
  },
  {
   "cell_type": "markdown",
   "id": "6f5ec9b4-c988-4597-b0f1-01fe12392d3c",
   "metadata": {},
   "source": [
    "1. #### Лінійний графік"
   ]
  },
  {
   "cell_type": "code",
   "execution_count": 86,
   "id": "48bd7774-edaf-4989-9f52-de2a0a8051f1",
   "metadata": {
    "tags": []
   },
   "outputs": [
    {
     "data": {
      "image/png": "[encoded data removed]",
      "text/plain": [
       "<Figure size 750x483.333 with 1 Axes>"
      ]
     },
     "metadata": {},
     "output_type": "display_data"
    }
   ],
   "source": [
    "fig, ax = plt.subplots(figsize=(count*1.5, count/1.5+1.5))\n",
    "res = top.plot(x=\"Year\", y=\"Value\", color=\"mediumslateblue\", ylabel='Value', title=\"Line graph \\n \", marker=\".\", markersize=10).get_figure()\n",
    "\n",
    "plt.title('Line graph \\n \"Top-'f'{count}' ' smallest countries \\n (by value of population)\"')\n",
    "plt.ylabel('$ Value $')\n",
    "plt.xlabel('$ Country \\ Name $')\n",
    "res.savefig('./tables and graphs/line1_population.png', bbox_inches='tight')\n",
    "# plt.legend(bbox_to_anchor=(1,1), loc=\"upper left\")"
   ]
  },
  {
   "cell_type": "markdown",
   "id": "4e271a4b-756f-4ac9-bd90-63aaa20f144d",
   "metadata": {},
   "source": []
  },
  {
   "cell_type": "markdown",
   "id": "78632472-5d50-49c4-b7ca-f7531b1ab821",
   "metadata": {},
   "source": [
    "2. #### Кругова діаграма"
   ]
  },
  {
   "cell_type": "code",
   "execution_count": 87,
   "id": "dce160be-d220-4625-858e-ccc651595dc7",
   "metadata": {
    "tags": []
   },
   "outputs": [
    {
     "data": {
      "image/png": "[encoded data removed]",
      "text/plain": [
       "<Figure size 640x480 with 1 Axes>"
      ]
     },
     "metadata": {},
     "output_type": "display_data"
    }
   ],
   "source": [
    "list_exp = [0.05 for i in range(count)]\n",
    "explode = tuple(list_exp)\n",
    "\n",
    "colors = ['lavender', 'lightcyan', 'honeydew', 'lightyellow', 'bisque', 'mistyrose',  'whitesmoke'] \n",
    "\n",
    "res = top.plot(kind='pie', y = 'Value', autopct='%1.1f%%', explode=explode, ylabel = '',colors = colors, shadow=False).get_figure()\n",
    "\n",
    "plt.title('Pie \\n \"Top-'f'{count}' ' smallest countries \\n (by value of population)\"')\n",
    "#plt.legend(bbox_to_anchor=(1,1), loc=\"upper left\")\n",
    "\n",
    "res.savefig('./tables and graphs/pie1_population.png', bbox_inches='tight')"
   ]
  },
  {
   "cell_type": "markdown",
   "id": "680a01de-db54-46b9-8be3-13c71b082479",
   "metadata": {},
   "source": [
    "3. #### Стовпчаста діаграма"
   ]
  },
  {
   "cell_type": "code",
   "execution_count": 88,
   "id": "1d2c736e-06ba-4c1a-9037-8d4efd7fc95d",
   "metadata": {
    "tags": []
   },
   "outputs": [
    {
     "data": {
      "image/png": "[encoded data removed]",
      "text/plain": [
       "<Figure size 750x333.333 with 1 Axes>"
      ]
     },
     "metadata": {},
     "output_type": "display_data"
    }
   ],
   "source": [
    "#names_coutry = [top.index[i] for i in range(len(top))]\n",
    "\n",
    "fig, ax = plt.subplots(figsize=(count*1.5, count/1.5))\n",
    "\n",
    "#color_rectangle = np.random.rand(count, 3)    # RGB\n",
    "color_rectangle = [\n",
    "    [0.57745045, 0.51609339, 0.71706274],\n",
    "    [0.56698063, 0.71535438, 0.75541086],\n",
    "    [0.41062479, 0.8407867,  0.87001545],\n",
    "    [0.82670165, 0.96549147, 0.59721125],\n",
    "    [0.9737108,  0.96112498, 0.56562821] ]\n",
    "\n",
    "res = top.plot(kind = 'bar', x=\"Country Name\", y=\"Value\", label=\"Value\", color = color_rectangle).get_figure()\n",
    "ax.tick_params(axis='x', labelrotation=40)\n",
    "plt.title('Bar \\n \"Top-'f'{count}' ' smallest countries \\n (by value of population)\"')\n",
    "plt.ylabel('Value')\n",
    "plt.xlabel('Country Name')\n",
    "res.savefig('./tables and graphs/bar1_population.png', bbox_inches='tight')"
   ]
  },
  {
   "cell_type": "markdown",
   "id": "eea7d5d3-3904-4bec-8603-8cff2ab40041",
   "metadata": {},
   "source": [
    "### Task 2 Показати в табличному вигляді основні стаститичні величини: min, max, mean, квантіли 25%, 75%, 95%."
   ]
  },
  {
   "cell_type": "code",
   "execution_count": 97,
   "id": "da7a8e24-70ff-4aaa-9969-dab935dad2f8",
   "metadata": {
    "tags": []
   },
   "outputs": [
    {
     "data": {
      "text/html": [
       "<div>\n",
       "<style scoped>\n",
       "    .dataframe tbody tr th:only-of-type {\n",
       "        vertical-align: middle;\n",
       "    }\n",
       "\n",
       "    .dataframe tbody tr th {\n",
       "        vertical-align: top;\n",
       "    }\n",
       "\n",
       "    .dataframe thead th {\n",
       "        text-align: right;\n",
       "    }\n",
       "</style>\n",
       "<table border=\"1\" class=\"dataframe\">\n",
       "  <thead>\n",
       "    <tr style=\"text-align: right;\">\n",
       "      <th></th>\n",
       "      <th>Year</th>\n",
       "      <th>Value</th>\n",
       "    </tr>\n",
       "  </thead>\n",
       "  <tbody>\n",
       "    <tr>\n",
       "      <th>count</th>\n",
       "      <td>15409.000000</td>\n",
       "      <td>1.540900e+04</td>\n",
       "    </tr>\n",
       "    <tr>\n",
       "      <th>mean</th>\n",
       "      <td>1989.069764</td>\n",
       "      <td>2.081236e+08</td>\n",
       "    </tr>\n",
       "    <tr>\n",
       "      <th>std</th>\n",
       "      <td>17.031017</td>\n",
       "      <td>6.868312e+08</td>\n",
       "    </tr>\n",
       "    <tr>\n",
       "      <th>min</th>\n",
       "      <td>1960.000000</td>\n",
       "      <td>3.893000e+03</td>\n",
       "    </tr>\n",
       "    <tr>\n",
       "      <th>25%</th>\n",
       "      <td>1974.000000</td>\n",
       "      <td>9.268410e+05</td>\n",
       "    </tr>\n",
       "    <tr>\n",
       "      <th>50%</th>\n",
       "      <td>1989.000000</td>\n",
       "      <td>6.418773e+06</td>\n",
       "    </tr>\n",
       "    <tr>\n",
       "      <th>75%</th>\n",
       "      <td>2004.000000</td>\n",
       "      <td>4.244904e+07</td>\n",
       "    </tr>\n",
       "    <tr>\n",
       "      <th>max</th>\n",
       "      <td>2018.000000</td>\n",
       "      <td>7.594270e+09</td>\n",
       "    </tr>\n",
       "  </tbody>\n",
       "</table>\n",
       "</div>"
      ],
      "text/plain": [
       "               Year         Value\n",
       "count  15409.000000  1.540900e+04\n",
       "mean    1989.069764  2.081236e+08\n",
       "std       17.031017  6.868312e+08\n",
       "min     1960.000000  3.893000e+03\n",
       "25%     1974.000000  9.268410e+05\n",
       "50%     1989.000000  6.418773e+06\n",
       "75%     2004.000000  4.244904e+07\n",
       "max     2018.000000  7.594270e+09"
      ]
     },
     "execution_count": 97,
     "metadata": {},
     "output_type": "execute_result"
    }
   ],
   "source": [
    "data_population = pd.read_csv('../src/population/population.csv')\n",
    "data_population.describe()"
   ]
  },
  {
   "cell_type": "code",
   "execution_count": 101,
   "id": "3af0b055-7d29-4bbf-9085-36f411517a44",
   "metadata": {
    "tags": []
   },
   "outputs": [
    {
     "data": {
      "text/html": [
       "<div>\n",
       "<style scoped>\n",
       "    .dataframe tbody tr th:only-of-type {\n",
       "        vertical-align: middle;\n",
       "    }\n",
       "\n",
       "    .dataframe tbody tr th {\n",
       "        vertical-align: top;\n",
       "    }\n",
       "\n",
       "    .dataframe thead th {\n",
       "        text-align: right;\n",
       "    }\n",
       "</style>\n",
       "<table border=\"1\" class=\"dataframe\">\n",
       "  <thead>\n",
       "    <tr style=\"text-align: right;\">\n",
       "      <th></th>\n",
       "      <th>Country</th>\n",
       "      <th>Country ID</th>\n",
       "      <th>Year</th>\n",
       "      <th>PPP</th>\n",
       "    </tr>\n",
       "  </thead>\n",
       "  <tbody>\n",
       "    <tr>\n",
       "      <th>0</th>\n",
       "      <td>Lebanon</td>\n",
       "      <td>LB</td>\n",
       "      <td>2021</td>\n",
       "      <td>3410.356913</td>\n",
       "    </tr>\n",
       "    <tr>\n",
       "      <th>1</th>\n",
       "      <td>Lebanon</td>\n",
       "      <td>LB</td>\n",
       "      <td>2020</td>\n",
       "      <td>1420.823934</td>\n",
       "    </tr>\n",
       "    <tr>\n",
       "      <th>2</th>\n",
       "      <td>Lebanon</td>\n",
       "      <td>LB</td>\n",
       "      <td>2019</td>\n",
       "      <td>780.221488</td>\n",
       "    </tr>\n",
       "    <tr>\n",
       "      <th>3</th>\n",
       "      <td>Lebanon</td>\n",
       "      <td>LB</td>\n",
       "      <td>2018</td>\n",
       "      <td>755.856521</td>\n",
       "    </tr>\n",
       "    <tr>\n",
       "      <th>4</th>\n",
       "      <td>Lebanon</td>\n",
       "      <td>LB</td>\n",
       "      <td>2017</td>\n",
       "      <td>734.775880</td>\n",
       "    </tr>\n",
       "  </tbody>\n",
       "</table>\n",
       "</div>"
      ],
      "text/plain": [
       "   Country Country ID  Year          PPP\n",
       "0  Lebanon         LB  2021  3410.356913\n",
       "1  Lebanon         LB  2020  1420.823934\n",
       "2  Lebanon         LB  2019   780.221488\n",
       "3  Lebanon         LB  2018   755.856521\n",
       "4  Lebanon         LB  2017   734.775880"
      ]
     },
     "execution_count": 101,
     "metadata": {},
     "output_type": "execute_result"
    }
   ],
   "source": [
    "data_ppp = pd.read_csv('../src/ppp/ppp-gdp.csv')\n",
    "data_ppp.head()"
   ]
  },
  {
   "cell_type": "code",
   "execution_count": 102,
   "id": "faca20bd-6651-4a72-b8f1-7634eade29a8",
   "metadata": {
    "tags": []
   },
   "outputs": [
    {
     "data": {
      "text/html": [
       "<div>\n",
       "<style scoped>\n",
       "    .dataframe tbody tr th:only-of-type {\n",
       "        vertical-align: middle;\n",
       "    }\n",
       "\n",
       "    .dataframe tbody tr th {\n",
       "        vertical-align: top;\n",
       "    }\n",
       "\n",
       "    .dataframe thead th {\n",
       "        text-align: right;\n",
       "    }\n",
       "</style>\n",
       "<table border=\"1\" class=\"dataframe\">\n",
       "  <thead>\n",
       "    <tr style=\"text-align: right;\">\n",
       "      <th></th>\n",
       "      <th>Year</th>\n",
       "      <th>PPP</th>\n",
       "    </tr>\n",
       "  </thead>\n",
       "  <tbody>\n",
       "    <tr>\n",
       "      <th>count</th>\n",
       "      <td>6011.000000</td>\n",
       "      <td>6.011000e+03</td>\n",
       "    </tr>\n",
       "    <tr>\n",
       "      <th>mean</th>\n",
       "      <td>2005.898686</td>\n",
       "      <td>1.879394e+02</td>\n",
       "    </tr>\n",
       "    <tr>\n",
       "      <th>std</th>\n",
       "      <td>9.120850</td>\n",
       "      <td>1.067238e+03</td>\n",
       "    </tr>\n",
       "    <tr>\n",
       "      <th>min</th>\n",
       "      <td>1990.000000</td>\n",
       "      <td>7.336060e-10</td>\n",
       "    </tr>\n",
       "    <tr>\n",
       "      <th>25%</th>\n",
       "      <td>1998.000000</td>\n",
       "      <td>8.734769e-01</td>\n",
       "    </tr>\n",
       "    <tr>\n",
       "      <th>50%</th>\n",
       "      <td>2006.000000</td>\n",
       "      <td>2.753295e+00</td>\n",
       "    </tr>\n",
       "    <tr>\n",
       "      <th>75%</th>\n",
       "      <td>2014.000000</td>\n",
       "      <td>4.448685e+01</td>\n",
       "    </tr>\n",
       "    <tr>\n",
       "      <th>max</th>\n",
       "      <td>2021.000000</td>\n",
       "      <td>4.607246e+04</td>\n",
       "    </tr>\n",
       "  </tbody>\n",
       "</table>\n",
       "</div>"
      ],
      "text/plain": [
       "              Year           PPP\n",
       "count  6011.000000  6.011000e+03\n",
       "mean   2005.898686  1.879394e+02\n",
       "std       9.120850  1.067238e+03\n",
       "min    1990.000000  7.336060e-10\n",
       "25%    1998.000000  8.734769e-01\n",
       "50%    2006.000000  2.753295e+00\n",
       "75%    2014.000000  4.448685e+01\n",
       "max    2021.000000  4.607246e+04"
      ]
     },
     "execution_count": 102,
     "metadata": {},
     "output_type": "execute_result"
    }
   ],
   "source": [
    "data_ppp.describe()"
   ]
  },
  {
   "cell_type": "code",
   "execution_count": 127,
   "id": "1f6aacb6-cdee-4a1c-bc7c-1d0122693356",
   "metadata": {
    "tags": []
   },
   "outputs": [],
   "source": [
    "files_oil = os.listdir('../src/oil-prices')\n",
    "files_oil_csv = [file for file in files_oil if '.csv' in file]\n",
    "#files_oil_csv                 "
   ]
  },
  {
   "cell_type": "code",
   "execution_count": 128,
   "id": "3c410810-f135-442e-8861-161dab5d1a79",
   "metadata": {
    "tags": []
   },
   "outputs": [
    {
     "name": "stdout",
     "output_type": "stream",
     "text": [
      "[('wti-year', '.csv'), ('wti-daily', '.csv'), ('wti-weekly', '.csv'), ('brent-daily', '.csv'), ('brent-year', '.csv'), ('wti-monthly', '.csv'), ('brent-monthly', '.csv'), ('brent-weekly', '.csv')]\n"
     ]
    }
   ],
   "source": [
    "fn_parts = [os.path.splitext(files_oil_csv[i]) for i in range(len(files_oil_csv))]\n",
    "print(fn_parts)\n",
    "\n",
    "fn_name = fn_parts[0]"
   ]
  },
  {
   "cell_type": "markdown",
   "id": "b76a628d-10b7-48bb-995e-9d7090d54f77",
   "metadata": {},
   "source": [
    "    fn_parts = os.path.splitext(filename_json)\n",
    "    fn_name = fn_parts[0]\n",
    "    filename_xlsx = fn_name + '_pandas.xlsx'"
   ]
  },
  {
   "cell_type": "code",
   "execution_count": 117,
   "id": "994e1c17-621d-479f-b429-4468e533c5ea",
   "metadata": {
    "tags": []
   },
   "outputs": [
    {
     "name": "stdout",
     "output_type": "stream",
     "text": [
      "../src/oil-prices/wti-year.csv\n"
     ]
    },
    {
     "data": {
      "text/html": [
       "<style type=\"text/css\">\n",
       "</style>\n",
       "<table id=\"T_c10b6\">\n",
       "  <thead>\n",
       "    <tr>\n",
       "      <th class=\"blank level0\" >&nbsp;</th>\n",
       "      <th id=\"T_c10b6_level0_col0\" class=\"col_heading level0 col0\" >Date</th>\n",
       "      <th id=\"T_c10b6_level0_col1\" class=\"col_heading level0 col1\" >Price</th>\n",
       "    </tr>\n",
       "  </thead>\n",
       "  <tbody>\n",
       "    <tr>\n",
       "      <th id=\"T_c10b6_level0_row0\" class=\"row_heading level0 row0\" >0</th>\n",
       "      <td id=\"T_c10b6_row0_col0\" class=\"data row0 col0\" >1986-06-30</td>\n",
       "      <td id=\"T_c10b6_row0_col1\" class=\"data row0 col1\" >15.050000</td>\n",
       "    </tr>\n",
       "    <tr>\n",
       "      <th id=\"T_c10b6_level0_row1\" class=\"row_heading level0 row1\" >1</th>\n",
       "      <td id=\"T_c10b6_row1_col0\" class=\"data row1 col0\" >1987-06-30</td>\n",
       "      <td id=\"T_c10b6_row1_col1\" class=\"data row1 col1\" >19.200000</td>\n",
       "    </tr>\n",
       "    <tr>\n",
       "      <th id=\"T_c10b6_level0_row2\" class=\"row_heading level0 row2\" >2</th>\n",
       "      <td id=\"T_c10b6_row2_col0\" class=\"data row2 col0\" >1988-06-30</td>\n",
       "      <td id=\"T_c10b6_row2_col1\" class=\"data row2 col1\" >15.970000</td>\n",
       "    </tr>\n",
       "  </tbody>\n",
       "</table>\n"
      ],
      "text/plain": [
       "<pandas.io.formats.style.Styler at 0x7f235af2a230>"
      ]
     },
     "execution_count": 117,
     "metadata": {},
     "output_type": "execute_result"
    }
   ],
   "source": [
    "join_path = os.path.join('../src/oil-prices', files_oil_csv[0])\n",
    "print(join_path)\n",
    "\n",
    "df1_oil = pd.read_csv(join_path)\n",
    "(df1_oil.head(3)).style"
   ]
  },
  {
   "cell_type": "code",
   "execution_count": 147,
   "id": "782d05fc-5425-42ca-97bf-fc3d41623f18",
   "metadata": {
    "tags": []
   },
   "outputs": [
    {
     "name": "stdout",
     "output_type": "stream",
     "text": [
      "# 1 ../src/oil-prices/wti-year.csv\n",
      ".head(3):\n",
      "         Date  Price\n",
      "0  1986-06-30  15.05\n",
      "1  1987-06-30  19.20\n",
      "2  1988-06-30  15.97\n",
      "\n",
      ".describe():\n",
      "           Price\n",
      "count  37.000000\n",
      "mean   46.096216\n",
      "std    28.904254\n",
      "min    14.420000\n",
      "25%    20.580000\n",
      "50%    39.160000\n",
      "75%    66.050000\n",
      "max    99.670000\n",
      "\n",
      "# 2 ../src/oil-prices/wti-daily.csv\n",
      ".head(3):\n",
      "         Date  Price\n",
      "0  1986-01-02  25.56\n",
      "1  1986-01-03  26.00\n",
      "2  1986-01-06  26.53\n",
      "\n",
      ".describe():\n",
      "             Price\n",
      "count  9347.000000\n",
      "mean     46.116338\n",
      "std      29.600880\n",
      "min     -36.980000\n",
      "25%      19.990000\n",
      "50%      36.060000\n",
      "75%      67.360000\n",
      "max     145.310000\n",
      "\n",
      "# 3 ../src/oil-prices/wti-weekly.csv\n",
      ".head(3):\n",
      "         Date  Price\n",
      "0  1986-01-03  25.78\n",
      "1  1986-01-10  25.99\n",
      "2  1986-01-17  24.57\n",
      "\n",
      ".describe():\n",
      "             Price\n",
      "count  1936.000000\n",
      "mean     46.150511\n",
      "std      29.562021\n",
      "min       3.320000\n",
      "25%      19.990000\n",
      "50%      36.645000\n",
      "75%      67.535000\n",
      "max     142.520000\n",
      "\n",
      "# 4 ../src/oil-prices/brent-daily.csv\n",
      ".head(3):\n",
      "         Date  Price\n",
      "0  1987-05-20  18.63\n",
      "1  1987-05-21  18.45\n",
      "2  1987-05-22  18.55\n",
      "\n",
      ".describe():\n",
      "             Price\n",
      "count  9066.000000\n",
      "mean     48.631736\n",
      "std      32.874360\n",
      "min       9.100000\n",
      "25%      19.080000\n",
      "50%      39.410000\n",
      "75%      70.720000\n",
      "max     143.950000\n",
      "\n",
      "# 5 ../src/oil-prices/brent-year.csv\n",
      ".head(3):\n",
      "         Date  Price\n",
      "0  1987-06-30  18.53\n",
      "1  1988-06-30  14.91\n",
      "2  1989-06-30  18.23\n",
      "\n",
      ".describe():\n",
      "            Price\n",
      "count   36.000000\n",
      "mean    48.351944\n",
      "std     32.390897\n",
      "min     12.760000\n",
      "25%     19.267500\n",
      "50%     40.110000\n",
      "75%     70.980000\n",
      "max    111.630000\n",
      "\n",
      "# 6 ../src/oil-prices/wti-monthly.csv\n",
      ".head(3):\n",
      "         Date  Price\n",
      "0  1986-01-15  22.93\n",
      "1  1986-02-15  15.46\n",
      "2  1986-03-15  12.61\n",
      "\n",
      ".describe():\n",
      "            Price\n",
      "count  445.000000\n",
      "mean    46.127326\n",
      "std     29.515293\n",
      "min     11.350000\n",
      "25%     19.950000\n",
      "50%     36.040000\n",
      "75%     67.730000\n",
      "max    133.880000\n",
      "\n",
      "# 7 ../src/oil-prices/brent-monthly.csv\n",
      ".head(3):\n",
      "         Date  Price\n",
      "0  1987-05-15  18.58\n",
      "1  1987-06-15  18.86\n",
      "2  1987-07-15  19.86\n",
      "\n",
      ".describe():\n",
      "            Price\n",
      "count  429.000000\n",
      "mean    48.671585\n",
      "std     32.933488\n",
      "min      9.820000\n",
      "25%     19.020000\n",
      "50%     39.600000\n",
      "75%     71.230000\n",
      "max    132.720000\n",
      "\n",
      "# 8 ../src/oil-prices/brent-weekly.csv\n",
      ".head(3):\n",
      "         Date  Price\n",
      "0  1987-05-15  18.58\n",
      "1  1987-05-22  18.54\n",
      "2  1987-05-29  18.60\n",
      "\n",
      ".describe():\n",
      "             Price\n",
      "count  1865.000000\n",
      "mean     48.709357\n",
      "std      32.972446\n",
      "min       9.440000\n",
      "25%      19.070000\n",
      "50%      39.450000\n",
      "75%      71.020000\n",
      "max     141.070000\n",
      "\n"
     ]
    }
   ],
   "source": [
    "df_descr = [] \n",
    "for i in range(len(files_oil_csv)):\n",
    "\n",
    "    join_path = os.path.join('../src/oil-prices', files_oil_csv[i])\n",
    "    print('#', i+1, join_path)\n",
    "\n",
    "    df_oil = pd.read_csv(join_path)\n",
    "    \n",
    "    print('.head(3):\\n{}'.format(df_oil.head(3)))\n",
    "    df_descr.append(df_oil.describe())\n",
    "    print('\\n.describe():\\n{}'.format(df_oil.describe()))\n",
    "    \n",
    "    print()\n"
   ]
  },
  {
   "cell_type": "code",
   "execution_count": 150,
   "id": "19bd563b-1caa-4b2a-bbfa-c401aac09631",
   "metadata": {
    "tags": []
   },
   "outputs": [
    {
     "data": {
      "text/html": [
       "<div>\n",
       "<style scoped>\n",
       "    .dataframe tbody tr th:only-of-type {\n",
       "        vertical-align: middle;\n",
       "    }\n",
       "\n",
       "    .dataframe tbody tr th {\n",
       "        vertical-align: top;\n",
       "    }\n",
       "\n",
       "    .dataframe thead th {\n",
       "        text-align: right;\n",
       "    }\n",
       "</style>\n",
       "<table border=\"1\" class=\"dataframe\">\n",
       "  <thead>\n",
       "    <tr style=\"text-align: right;\">\n",
       "      <th></th>\n",
       "      <th>Price</th>\n",
       "    </tr>\n",
       "  </thead>\n",
       "  <tbody>\n",
       "    <tr>\n",
       "      <th>count</th>\n",
       "      <td>37.000000</td>\n",
       "    </tr>\n",
       "    <tr>\n",
       "      <th>mean</th>\n",
       "      <td>46.096216</td>\n",
       "    </tr>\n",
       "    <tr>\n",
       "      <th>std</th>\n",
       "      <td>28.904254</td>\n",
       "    </tr>\n",
       "    <tr>\n",
       "      <th>min</th>\n",
       "      <td>14.420000</td>\n",
       "    </tr>\n",
       "    <tr>\n",
       "      <th>25%</th>\n",
       "      <td>20.580000</td>\n",
       "    </tr>\n",
       "    <tr>\n",
       "      <th>50%</th>\n",
       "      <td>39.160000</td>\n",
       "    </tr>\n",
       "    <tr>\n",
       "      <th>75%</th>\n",
       "      <td>66.050000</td>\n",
       "    </tr>\n",
       "    <tr>\n",
       "      <th>max</th>\n",
       "      <td>99.670000</td>\n",
       "    </tr>\n",
       "  </tbody>\n",
       "</table>\n",
       "</div>"
      ],
      "text/plain": [
       "           Price\n",
       "count  37.000000\n",
       "mean   46.096216\n",
       "std    28.904254\n",
       "min    14.420000\n",
       "25%    20.580000\n",
       "50%    39.160000\n",
       "75%    66.050000\n",
       "max    99.670000"
      ]
     },
     "execution_count": 150,
     "metadata": {},
     "output_type": "execute_result"
    }
   ],
   "source": [
    "df_descr[0]"
   ]
  },
  {
   "cell_type": "code",
   "execution_count": null,
   "id": "4e11e95c-c7f4-426b-9713-c750c3efca55",
   "metadata": {},
   "outputs": [],
   "source": []
  },
  {
   "cell_type": "code",
   "execution_count": null,
   "id": "2f815258-faf1-4aa6-a7df-4522e3b9c6cc",
   "metadata": {},
   "outputs": [],
   "source": []
  },
  {
   "cell_type": "raw",
   "id": "2e7b46f9-04b2-4dc2-9267-427de1ca2f54",
   "metadata": {
    "tags": []
   },
   "source": [
    "if __name__ == \"__main__\":\n",
    "    plt.plot([1, 2, 3], [2, 4, 3])\n",
    "    plt.show()\n",
    "    "
   ]
  },
  {
   "cell_type": "code",
   "execution_count": null,
   "id": "475a8110-65ae-475c-acc0-c9078a4bc7ec",
   "metadata": {},
   "outputs": [],
   "source": []
  }
 ],
 "metadata": {
  "kernelspec": {
   "display_name": "Python 3 (ipykernel)",
   "language": "python",
   "name": "python3"
  },
  "language_info": {
   "codemirror_mode": {
    "name": "ipython",
    "version": 3
   },
   "file_extension": ".py",
   "mimetype": "text/x-python",
   "name": "python",
   "nbconvert_exporter": "python",
   "pygments_lexer": "ipython3",
   "version": "3.10.10"
  }
 },
 "nbformat": 4,
 "nbformat_minor": 5
}
